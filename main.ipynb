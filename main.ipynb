{
 "cells": [
  {
   "cell_type": "markdown",
   "metadata": {},
   "source": [
    "# Homework 5 - Explore Wikipedia's hyperlinks network"
   ]
  },
  {
   "cell_type": "markdown",
   "metadata": {},
   "source": [
    "## Data handling"
   ]
  },
  {
   "cell_type": "code",
   "execution_count": 1,
   "metadata": {},
   "outputs": [],
   "source": [
    "import scripts.functionality as funcs\n",
    "from scripts.graph import Graph\n",
    "import pandas as pd\n",
    "from collections import defaultdict\n",
    "from scripts.graph import Graph"
   ]
  },
  {
   "cell_type": "code",
   "execution_count": 2,
   "metadata": {},
   "outputs": [],
   "source": [
    "%load_ext autoreload\n",
    "%autoreload 2"
   ]
  },
  {
   "cell_type": "code",
   "execution_count": 3,
   "metadata": {},
   "outputs": [],
   "source": [
    "link_dict = funcs.read_graph()\n",
    "link_dict = defaultdict(set, link_dict)"
   ]
  },
  {
   "cell_type": "markdown",
   "metadata": {},
   "source": [
    "##### Read Data and save to json"
   ]
  },
  {
   "cell_type": "code",
   "execution_count": 4,
   "metadata": {},
   "outputs": [],
   "source": [
    "pages_category = funcs.read_pages_category(filename='data/wiki-topcats-categories.txt')\n",
    "funcs.write_json('data/page_category.json', pages_category)"
   ]
  },
  {
   "cell_type": "code",
   "execution_count": 5,
   "metadata": {},
   "outputs": [],
   "source": [
    "name_page = funcs.read_name_page(filename='data/wiki-topcats-page-names.txt')\n",
    "funcs.write_json('data/name_page.json', name_page)"
   ]
  },
  {
   "cell_type": "markdown",
   "metadata": {},
   "source": [
    "##### Read data from json"
   ]
  },
  {
   "cell_type": "code",
   "execution_count": 6,
   "metadata": {},
   "outputs": [],
   "source": [
    "# pages_category: Key is the category, and value is a list of integers which is associated to a set of articles\n",
    "# name_page: Key is an integer that identifies the article. The value associated is the name of the article\n",
    "\n",
    "pages_category = funcs.read_json('data/page_category.json')\n",
    "name_page = funcs.read_json_int_key('data/name_page.json')"
   ]
  },
  {
   "cell_type": "markdown",
   "metadata": {},
   "source": [
    "As we are asked in the assignment, we should pick only the pages' categories that have more than 5,000 and less than 30,000 pages. To do this, we call the function `apply_category_constraint`: "
   ]
  },
  {
   "cell_type": "code",
   "execution_count": 7,
   "metadata": {},
   "outputs": [],
   "source": [
    "# Remove the categories whose number of articles is less than 5,000 or more than 30,000\n",
    "pages_category = funcs.apply_category_constraint(pages_category)"
   ]
  },
  {
   "cell_type": "markdown",
   "metadata": {},
   "source": [
    "<br>\n",
    "As a second step in the data preprocessing, we notice that an article can belong to more than one category. Since we want an article to belong exactly to one category, we consider the category index, we revert it in order to get the mapping between each article and the category it belongs to and finally, for each article, retain only one category chosen uniformely at random."
   ]
  },
  {
   "cell_type": "code",
   "execution_count": 8,
   "metadata": {
    "scrolled": true
   },
   "outputs": [],
   "source": [
    "# Find articles assigned to multiple categories\n",
    "article_category = funcs.revert_dict_list(pages_category)"
   ]
  },
  {
   "cell_type": "code",
   "execution_count": 9,
   "metadata": {},
   "outputs": [],
   "source": [
    "# Randomly pick one category for each article\n",
    "unique_category = funcs.uniformly_pick_article_category(article_category)"
   ]
  },
  {
   "cell_type": "markdown",
   "metadata": {},
   "source": [
    "After the category preprocessing, we save the result into a `JSON` file."
   ]
  },
  {
   "cell_type": "code",
   "execution_count": 10,
   "metadata": {},
   "outputs": [],
   "source": [
    "# Revert back from articles to categories\n",
    "final_pages_category = funcs.revert_dict(unique_category)\n",
    "funcs.write_json('data/final_pages_category.json', final_pages_category)"
   ]
  },
  {
   "cell_type": "markdown",
   "metadata": {},
   "source": [
    "In the end, the number of categories we are going to work with is:"
   ]
  },
  {
   "cell_type": "code",
   "execution_count": 11,
   "metadata": {},
   "outputs": [],
   "source": [
    "pages_category = funcs.read_json('data/final_pages_category.json')"
   ]
  },
  {
   "cell_type": "code",
   "execution_count": 12,
   "metadata": {},
   "outputs": [
    {
     "data": {
      "text/plain": [
       "21"
      ]
     },
     "execution_count": 12,
     "metadata": {},
     "output_type": "execute_result"
    }
   ],
   "source": [
    "len(pages_category.keys())"
   ]
  },
  {
   "cell_type": "markdown",
   "metadata": {},
   "source": [
    "<br>\n",
    "\n",
    "## Question 1 ~ Build the graph"
   ]
  },
  {
   "cell_type": "markdown",
   "metadata": {},
   "source": [
    "As the first step, we build the graph leveraging the custom Graph class we defined:"
   ]
  },
  {
   "cell_type": "code",
   "execution_count": 13,
   "metadata": {},
   "outputs": [],
   "source": [
    "g = Graph.from_dict(link_dict)"
   ]
  },
  {
   "cell_type": "markdown",
   "metadata": {},
   "source": [
    "#### Is the graph directed?\n",
    "\n",
    "The graph is directed, since each node corresponds to a Wikipedia article and each edge corresponds to a web link from an article to another."
   ]
  },
  {
   "cell_type": "markdown",
   "metadata": {},
   "source": [
    "#### How many articles are we considering?\n",
    "\n",
    "The number of articles we are considering is equal to the number of nodes in the graph, that is the number of nodes which appear in our reduced dataset."
   ]
  },
  {
   "cell_type": "code",
   "execution_count": 14,
   "metadata": {},
   "outputs": [
    {
     "name": "stdout",
     "output_type": "stream",
     "text": [
      "Number of articles:\t98343\n"
     ]
    }
   ],
   "source": [
    "print(f'Number of articles:\\t{g.n_vertices_}')"
   ]
  },
  {
   "cell_type": "markdown",
   "metadata": {},
   "source": [
    "#### How many hyperlinks between pages exist?\n",
    "\n",
    "The number of hyperlinks between the pages is equal to the number of edges in the graph."
   ]
  },
  {
   "cell_type": "code",
   "execution_count": 15,
   "metadata": {},
   "outputs": [
    {
     "name": "stdout",
     "output_type": "stream",
     "text": [
      "Number of hyperlinks:\t483094\n"
     ]
    }
   ],
   "source": [
    "print(f'Number of hyperlinks:\\t{g.n_edges_}')"
   ]
  },
  {
   "cell_type": "markdown",
   "metadata": {},
   "source": [
    "#### Compute the average number of links in an arbitrary page\n",
    "\n",
    "The average number of links in an arbitrary page is simply equal to the fraction of the number of links over the number of vertices."
   ]
  },
  {
   "cell_type": "code",
   "execution_count": 16,
   "metadata": {},
   "outputs": [
    {
     "name": "stdout",
     "output_type": "stream",
     "text": [
      "Average number of links in an arbitrary page:\t4.912\n"
     ]
    }
   ],
   "source": [
    "print(f'Average number of links in an arbitrary page:\\t{round(g.n_edges_ / g.n_vertices_,3)}')"
   ]
  },
  {
   "cell_type": "markdown",
   "metadata": {},
   "source": [
    "#### What is the graph density? Do you believe that the graph is dense or sparse? Is the graph dense?\n",
    "\n",
    "The density of a graph is the ratio between the effective number of edges in the graph and the maximum number of possible edges of the graph. That is, let $\\mathbf{G}(V, E)$ a directed graph, where $V$ is the set of nodes of the graph and $E$ is the set of edges. Then the density is:\n",
    "\n",
    "$$D=\\frac{|E|}{2{V\\choose 2}}=\\frac{|E|}{|V|\\cdot \\left(|V| - 1\\right)}$$\n",
    "\n",
    "A graph is said to be *dense* if $D\\approx 1$. It is said to be *sparse* if $D\\approx 0$.\n",
    "\n",
    "We now compute the density of the our graph."
   ]
  },
  {
   "cell_type": "code",
   "execution_count": 17,
   "metadata": {},
   "outputs": [
    {
     "name": "stdout",
     "output_type": "stream",
     "text": [
      "Density of the graph:\t4.995e-05\n"
     ]
    }
   ],
   "source": [
    "print(f'Density of the graph:\\t{g.density_}')"
   ]
  },
  {
   "cell_type": "markdown",
   "metadata": {},
   "source": [
    "The magnitude order of the density of the graph is order of 10<sup>-4</sup>, then it is a sparse graph."
   ]
  },
  {
   "cell_type": "markdown",
   "metadata": {},
   "source": [
    "#### Visualize the nodes' degree distribution\n",
    "\n",
    "The nodes' degree distribution shows how many vertices the graph has with degree d. \n",
    "\n",
    "For the graph we are analysing, the degree distribution is the following:"
   ]
  },
  {
   "cell_type": "code",
   "execution_count": 18,
   "metadata": {
    "scrolled": false
   },
   "outputs": [
    {
     "data": {
      "image/png": "[encoded data removed]",
      "text/plain": [
       "<Figure size 1152x720 with 1 Axes>"
      ]
     },
     "metadata": {
      "needs_background": "light"
     },
     "output_type": "display_data"
    }
   ],
   "source": [
    "g.plot_degree_distro(normalize=True, log=True)"
   ]
  },
  {
   "cell_type": "markdown",
   "metadata": {},
   "source": [
    "<br>\n",
    "\n",
    "## Question2 ~ Pages reached in given number of clicks\n",
    "\n",
    "For this question we have used the same principle as the **BFS**, but have slightly modified it so that we could keep track of the pages seen in a set of clicks. "
   ]
  },
  {
   "cell_type": "code",
   "execution_count": 15,
   "metadata": {},
   "outputs": [],
   "source": [
    "pages_seen = g.pages_in_click(initial_page=95, num_clicks=5)"
   ]
  },
  {
   "cell_type": "code",
   "execution_count": 20,
   "metadata": {},
   "outputs": [
    {
     "data": {
      "text/plain": [
       "[1245201,\n",
       " 655377,\n",
       " 1245212,\n",
       " 655392,\n",
       " 1376294,\n",
       " 1376295,\n",
       " 1048636,\n",
       " 1048637,\n",
       " 1048638,\n",
       " 65596,\n",
       " 1048648,\n",
       " 1048658,\n",
       " 1048660,\n",
       " 1179733,\n",
       " 655451,\n",
       " 655471,\n",
       " 1245303,\n",
       " 1048710,\n",
       " 1179783,\n",
       " 1179786]"
      ]
     },
     "execution_count": 20,
     "metadata": {},
     "output_type": "execute_result"
    }
   ],
   "source": [
    "pages_seen[:20]"
   ]
  },
  {
   "cell_type": "code",
   "execution_count": 19,
   "metadata": {},
   "outputs": [
    {
     "name": "stdout",
     "output_type": "stream",
     "text": [
      "Total number of articles visited: \u001b[1m 16726 \u001b[0m\n"
     ]
    }
   ],
   "source": [
    "print('Total number of articles visited:', '\\033[1m', len(pages_seen), '\\033[0m')"
   ]
  },
  {
   "cell_type": "markdown",
   "metadata": {},
   "source": [
    "<br>\n",
    "\n",
    "## Question 3"
   ]
  },
  {
   "cell_type": "code",
   "execution_count": 19,
   "metadata": {},
   "outputs": [],
   "source": [
    "categories = funcs.read_graph_category(g)"
   ]
  },
  {
   "cell_type": "code",
   "execution_count": 20,
   "metadata": {},
   "outputs": [
    {
     "data": {
      "text/plain": [
       "[('American_film_actors', 9134),\n",
       " ('American_films', 7473),\n",
       " ('American_television_actors', 6438),\n",
       " ('Association_football_defenders', 2146),\n",
       " ('Association_football_forwards', 2490),\n",
       " ('Association_football_midfielders', 2769),\n",
       " ('Asteroids_named_for_people', 2329),\n",
       " ('Black-and-white_films', 5208),\n",
       " ('Debut_albums', 2553),\n",
       " ('English-language_films', 13401),\n",
       " ('English_footballers', 3605),\n",
       " ('Harvard_University_alumni', 2963),\n",
       " ('Indian_films', 2729),\n",
       " ('Main_Belt_asteroids', 8669),\n",
       " ('Major_League_Baseball_pitchers', 3307),\n",
       " ('Members_of_the_United_Kingdom_Parliament_for_English_constituencies', 6430),\n",
       " ('Place_of_birth_missing_(living_people)', 2543),\n",
       " ('Rivers_of_Romania', 7662),\n",
       " ('The_Football_League_players', 3645),\n",
       " ('Year_of_birth_missing', 1487),\n",
       " ('Year_of_death_missing', 1362)]"
      ]
     },
     "execution_count": 20,
     "metadata": {},
     "output_type": "execute_result"
    }
   ],
   "source": [
    "[(c,len(categories[c])) for c in categories.keys()]"
   ]
  },
  {
   "cell_type": "code",
   "execution_count": 21,
   "metadata": {},
   "outputs": [
    {
     "data": {
      "text/plain": [
       "'Harvard_University_alumni'"
      ]
     },
     "execution_count": 21,
     "metadata": {},
     "output_type": "execute_result"
    }
   ],
   "source": [
    "import random\n",
    "category = list(categories.keys())[random.randint(0, 20)]\n",
    "category"
   ]
  },
  {
   "cell_type": "code",
   "execution_count": 22,
   "metadata": {},
   "outputs": [
    {
     "name": "stderr",
     "output_type": "stream",
     "text": [
      "100%|██████████| 2963/2963 [05:49<00:00,  8.49it/s]\n"
     ]
    },
    {
     "name": "stdout",
     "output_type": "stream",
     "text": [
      "1130480\n",
      "Not possible!\n"
     ]
    }
   ],
   "source": [
    "g.minimum_cat_walk(categories[category])"
   ]
  },
  {
   "cell_type": "markdown",
   "metadata": {},
   "source": [
    "<br>\n",
    "\n",
    "## Question4 ~ Min Max Cut Algorithm"
   ]
  },
  {
   "cell_type": "markdown",
   "metadata": {},
   "source": [
    "The algorithm used for this approach is the max flow algorithm, specifically using the Ford–Fulkerson algorithm, i.e. the augmented paths that we inspect to find the max flow are not generated randomly (this would be the Edmonds–Karp algorithm) but they are generated using the BFS approach. \n",
    "\n",
    "The main idea behind this algorithm is to compute the maximum capacity we can push from one node (source) to another (sink). It can be proven that this capacity is equal to the minimum number of edges required to disconnect source and sink. We will re-use this approach to obtain the minimum number of edges to cut, and also the exact set of edges required for this purpose. \n",
    "\n",
    "The algorithm works as follows:\n",
    "\n",
    "1. Construct capacity of the graph (in our unweighted graph we will  have capacity of 1 between all connected edges). The same algorithm also applies for weighted graphs.\n",
    "2. Find shortest path/flow between source and sink using BFS.\n",
    "3. Reduce the capacity of the edges through which we have set the first flow.\n",
    "4. Repeat BFS algorithm, but this time taking into account that we cannot cross an edge with capacity 0.\n",
    "5. Whenever the BFS algorithm is stopped due to the fact that the capacity is 0, we will store this \"funnel_edge\" since this edge will allow us to disconnect source and sink.\n",
    "6. This is repeated until no more BFS paths can be found. The final edges are computed considering funnel edges, and paths without funnel edges."
   ]
  },
  {
   "cell_type": "code",
   "execution_count": 21,
   "metadata": {},
   "outputs": [],
   "source": [
    "category1 = 'Living_people'\n",
    "category2 = 'American_film_actors'\n",
    "\n",
    "random_articles = set(final_pages_category[category1] + \n",
    "                      final_pages_category[category2])"
   ]
  },
  {
   "cell_type": "code",
   "execution_count": 88,
   "metadata": {},
   "outputs": [],
   "source": [
    "induced_subgraph = g.generate_induced_subgraph(random_articles)"
   ]
  },
  {
   "cell_type": "code",
   "execution_count": 114,
   "metadata": {},
   "outputs": [
    {
     "name": "stdout",
     "output_type": "stream",
     "text": [
      "===================\n",
      "Flow: [1057994, 1061853, 1061905, 1062335, 1060969, 1062597, 1062380]\n",
      "===================\n",
      "[[1057994, 1061853, 1061905, 1062335, 1060969, 1062597, 1062380]]\n"
     ]
    },
    {
     "data": {
      "text/plain": [
       "[]"
      ]
     },
     "execution_count": 114,
     "metadata": {},
     "output_type": "execute_result"
    }
   ],
   "source": [
    "edges_to_cut, min_cut = induced_subgraph.max_flow_func(1057994, 1062380)\n",
    "print('Edges to be cut:', edges_to_cut)"
   ]
  },
  {
   "cell_type": "markdown",
   "metadata": {},
   "source": [
    "<br>\n",
    "\n",
    "## Question 5 ~ Sort categories"
   ]
  },
  {
   "cell_type": "markdown",
   "metadata": {},
   "source": [
    "In this task we are asked to sort all other categories according to their distances from a given category. The distance between two categories is defined as the median of the distances between each pair of nodes in the two categories.\n",
    "\n",
    "As a first step, we load the categories of the graph:"
   ]
  },
  {
   "cell_type": "code",
   "execution_count": 23,
   "metadata": {},
   "outputs": [],
   "source": [
    "categories = funcs.read_graph_category(g)"
   ]
  },
  {
   "cell_type": "markdown",
   "metadata": {},
   "source": [
    "At this point, we compute the category distances:"
   ]
  },
  {
   "cell_type": "code",
   "execution_count": 24,
   "metadata": {
    "scrolled": true
   },
   "outputs": [
    {
     "name": "stderr",
     "output_type": "stream",
     "text": [
      "100%|██████████| 2963/2963 [05:49<00:00,  8.47it/s]\n"
     ]
    }
   ],
   "source": [
    "sorted_cat = g.category_distance(category, categories)"
   ]
  },
  {
   "cell_type": "markdown",
   "metadata": {},
   "source": [
    "Since the list can be very long, we visualize only the first 15 elements, i.e. the 15 nearest categories:"
   ]
  },
  {
   "cell_type": "code",
   "execution_count": 25,
   "metadata": {
    "scrolled": false
   },
   "outputs": [
    {
     "data": {
      "text/plain": [
       "[array(['American_film_actors', '8.0'], dtype='<U67'),\n",
       " array(['American_films', '8.0'], dtype='<U67'),\n",
       " array(['American_television_actors', '8.0'], dtype='<U67'),\n",
       " array(['Members_of_the_United_Kingdom_Parliament_for_English_constituencies',\n",
       "        '9.0'], dtype='<U67'),\n",
       " array(['Black-and-white_films', '9.0'], dtype='<U67'),\n",
       " array(['English-language_films', '9.0'], dtype='<U67'),\n",
       " array(['Rivers_of_Romania', '13.0'], dtype='<U67'),\n",
       " array(['Asteroids_named_for_people', 'inf'], dtype='<U67'),\n",
       " array(['Association_football_forwards', 'inf'], dtype='<U67'),\n",
       " array(['Debut_albums', 'inf'], dtype='<U67'),\n",
       " array(['Year_of_birth_missing', 'inf'], dtype='<U67'),\n",
       " array(['English_footballers', 'inf'], dtype='<U67'),\n",
       " array(['Indian_films', 'inf'], dtype='<U67'),\n",
       " array(['Main_Belt_asteroids', 'inf'], dtype='<U67'),\n",
       " array(['Major_League_Baseball_pitchers', 'inf'], dtype='<U67'),\n",
       " array(['Association_football_defenders', 'inf'], dtype='<U67'),\n",
       " array(['Place_of_birth_missing_(living_people)', 'inf'], dtype='<U67'),\n",
       " array(['The_Football_League_players', 'inf'], dtype='<U67'),\n",
       " array(['Association_football_midfielders', 'inf'], dtype='<U67'),\n",
       " array(['Year_of_death_missing', 'inf'], dtype='<U67')]"
      ]
     },
     "execution_count": 25,
     "metadata": {},
     "output_type": "execute_result"
    }
   ],
   "source": [
    "sorted_cat"
   ]
  },
  {
   "cell_type": "markdown",
   "metadata": {},
   "source": [
    "The results above are computed with the Dijkstra algorithm ($O((V+E)\\log V)$). The results below are computed with the BFS ($O(V+E)$). "
   ]
  },
  {
   "cell_type": "markdown",
   "metadata": {},
   "source": [
    "<br>\n",
    "\n",
    "## Question6 ~ PageRank\n",
    "\n",
    "The first step for this algorithm is to model our graph based on the categories, i.e. we will convert our graph, that is at article level, into a weigthed and directed graph at category level. In order to do this we will compute the number of articles from one category that link to articles from another category. Doing this over all articles we can get our final category network.\n",
    "\n",
    "Once this is done we will apply the RageRank algorithm over this graph, which works as following:\n",
    "\n",
    "1. Compute the probability of starting out at any category (all categories will have the same initial probability)\n",
    "2. Compute a matrix (since it would result in a sparse matrix we have decided to convert it into a dictionary, but the principle is the same) which given a catgory, computes the probability of acutally reaching that category from its neighbouring categories (this matrix will be represented as X for our purpose).\n",
    "3. Multiplying this matrix over the initial probabilities of being at a certain category, and iterating over this multiplication until convergence, we can compute the final PageRank score as follows:\n",
    "\n",
    "\\begin{align}\n",
    "PR(x)^{t+1} = \\frac{1-\\lambda}{N} + \\lambda*\\bigg(\\sum_{y -> x}\\frac{PR^{t}(y)}{X(y)} \\bigg)\n",
    "\\end{align}\n",
    "\n",
    "where we apply this over all nodes. The can be interpreted as the sum over all y nodes that have an inlink to the node x.\n",
    "\n",
    "Convergence is reached when $PR(t+1) \\approx PR(t)$  "
   ]
  },
  {
   "cell_type": "code",
   "execution_count": 29,
   "metadata": {},
   "outputs": [],
   "source": [
    "category_graph_weighted = g.category_model_network_weighted(unique_category)"
   ]
  },
  {
   "cell_type": "code",
   "execution_count": 45,
   "metadata": {},
   "outputs": [
    {
     "name": "stdout",
     "output_type": "stream",
     "text": [
      "Converged in 45 iterations\n"
     ]
    }
   ],
   "source": [
    "page_rank_score = g.page_rank(category_graph_weighted, max_iter = 1000, tolerance=.0000001, top=50)"
   ]
  },
  {
   "cell_type": "code",
   "execution_count": 46,
   "metadata": {},
   "outputs": [
    {
     "data": {
      "text/html": [
       "<div>\n",
       "<style scoped>\n",
       "    .dataframe tbody tr th:only-of-type {\n",
       "        vertical-align: middle;\n",
       "    }\n",
       "\n",
       "    .dataframe tbody tr th {\n",
       "        vertical-align: top;\n",
       "    }\n",
       "\n",
       "    .dataframe thead th {\n",
       "        text-align: right;\n",
       "    }\n",
       "</style>\n",
       "<table border=\"1\" class=\"dataframe\">\n",
       "  <thead>\n",
       "    <tr style=\"text-align: right;\">\n",
       "      <th></th>\n",
       "      <th>Page Rank Score</th>\n",
       "    </tr>\n",
       "  </thead>\n",
       "  <tbody>\n",
       "    <tr>\n",
       "      <th>Living_people</th>\n",
       "      <td>0.039134</td>\n",
       "    </tr>\n",
       "    <tr>\n",
       "      <th>American_film_actors</th>\n",
       "      <td>0.035795</td>\n",
       "    </tr>\n",
       "    <tr>\n",
       "      <th>English-language_films</th>\n",
       "      <td>0.026047</td>\n",
       "    </tr>\n",
       "    <tr>\n",
       "      <th>American_television_actors</th>\n",
       "      <td>0.021057</td>\n",
       "    </tr>\n",
       "    <tr>\n",
       "      <th>American_films</th>\n",
       "      <td>0.019200</td>\n",
       "    </tr>\n",
       "    <tr>\n",
       "      <th>Members_of_the_United_Kingdom_Parliament_for_English_constituencies</th>\n",
       "      <td>0.009954</td>\n",
       "    </tr>\n",
       "    <tr>\n",
       "      <th>Black-and-white_films</th>\n",
       "      <td>0.008471</td>\n",
       "    </tr>\n",
       "    <tr>\n",
       "      <th>The_Football_League_players</th>\n",
       "      <td>0.007691</td>\n",
       "    </tr>\n",
       "    <tr>\n",
       "      <th>American_stage_actors</th>\n",
       "      <td>0.007250</td>\n",
       "    </tr>\n",
       "    <tr>\n",
       "      <th>English_footballers</th>\n",
       "      <td>0.006679</td>\n",
       "    </tr>\n",
       "    <tr>\n",
       "      <th>Harvard_University_alumni</th>\n",
       "      <td>0.006133</td>\n",
       "    </tr>\n",
       "    <tr>\n",
       "      <th>American_silent_film_actors</th>\n",
       "      <td>0.006065</td>\n",
       "    </tr>\n",
       "    <tr>\n",
       "      <th>Main_Belt_asteroids</th>\n",
       "      <td>0.004792</td>\n",
       "    </tr>\n",
       "    <tr>\n",
       "      <th>Year_of_birth_missing</th>\n",
       "      <td>0.004535</td>\n",
       "    </tr>\n",
       "    <tr>\n",
       "      <th>American_voice_actors</th>\n",
       "      <td>0.004509</td>\n",
       "    </tr>\n",
       "    <tr>\n",
       "      <th>Year_of_death_missing</th>\n",
       "      <td>0.004127</td>\n",
       "    </tr>\n",
       "    <tr>\n",
       "      <th>Association_football_forwards</th>\n",
       "      <td>0.004007</td>\n",
       "    </tr>\n",
       "    <tr>\n",
       "      <th>Conservative_Party_(UK)_MPs</th>\n",
       "      <td>0.003924</td>\n",
       "    </tr>\n",
       "    <tr>\n",
       "      <th>Association_football_midfielders</th>\n",
       "      <td>0.003891</td>\n",
       "    </tr>\n",
       "    <tr>\n",
       "      <th>Major_League_Baseball_pitchers</th>\n",
       "      <td>0.003833</td>\n",
       "    </tr>\n",
       "    <tr>\n",
       "      <th>England_international_footballers</th>\n",
       "      <td>0.003627</td>\n",
       "    </tr>\n",
       "    <tr>\n",
       "      <th>American_people_of_Irish_descent</th>\n",
       "      <td>0.003221</td>\n",
       "    </tr>\n",
       "    <tr>\n",
       "      <th>Premier_League_players</th>\n",
       "      <td>0.003218</td>\n",
       "    </tr>\n",
       "    <tr>\n",
       "      <th>English_football_managers</th>\n",
       "      <td>0.003198</td>\n",
       "    </tr>\n",
       "    <tr>\n",
       "      <th>American_film_directors</th>\n",
       "      <td>0.003083</td>\n",
       "    </tr>\n",
       "    <tr>\n",
       "      <th>Actors_from_California</th>\n",
       "      <td>0.003055</td>\n",
       "    </tr>\n",
       "    <tr>\n",
       "      <th>American_child_actors</th>\n",
       "      <td>0.002989</td>\n",
       "    </tr>\n",
       "    <tr>\n",
       "      <th>Members_of_the_Privy_Council_of_the_United_Kingdom</th>\n",
       "      <td>0.002880</td>\n",
       "    </tr>\n",
       "    <tr>\n",
       "      <th>Rivers_of_Romania</th>\n",
       "      <td>0.002867</td>\n",
       "    </tr>\n",
       "    <tr>\n",
       "      <th>Deaths_from_myocardial_infarction</th>\n",
       "      <td>0.002590</td>\n",
       "    </tr>\n",
       "    <tr>\n",
       "      <th>American_Jews</th>\n",
       "      <td>0.002438</td>\n",
       "    </tr>\n",
       "    <tr>\n",
       "      <th>Place_of_birth_missing_(living_people)</th>\n",
       "      <td>0.002322</td>\n",
       "    </tr>\n",
       "    <tr>\n",
       "      <th>Actors_from_New_York_City</th>\n",
       "      <td>0.002322</td>\n",
       "    </tr>\n",
       "    <tr>\n",
       "      <th>American_drama_films</th>\n",
       "      <td>0.002219</td>\n",
       "    </tr>\n",
       "    <tr>\n",
       "      <th>Association_football_defenders</th>\n",
       "      <td>0.002187</td>\n",
       "    </tr>\n",
       "    <tr>\n",
       "      <th>American_comedy_films</th>\n",
       "      <td>0.002164</td>\n",
       "    </tr>\n",
       "    <tr>\n",
       "      <th>Emmy_Award_winners</th>\n",
       "      <td>0.002114</td>\n",
       "    </tr>\n",
       "    <tr>\n",
       "      <th>American_people_of_German_descent</th>\n",
       "      <td>0.002038</td>\n",
       "    </tr>\n",
       "    <tr>\n",
       "      <th>Liberal_Party_(UK)_MPs</th>\n",
       "      <td>0.002009</td>\n",
       "    </tr>\n",
       "    <tr>\n",
       "      <th>Vaudeville_performers</th>\n",
       "      <td>0.001970</td>\n",
       "    </tr>\n",
       "    <tr>\n",
       "      <th>Warner_Bros._films</th>\n",
       "      <td>0.001917</td>\n",
       "    </tr>\n",
       "    <tr>\n",
       "      <th>Universal_Pictures_films</th>\n",
       "      <td>0.001905</td>\n",
       "    </tr>\n",
       "    <tr>\n",
       "      <th>Debut_albums</th>\n",
       "      <td>0.001898</td>\n",
       "    </tr>\n",
       "    <tr>\n",
       "      <th>20th_Century_Fox_films</th>\n",
       "      <td>0.001889</td>\n",
       "    </tr>\n",
       "    <tr>\n",
       "      <th>People_from_New_York_City</th>\n",
       "      <td>0.001883</td>\n",
       "    </tr>\n",
       "    <tr>\n",
       "      <th>Metro-Goldwyn-Mayer_films</th>\n",
       "      <td>0.001882</td>\n",
       "    </tr>\n",
       "    <tr>\n",
       "      <th>Paramount_Pictures_films</th>\n",
       "      <td>0.001862</td>\n",
       "    </tr>\n",
       "    <tr>\n",
       "      <th>Independent_films</th>\n",
       "      <td>0.001846</td>\n",
       "    </tr>\n",
       "    <tr>\n",
       "      <th>Films_based_on_novels</th>\n",
       "      <td>0.001822</td>\n",
       "    </tr>\n",
       "    <tr>\n",
       "      <th>La_Liga_footballers</th>\n",
       "      <td>0.001810</td>\n",
       "    </tr>\n",
       "    <tr>\n",
       "      <th>American_comedians</th>\n",
       "      <td>0.001789</td>\n",
       "    </tr>\n",
       "  </tbody>\n",
       "</table>\n",
       "</div>"
      ],
      "text/plain": [
       "                                                    Page Rank Score\n",
       "Living_people                                              0.039134\n",
       "American_film_actors                                       0.035795\n",
       "English-language_films                                     0.026047\n",
       "American_television_actors                                 0.021057\n",
       "American_films                                             0.019200\n",
       "Members_of_the_United_Kingdom_Parliament_for_En...         0.009954\n",
       "Black-and-white_films                                      0.008471\n",
       "The_Football_League_players                                0.007691\n",
       "American_stage_actors                                      0.007250\n",
       "English_footballers                                        0.006679\n",
       "Harvard_University_alumni                                  0.006133\n",
       "American_silent_film_actors                                0.006065\n",
       "Main_Belt_asteroids                                        0.004792\n",
       "Year_of_birth_missing                                      0.004535\n",
       "American_voice_actors                                      0.004509\n",
       "Year_of_death_missing                                      0.004127\n",
       "Association_football_forwards                              0.004007\n",
       "Conservative_Party_(UK)_MPs                                0.003924\n",
       "Association_football_midfielders                           0.003891\n",
       "Major_League_Baseball_pitchers                             0.003833\n",
       "England_international_footballers                          0.003627\n",
       "American_people_of_Irish_descent                           0.003221\n",
       "Premier_League_players                                     0.003218\n",
       "English_football_managers                                  0.003198\n",
       "American_film_directors                                    0.003083\n",
       "Actors_from_California                                     0.003055\n",
       "American_child_actors                                      0.002989\n",
       "Members_of_the_Privy_Council_of_the_United_Kingdom         0.002880\n",
       "Rivers_of_Romania                                          0.002867\n",
       "Deaths_from_myocardial_infarction                          0.002590\n",
       "American_Jews                                              0.002438\n",
       "Place_of_birth_missing_(living_people)                     0.002322\n",
       "Actors_from_New_York_City                                  0.002322\n",
       "American_drama_films                                       0.002219\n",
       "Association_football_defenders                             0.002187\n",
       "American_comedy_films                                      0.002164\n",
       "Emmy_Award_winners                                         0.002114\n",
       "American_people_of_German_descent                          0.002038\n",
       "Liberal_Party_(UK)_MPs                                     0.002009\n",
       "Vaudeville_performers                                      0.001970\n",
       "Warner_Bros._films                                         0.001917\n",
       "Universal_Pictures_films                                   0.001905\n",
       "Debut_albums                                               0.001898\n",
       "20th_Century_Fox_films                                     0.001889\n",
       "People_from_New_York_City                                  0.001883\n",
       "Metro-Goldwyn-Mayer_films                                  0.001882\n",
       "Paramount_Pictures_films                                   0.001862\n",
       "Independent_films                                          0.001846\n",
       "Films_based_on_novels                                      0.001822\n",
       "La_Liga_footballers                                        0.001810\n",
       "American_comedians                                         0.001789"
      ]
     },
     "execution_count": 46,
     "metadata": {},
     "output_type": "execute_result"
    }
   ],
   "source": [
    "page_rank_score"
   ]
  }
 ],
 "metadata": {
  "kernelspec": {
   "display_name": "Python 3",
   "language": "python",
   "name": "python3"
  },
  "language_info": {
   "codemirror_mode": {
    "name": "ipython",
    "version": 3
   },
   "file_extension": ".py",
   "mimetype": "text/x-python",
   "name": "python",
   "nbconvert_exporter": "python",
   "pygments_lexer": "ipython3",
   "version": "3.7.9"
  }
 },
 "nbformat": 4,
 "nbformat_minor": 4
}
