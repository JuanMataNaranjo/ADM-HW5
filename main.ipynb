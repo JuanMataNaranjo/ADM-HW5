{
 "cells": [
  {
   "cell_type": "markdown",
   "metadata": {},
   "source": [
    "# Homework 5 - Explore Wikipedia's hyperlinks network"
   ]
  },
  {
   "cell_type": "markdown",
   "metadata": {},
   "source": [
    "## Data handling"
   ]
  },
  {
   "cell_type": "code",
   "execution_count": 1,
   "metadata": {},
   "outputs": [],
   "source": [
    "import functionality as funcs\n",
    "import pandas as pd\n",
    "from collections import defaultdict\n",
    "from scripts.graph import Graph"
   ]
  },
  {
   "cell_type": "code",
   "execution_count": 2,
   "metadata": {},
   "outputs": [],
   "source": [
    "%load_ext autoreload\n",
    "%autoreload 2"
   ]
  },
  {
   "cell_type": "code",
   "execution_count": 3,
   "metadata": {},
   "outputs": [],
   "source": [
    "link_dict = funcs.read_graph()\n",
    "link_dict = defaultdict(int, link_dict)"
   ]
  },
  {
   "cell_type": "markdown",
   "metadata": {},
   "source": [
    "##### Read Data and save to json"
   ]
  },
  {
   "cell_type": "code",
   "execution_count": 4,
   "metadata": {},
   "outputs": [],
   "source": [
    "pages_category = funcs.read_pages_category(filename='data/wiki-topcats-categories.txt')\n",
    "funcs.write_json('data/page_category.json', pages_category)"
   ]
  },
  {
   "cell_type": "code",
   "execution_count": 5,
   "metadata": {},
   "outputs": [],
   "source": [
    "name_page = funcs.read_name_page(filename='data/wiki-topcats-page-names.txt')\n",
    "funcs.write_json('data/name_page.json', name_page)"
   ]
  },
  {
   "cell_type": "markdown",
   "metadata": {},
   "source": [
    "##### Read data from json"
   ]
  },
  {
   "cell_type": "code",
   "execution_count": 6,
   "metadata": {},
   "outputs": [],
   "source": [
    "# pages_category: Key is the category, and value is a list of integers which is associated to a set of articles\n",
    "# name_page: Key is an integer that identifies the article. The value associated is the name of the article\n",
    "\n",
    "pages_category = funcs.read_json('data/page_category.json')\n",
    "name_page = funcs.read_json_int_key('data/name_page.json')"
   ]
  },
  {
   "cell_type": "markdown",
   "metadata": {},
   "source": [
    "##### Understanding the data\n",
    "\n",
    "- Edge_ID seems to be unique. This is the main reason for which we think it is the unique edge identifier\n",
    "- From pages_category we have a set of category names (e.g. Members_of_the_Parliament_of_Great_Britain_for_Scottish_constituencies). These are the keys of the dictionary.\n",
    "- The values in each of these keys are the pages contained in this category (e.g. '34683')\n",
    "- The actual name of this page can be found in the dictionary name_page (the result seems to be a page somewhat related to that specific category)"
   ]
  },
  {
   "cell_type": "code",
   "execution_count": 7,
   "metadata": {
    "scrolled": true
   },
   "outputs": [],
   "source": [
    "# Find articles assigned to multiple categories\n",
    "article_category = funcs.revert_dict_list(pages_category)"
   ]
  },
  {
   "cell_type": "code",
   "execution_count": 8,
   "metadata": {},
   "outputs": [],
   "source": [
    "# Randomly pick one category for each article\n",
    "unique_category = funcs.uniformly_pick_article_category(article_category)"
   ]
  },
  {
   "cell_type": "code",
   "execution_count": 9,
   "metadata": {},
   "outputs": [],
   "source": [
    "# Revert back from articles to categories\n",
    "final_pages_category = funcs.revert_dict(unique_category)\n",
    "funcs.write_json('data/final_pages_category.json', final_pages_category)"
   ]
  },
  {
   "cell_type": "markdown",
   "metadata": {},
   "source": [
    "<br>\n",
    "\n",
    "## Question 1 ~ Build the graph"
   ]
  },
  {
   "cell_type": "markdown",
   "metadata": {},
   "source": [
    "As the first step, we build the graph leveraging the custom Graph class we defined:"
   ]
  },
  {
   "cell_type": "code",
   "execution_count": 4,
   "metadata": {},
   "outputs": [],
   "source": [
    "g = Graph.from_dict(link_dict)"
   ]
  },
  {
   "cell_type": "markdown",
   "metadata": {},
   "source": [
    "#### Is the graph directed?\n",
    "\n",
    "The graph is directed, since each node corresponds to a Wikipedia article and each edge corresponds to a web link from an article to another."
   ]
  },
  {
   "cell_type": "markdown",
   "metadata": {},
   "source": [
    "#### How many articles are we considering?\n",
    "\n",
    "The number of articles we are considering is equal to the number of nodes in the graph, that is the number of nodes which appear in our reduced dataset."
   ]
  },
  {
   "cell_type": "code",
   "execution_count": 5,
   "metadata": {},
   "outputs": [
    {
     "name": "stdout",
     "output_type": "stream",
     "text": [
      "Number of articles:\t98343\n"
     ]
    }
   ],
   "source": [
    "print(f'Number of articles:\\t{g.n_vertices_}')"
   ]
  },
  {
   "cell_type": "markdown",
   "metadata": {},
   "source": [
    "#### How many hyperlinks between pages exist?\n",
    "\n",
    "The number of hyperlinks between the pages is equal to the number of edges in the graph."
   ]
  },
  {
   "cell_type": "code",
   "execution_count": 6,
   "metadata": {},
   "outputs": [
    {
     "name": "stdout",
     "output_type": "stream",
     "text": [
      "Number of hyperlinks:\t483094\n"
     ]
    }
   ],
   "source": [
    "print(f'Number of hyperlinks:\\t{g.n_edges_}')"
   ]
  },
  {
   "cell_type": "markdown",
   "metadata": {},
   "source": [
    "#### Compute the average number of links in an arbitrary page\n",
    "\n",
    "The average number of links in an arbitrary page is simply equal to the fraction of the number of links over the number of vertices."
   ]
  },
  {
   "cell_type": "code",
   "execution_count": 7,
   "metadata": {},
   "outputs": [
    {
     "name": "stdout",
     "output_type": "stream",
     "text": [
      "Average number of links in an arbitrary page:\t4.912\n"
     ]
    }
   ],
   "source": [
    "print(f'Average number of links in an arbitrary page:\\t{round(g.n_edges_ / g.n_vertices_,3)}')"
   ]
  },
  {
   "cell_type": "markdown",
   "metadata": {},
   "source": [
    "#### What is the graph density? Do you believe that the graph is dense or sparse? Is the graph dense?\n",
    "\n",
    "The density of a graph is the ratio between the effective number of edges in the graph and the maximum number of possible edges of the graph. That is, let $\\mathbf{G}(V, E)$ a directed graph, where $V$ is the set of nodes of the graph and $E$ is the set of edges. Then the density is:\n",
    "\n",
    "$$D=\\frac{|E|}{2{V\\choose 2}}=\\frac{|E|}{|V|\\cdot \\left(|V| - 1\\right)}$$\n",
    "\n",
    "A graph is said to be *dense* if $D\\approx 1$. Otherwise, it is said *sparse* if $D\\approx 0$.\n",
    "\n",
    "We now compute the density of the our graph."
   ]
  },
  {
   "cell_type": "code",
   "execution_count": 8,
   "metadata": {},
   "outputs": [
    {
     "name": "stdout",
     "output_type": "stream",
     "text": [
      "Density of the graph:\t4.995e-05\n"
     ]
    }
   ],
   "source": [
    "print(f'Density of the graph:\\t{g.density_}')"
   ]
  },
  {
   "cell_type": "markdown",
   "metadata": {},
   "source": [
    "The magnitude order of the density of the graph is order of 10<sup>-4</sup>, then it is a sparse graph."
   ]
  },
  {
   "cell_type": "markdown",
   "metadata": {},
   "source": [
    "#### Visualize the nodes' degree distribution\n",
    "\n",
    "The nodes' degree distribution shows how many vertices the graph has with degree d. \n",
    "\n",
    "For the graph we are analysing, the degree distribution is the following:"
   ]
  },
  {
   "cell_type": "code",
   "execution_count": 21,
   "metadata": {
    "scrolled": false
   },
   "outputs": [
    {
     "data": {
      "application/vnd.plotly.v1+json": {
       "config": {
        "plotlyServerURL": "https://plot.ly"
       },
       "data": [
        {
         "alignmentgroup": "True",
         "bingroup": "x",
         "histfunc": "sum",
         "hovertemplate": "Degree=%{x}<br>sum of Normalized number of nodes=%{y}<extra></extra>",
         "legendgroup": "",
         "marker": {
          "color": "#636efa"
         },
         "name": "",
         "offsetgroup": "",
         "orientation": "v",
         "showlegend": false,
         "type": "histogram",
         "x": [
          1,
          3,
          9,
          14,
          4,
          15,
          11,
          2,
          19,
          7,
          5,
          10,
          13,
          18,
          22,
          16,
          6,
          29,
          8,
          12,
          20,
          24,
          25,
          17,
          28,
          49,
          32,
          26,
          21,
          30,
          44,
          73,
          39,
          27,
          23,
          48,
          36,
          43,
          77,
          41,
          31,
          37,
          33,
          56,
          34,
          52,
          45,
          47,
          76,
          54,
          65,
          35,
          110,
          70,
          40,
          50,
          46,
          62,
          58,
          81,
          57,
          38,
          64,
          87,
          94,
          63,
          75,
          83,
          82,
          71,
          96,
          97,
          51,
          93,
          127,
          112,
          174,
          115,
          84,
          53,
          78,
          164,
          74,
          160,
          90,
          60,
          89,
          100,
          42,
          135,
          68,
          162,
          116,
          72,
          197,
          145,
          102,
          59,
          92,
          158,
          144,
          155,
          231,
          125,
          107,
          86,
          104,
          128,
          67,
          194,
          66,
          85,
          103,
          178,
          95,
          61,
          79,
          99,
          55,
          131,
          146,
          91,
          80,
          138,
          129,
          119,
          258,
          106,
          98,
          113,
          175,
          123,
          152,
          122,
          301,
          118,
          111,
          235,
          192,
          380,
          190,
          167,
          133,
          101,
          69,
          130,
          431,
          137,
          186,
          312,
          210,
          323,
          168,
          117,
          169,
          141,
          120,
          295,
          275,
          114,
          546,
          10832,
          134,
          199,
          277,
          181,
          409,
          263,
          157,
          139,
          148,
          108,
          105,
          126,
          153,
          88,
          187,
          151,
          132,
          150,
          142,
          172,
          109,
          189,
          228,
          176,
          165,
          391,
          156,
          251,
          315,
          283,
          253,
          220,
          218,
          191,
          221,
          140,
          170,
          177,
          180,
          227,
          345,
          319,
          434,
          378,
          147,
          282,
          611,
          195,
          342,
          285,
          327,
          206,
          185,
          121,
          124,
          234,
          188,
          230,
          254,
          268,
          149,
          159,
          193,
          291,
          219,
          216,
          184,
          166,
          161,
          205,
          248,
          256,
          213,
          198,
          242,
          239,
          318,
          298,
          390,
          236,
          414,
          196,
          171,
          244,
          517,
          502,
          214,
          246,
          238,
          143,
          1410,
          163,
          136,
          273,
          202,
          385,
          387,
          270,
          250,
          182,
          222,
          363,
          243,
          183,
          265,
          402,
          299,
          209,
          443,
          344,
          203,
          290,
          232,
          369,
          215,
          314,
          361
         ],
         "xaxis": "x",
         "y": [
          0.2371190628717855,
          0.06645109463815421,
          0.02607201325971345,
          0.01547644468848825,
          0.06957282165482037,
          0.014571448908412393,
          0.02102844127187497,
          0.1709730229909602,
          0.009182148195601111,
          0.03350518084662864,
          0.04484304932735426,
          0.024800951770842867,
          0.01669666371780401,
          0.010351524765362049,
          0.007331482667805538,
          0.012446234099020775,
          0.04271783451796264,
          0.003457287249727993,
          0.0323358042768677,
          0.019442156533764476,
          0.008002603133929207,
          0.005745197929695047,
          0.005033403495927519,
          0.010382030241094943,
          0.003996217321009121,
          0.0010473546668293625,
          0.0028166722593372176,
          0.004585989851845073,
          0.007311145683983608,
          0.003508129709282816,
          0.0012507245050486563,
          0.0003355602330618346,
          0.0018811710035284666,
          0.0040165543048310505,
          0.006212948557599423,
          0.0011490395859390095,
          0.002298079171878019,
          0.0016676326733982083,
          0.0003965711845276227,
          0.0014439258513569853,
          0.0028980201946249354,
          0.002135383301302584,
          0.002796335275515288,
          0.0008033108609662101,
          0.0025522914696521357,
          0.0008338163366991042,
          0.001159208077849974,
          0.0010270176830074332,
          0.0003457287249727993,
          0.0007219629256784927,
          0.0005592670551030577,
          0.002226899728501266,
          0.0001423588867535056,
          0.00036606570879472864,
          0.0017184751329530317,
          0.0010778601425622566,
          0.001220219029315762,
          0.0004779191198153402,
          0.000579604038924987,
          0.0002643807896850818,
          0.0005897725308359517,
          0.0017998230682407493,
          0.00038640269261665803,
          0.00029488626541797586,
          0.00023387531395218774,
          0.0005694355470140224,
          0.00035589721688376397,
          0.00029488626541797586,
          0.00018303285439736432,
          0.00035589721688376397,
          0.0002643807896850818,
          0.00019320134630832901,
          0.0009456697477197157,
          0.00018303285439736432,
          0.0001321903948425409,
          9.151642719868216e-05,
          6.101095146578811e-05,
          0.00010168491910964685,
          0.00022370682204122307,
          0.0008134793528771748,
          0.00031522324923990525,
          2.033698382192937e-05,
          0.00042707666026051675,
          6.101095146578811e-05,
          0.0002847177735070112,
          0.0005694355470140224,
          0.00023387531395218774,
          0.00019320134630832901,
          0.001260892996959621,
          6.101095146578811e-05,
          0.00044741364408244614,
          2.033698382192937e-05,
          6.101095146578811e-05,
          0.0004169081683495521,
          5.084245955482343e-05,
          5.084245955482343e-05,
          0.00012202190293157622,
          0.0006406149903907751,
          0.00016269587057543496,
          4.067396764385874e-05,
          6.101095146578811e-05,
          4.067396764385874e-05,
          4.067396764385874e-05,
          0.00011185341102061154,
          0.0001423588867535056,
          0.00031522324923990525,
          0.00018303285439736432,
          0.00011185341102061154,
          0.0004575821359934108,
          2.033698382192937e-05,
          0.0005185930874591989,
          0.0002847177735070112,
          0.00011185341102061154,
          5.084245955482343e-05,
          0.00017286436248639965,
          0.0005694355470140224,
          0.0002847177735070112,
          0.00019320134630832901,
          0.0008134793528771748,
          4.067396764385874e-05,
          7.11794433767528e-05,
          0.00017286436248639965,
          0.00035589721688376397,
          0.00010168491910964685,
          9.151642719868216e-05,
          0.00010168491910964685,
          3.0505475732894054e-05,
          0.0001423588867535056,
          0.00018303285439736432,
          0.00015252737866447026,
          5.084245955482343e-05,
          7.11794433767528e-05,
          3.0505475732894054e-05,
          3.0505475732894054e-05,
          3.0505475732894054e-05,
          0.00012202190293157622,
          0.00011185341102061154,
          2.033698382192937e-05,
          3.0505475732894054e-05,
          1.0168491910964685e-05,
          3.0505475732894054e-05,
          4.067396764385874e-05,
          6.101095146578811e-05,
          0.00018303285439736432,
          0.0003965711845276227,
          6.101095146578811e-05,
          1.0168491910964685e-05,
          0.00011185341102061154,
          1.0168491910964685e-05,
          1.0168491910964685e-05,
          3.0505475732894054e-05,
          1.0168491910964685e-05,
          2.033698382192937e-05,
          0.00010168491910964685,
          2.033698382192937e-05,
          7.11794433767528e-05,
          9.151642719868216e-05,
          2.033698382192937e-05,
          2.033698382192937e-05,
          8.134793528771748e-05,
          1.0168491910964685e-05,
          1.0168491910964685e-05,
          7.11794433767528e-05,
          3.0505475732894054e-05,
          2.033698382192937e-05,
          1.0168491910964685e-05,
          1.0168491910964685e-05,
          2.033698382192937e-05,
          8.134793528771748e-05,
          7.11794433767528e-05,
          4.067396764385874e-05,
          8.134793528771748e-05,
          0.00011185341102061154,
          5.084245955482343e-05,
          7.11794433767528e-05,
          0.00018303285439736432,
          5.084245955482343e-05,
          4.067396764385874e-05,
          5.084245955482343e-05,
          5.084245955482343e-05,
          6.101095146578811e-05,
          8.134793528771748e-05,
          0.00011185341102061154,
          2.033698382192937e-05,
          2.033698382192937e-05,
          3.0505475732894054e-05,
          4.067396764385874e-05,
          1.0168491910964685e-05,
          3.0505475732894054e-05,
          2.033698382192937e-05,
          1.0168491910964685e-05,
          2.033698382192937e-05,
          1.0168491910964685e-05,
          3.0505475732894054e-05,
          1.0168491910964685e-05,
          2.033698382192937e-05,
          1.0168491910964685e-05,
          6.101095146578811e-05,
          5.084245955482343e-05,
          2.033698382192937e-05,
          5.084245955482343e-05,
          1.0168491910964685e-05,
          1.0168491910964685e-05,
          2.033698382192937e-05,
          1.0168491910964685e-05,
          1.0168491910964685e-05,
          7.11794433767528e-05,
          3.0505475732894054e-05,
          1.0168491910964685e-05,
          5.084245955482343e-05,
          1.0168491910964685e-05,
          2.033698382192937e-05,
          1.0168491910964685e-05,
          3.0505475732894054e-05,
          3.0505475732894054e-05,
          9.151642719868216e-05,
          8.134793528771748e-05,
          1.0168491910964685e-05,
          2.033698382192937e-05,
          1.0168491910964685e-05,
          2.033698382192937e-05,
          1.0168491910964685e-05,
          3.0505475732894054e-05,
          3.0505475732894054e-05,
          2.033698382192937e-05,
          1.0168491910964685e-05,
          2.033698382192937e-05,
          2.033698382192937e-05,
          4.067396764385874e-05,
          4.067396764385874e-05,
          2.033698382192937e-05,
          3.0505475732894054e-05,
          3.0505475732894054e-05,
          2.033698382192937e-05,
          3.0505475732894054e-05,
          1.0168491910964685e-05,
          1.0168491910964685e-05,
          1.0168491910964685e-05,
          2.033698382192937e-05,
          1.0168491910964685e-05,
          1.0168491910964685e-05,
          1.0168491910964685e-05,
          1.0168491910964685e-05,
          2.033698382192937e-05,
          3.0505475732894054e-05,
          1.0168491910964685e-05,
          1.0168491910964685e-05,
          1.0168491910964685e-05,
          2.033698382192937e-05,
          3.0505475732894054e-05,
          1.0168491910964685e-05,
          4.067396764385874e-05,
          1.0168491910964685e-05,
          2.033698382192937e-05,
          4.067396764385874e-05,
          1.0168491910964685e-05,
          1.0168491910964685e-05,
          1.0168491910964685e-05,
          1.0168491910964685e-05,
          1.0168491910964685e-05,
          1.0168491910964685e-05,
          1.0168491910964685e-05,
          1.0168491910964685e-05,
          1.0168491910964685e-05,
          1.0168491910964685e-05,
          2.033698382192937e-05,
          1.0168491910964685e-05,
          1.0168491910964685e-05,
          1.0168491910964685e-05,
          1.0168491910964685e-05,
          1.0168491910964685e-05,
          1.0168491910964685e-05,
          1.0168491910964685e-05,
          1.0168491910964685e-05,
          1.0168491910964685e-05,
          1.0168491910964685e-05,
          1.0168491910964685e-05,
          1.0168491910964685e-05,
          1.0168491910964685e-05
         ],
         "yaxis": "y"
        }
       ],
       "layout": {
        "barmode": "relative",
        "legend": {
         "tracegroupgap": 0
        },
        "template": {
         "data": {
          "bar": [
           {
            "error_x": {
             "color": "#2a3f5f"
            },
            "error_y": {
             "color": "#2a3f5f"
            },
            "marker": {
             "line": {
              "color": "#E5ECF6",
              "width": 0.5
             }
            },
            "type": "bar"
           }
          ],
          "barpolar": [
           {
            "marker": {
             "line": {
              "color": "#E5ECF6",
              "width": 0.5
             }
            },
            "type": "barpolar"
           }
          ],
          "carpet": [
           {
            "aaxis": {
             "endlinecolor": "#2a3f5f",
             "gridcolor": "white",
             "linecolor": "white",
             "minorgridcolor": "white",
             "startlinecolor": "#2a3f5f"
            },
            "baxis": {
             "endlinecolor": "#2a3f5f",
             "gridcolor": "white",
             "linecolor": "white",
             "minorgridcolor": "white",
             "startlinecolor": "#2a3f5f"
            },
            "type": "carpet"
           }
          ],
          "choropleth": [
           {
            "colorbar": {
             "outlinewidth": 0,
             "ticks": ""
            },
            "type": "choropleth"
           }
          ],
          "contour": [
           {
            "colorbar": {
             "outlinewidth": 0,
             "ticks": ""
            },
            "colorscale": [
             [
              0,
              "#0d0887"
             ],
             [
              0.1111111111111111,
              "#46039f"
             ],
             [
              0.2222222222222222,
              "#7201a8"
             ],
             [
              0.3333333333333333,
              "#9c179e"
             ],
             [
              0.4444444444444444,
              "#bd3786"
             ],
             [
              0.5555555555555556,
              "#d8576b"
             ],
             [
              0.6666666666666666,
              "#ed7953"
             ],
             [
              0.7777777777777778,
              "#fb9f3a"
             ],
             [
              0.8888888888888888,
              "#fdca26"
             ],
             [
              1,
              "#f0f921"
             ]
            ],
            "type": "contour"
           }
          ],
          "contourcarpet": [
           {
            "colorbar": {
             "outlinewidth": 0,
             "ticks": ""
            },
            "type": "contourcarpet"
           }
          ],
          "heatmap": [
           {
            "colorbar": {
             "outlinewidth": 0,
             "ticks": ""
            },
            "colorscale": [
             [
              0,
              "#0d0887"
             ],
             [
              0.1111111111111111,
              "#46039f"
             ],
             [
              0.2222222222222222,
              "#7201a8"
             ],
             [
              0.3333333333333333,
              "#9c179e"
             ],
             [
              0.4444444444444444,
              "#bd3786"
             ],
             [
              0.5555555555555556,
              "#d8576b"
             ],
             [
              0.6666666666666666,
              "#ed7953"
             ],
             [
              0.7777777777777778,
              "#fb9f3a"
             ],
             [
              0.8888888888888888,
              "#fdca26"
             ],
             [
              1,
              "#f0f921"
             ]
            ],
            "type": "heatmap"
           }
          ],
          "heatmapgl": [
           {
            "colorbar": {
             "outlinewidth": 0,
             "ticks": ""
            },
            "colorscale": [
             [
              0,
              "#0d0887"
             ],
             [
              0.1111111111111111,
              "#46039f"
             ],
             [
              0.2222222222222222,
              "#7201a8"
             ],
             [
              0.3333333333333333,
              "#9c179e"
             ],
             [
              0.4444444444444444,
              "#bd3786"
             ],
             [
              0.5555555555555556,
              "#d8576b"
             ],
             [
              0.6666666666666666,
              "#ed7953"
             ],
             [
              0.7777777777777778,
              "#fb9f3a"
             ],
             [
              0.8888888888888888,
              "#fdca26"
             ],
             [
              1,
              "#f0f921"
             ]
            ],
            "type": "heatmapgl"
           }
          ],
          "histogram": [
           {
            "marker": {
             "colorbar": {
              "outlinewidth": 0,
              "ticks": ""
             }
            },
            "type": "histogram"
           }
          ],
          "histogram2d": [
           {
            "colorbar": {
             "outlinewidth": 0,
             "ticks": ""
            },
            "colorscale": [
             [
              0,
              "#0d0887"
             ],
             [
              0.1111111111111111,
              "#46039f"
             ],
             [
              0.2222222222222222,
              "#7201a8"
             ],
             [
              0.3333333333333333,
              "#9c179e"
             ],
             [
              0.4444444444444444,
              "#bd3786"
             ],
             [
              0.5555555555555556,
              "#d8576b"
             ],
             [
              0.6666666666666666,
              "#ed7953"
             ],
             [
              0.7777777777777778,
              "#fb9f3a"
             ],
             [
              0.8888888888888888,
              "#fdca26"
             ],
             [
              1,
              "#f0f921"
             ]
            ],
            "type": "histogram2d"
           }
          ],
          "histogram2dcontour": [
           {
            "colorbar": {
             "outlinewidth": 0,
             "ticks": ""
            },
            "colorscale": [
             [
              0,
              "#0d0887"
             ],
             [
              0.1111111111111111,
              "#46039f"
             ],
             [
              0.2222222222222222,
              "#7201a8"
             ],
             [
              0.3333333333333333,
              "#9c179e"
             ],
             [
              0.4444444444444444,
              "#bd3786"
             ],
             [
              0.5555555555555556,
              "#d8576b"
             ],
             [
              0.6666666666666666,
              "#ed7953"
             ],
             [
              0.7777777777777778,
              "#fb9f3a"
             ],
             [
              0.8888888888888888,
              "#fdca26"
             ],
             [
              1,
              "#f0f921"
             ]
            ],
            "type": "histogram2dcontour"
           }
          ],
          "mesh3d": [
           {
            "colorbar": {
             "outlinewidth": 0,
             "ticks": ""
            },
            "type": "mesh3d"
           }
          ],
          "parcoords": [
           {
            "line": {
             "colorbar": {
              "outlinewidth": 0,
              "ticks": ""
             }
            },
            "type": "parcoords"
           }
          ],
          "pie": [
           {
            "automargin": true,
            "type": "pie"
           }
          ],
          "scatter": [
           {
            "marker": {
             "colorbar": {
              "outlinewidth": 0,
              "ticks": ""
             }
            },
            "type": "scatter"
           }
          ],
          "scatter3d": [
           {
            "line": {
             "colorbar": {
              "outlinewidth": 0,
              "ticks": ""
             }
            },
            "marker": {
             "colorbar": {
              "outlinewidth": 0,
              "ticks": ""
             }
            },
            "type": "scatter3d"
           }
          ],
          "scattercarpet": [
           {
            "marker": {
             "colorbar": {
              "outlinewidth": 0,
              "ticks": ""
             }
            },
            "type": "scattercarpet"
           }
          ],
          "scattergeo": [
           {
            "marker": {
             "colorbar": {
              "outlinewidth": 0,
              "ticks": ""
             }
            },
            "type": "scattergeo"
           }
          ],
          "scattergl": [
           {
            "marker": {
             "colorbar": {
              "outlinewidth": 0,
              "ticks": ""
             }
            },
            "type": "scattergl"
           }
          ],
          "scattermapbox": [
           {
            "marker": {
             "colorbar": {
              "outlinewidth": 0,
              "ticks": ""
             }
            },
            "type": "scattermapbox"
           }
          ],
          "scatterpolar": [
           {
            "marker": {
             "colorbar": {
              "outlinewidth": 0,
              "ticks": ""
             }
            },
            "type": "scatterpolar"
           }
          ],
          "scatterpolargl": [
           {
            "marker": {
             "colorbar": {
              "outlinewidth": 0,
              "ticks": ""
             }
            },
            "type": "scatterpolargl"
           }
          ],
          "scatterternary": [
           {
            "marker": {
             "colorbar": {
              "outlinewidth": 0,
              "ticks": ""
             }
            },
            "type": "scatterternary"
           }
          ],
          "surface": [
           {
            "colorbar": {
             "outlinewidth": 0,
             "ticks": ""
            },
            "colorscale": [
             [
              0,
              "#0d0887"
             ],
             [
              0.1111111111111111,
              "#46039f"
             ],
             [
              0.2222222222222222,
              "#7201a8"
             ],
             [
              0.3333333333333333,
              "#9c179e"
             ],
             [
              0.4444444444444444,
              "#bd3786"
             ],
             [
              0.5555555555555556,
              "#d8576b"
             ],
             [
              0.6666666666666666,
              "#ed7953"
             ],
             [
              0.7777777777777778,
              "#fb9f3a"
             ],
             [
              0.8888888888888888,
              "#fdca26"
             ],
             [
              1,
              "#f0f921"
             ]
            ],
            "type": "surface"
           }
          ],
          "table": [
           {
            "cells": {
             "fill": {
              "color": "#EBF0F8"
             },
             "line": {
              "color": "white"
             }
            },
            "header": {
             "fill": {
              "color": "#C8D4E3"
             },
             "line": {
              "color": "white"
             }
            },
            "type": "table"
           }
          ]
         },
         "layout": {
          "annotationdefaults": {
           "arrowcolor": "#2a3f5f",
           "arrowhead": 0,
           "arrowwidth": 1
          },
          "coloraxis": {
           "colorbar": {
            "outlinewidth": 0,
            "ticks": ""
           }
          },
          "colorscale": {
           "diverging": [
            [
             0,
             "#8e0152"
            ],
            [
             0.1,
             "#c51b7d"
            ],
            [
             0.2,
             "#de77ae"
            ],
            [
             0.3,
             "#f1b6da"
            ],
            [
             0.4,
             "#fde0ef"
            ],
            [
             0.5,
             "#f7f7f7"
            ],
            [
             0.6,
             "#e6f5d0"
            ],
            [
             0.7,
             "#b8e186"
            ],
            [
             0.8,
             "#7fbc41"
            ],
            [
             0.9,
             "#4d9221"
            ],
            [
             1,
             "#276419"
            ]
           ],
           "sequential": [
            [
             0,
             "#0d0887"
            ],
            [
             0.1111111111111111,
             "#46039f"
            ],
            [
             0.2222222222222222,
             "#7201a8"
            ],
            [
             0.3333333333333333,
             "#9c179e"
            ],
            [
             0.4444444444444444,
             "#bd3786"
            ],
            [
             0.5555555555555556,
             "#d8576b"
            ],
            [
             0.6666666666666666,
             "#ed7953"
            ],
            [
             0.7777777777777778,
             "#fb9f3a"
            ],
            [
             0.8888888888888888,
             "#fdca26"
            ],
            [
             1,
             "#f0f921"
            ]
           ],
           "sequentialminus": [
            [
             0,
             "#0d0887"
            ],
            [
             0.1111111111111111,
             "#46039f"
            ],
            [
             0.2222222222222222,
             "#7201a8"
            ],
            [
             0.3333333333333333,
             "#9c179e"
            ],
            [
             0.4444444444444444,
             "#bd3786"
            ],
            [
             0.5555555555555556,
             "#d8576b"
            ],
            [
             0.6666666666666666,
             "#ed7953"
            ],
            [
             0.7777777777777778,
             "#fb9f3a"
            ],
            [
             0.8888888888888888,
             "#fdca26"
            ],
            [
             1,
             "#f0f921"
            ]
           ]
          },
          "colorway": [
           "#636efa",
           "#EF553B",
           "#00cc96",
           "#ab63fa",
           "#FFA15A",
           "#19d3f3",
           "#FF6692",
           "#B6E880",
           "#FF97FF",
           "#FECB52"
          ],
          "font": {
           "color": "#2a3f5f"
          },
          "geo": {
           "bgcolor": "white",
           "lakecolor": "white",
           "landcolor": "#E5ECF6",
           "showlakes": true,
           "showland": true,
           "subunitcolor": "white"
          },
          "hoverlabel": {
           "align": "left"
          },
          "hovermode": "closest",
          "mapbox": {
           "style": "light"
          },
          "paper_bgcolor": "white",
          "plot_bgcolor": "#E5ECF6",
          "polar": {
           "angularaxis": {
            "gridcolor": "white",
            "linecolor": "white",
            "ticks": ""
           },
           "bgcolor": "#E5ECF6",
           "radialaxis": {
            "gridcolor": "white",
            "linecolor": "white",
            "ticks": ""
           }
          },
          "scene": {
           "xaxis": {
            "backgroundcolor": "#E5ECF6",
            "gridcolor": "white",
            "gridwidth": 2,
            "linecolor": "white",
            "showbackground": true,
            "ticks": "",
            "zerolinecolor": "white"
           },
           "yaxis": {
            "backgroundcolor": "#E5ECF6",
            "gridcolor": "white",
            "gridwidth": 2,
            "linecolor": "white",
            "showbackground": true,
            "ticks": "",
            "zerolinecolor": "white"
           },
           "zaxis": {
            "backgroundcolor": "#E5ECF6",
            "gridcolor": "white",
            "gridwidth": 2,
            "linecolor": "white",
            "showbackground": true,
            "ticks": "",
            "zerolinecolor": "white"
           }
          },
          "shapedefaults": {
           "line": {
            "color": "#2a3f5f"
           }
          },
          "ternary": {
           "aaxis": {
            "gridcolor": "white",
            "linecolor": "white",
            "ticks": ""
           },
           "baxis": {
            "gridcolor": "white",
            "linecolor": "white",
            "ticks": ""
           },
           "bgcolor": "#E5ECF6",
           "caxis": {
            "gridcolor": "white",
            "linecolor": "white",
            "ticks": ""
           }
          },
          "title": {
           "x": 0.05
          },
          "xaxis": {
           "automargin": true,
           "gridcolor": "white",
           "linecolor": "white",
           "ticks": "",
           "title": {
            "standoff": 15
           },
           "zerolinecolor": "white",
           "zerolinewidth": 2
          },
          "yaxis": {
           "automargin": true,
           "gridcolor": "white",
           "linecolor": "white",
           "ticks": "",
           "title": {
            "standoff": 15
           },
           "zerolinecolor": "white",
           "zerolinewidth": 2
          }
         }
        },
        "title": {
         "text": "Degree distribution"
        },
        "xaxis": {
         "anchor": "y",
         "domain": [
          0,
          1
         ],
         "title": {
          "text": "Degree"
         }
        },
        "yaxis": {
         "anchor": "x",
         "domain": [
          0,
          1
         ],
         "title": {
          "text": "sum of Normalized number of nodes"
         }
        }
       }
      },
      "text/html": [
       "<div>                            <div id=\"1a29521c-6c84-4f9f-a4fd-2fd4d53f94e9\" class=\"plotly-graph-div\" style=\"height:525px; width:100%;\"></div>            <script type=\"text/javascript\">                require([\"plotly\"], function(Plotly) {                    window.PLOTLYENV=window.PLOTLYENV || {};                                    if (document.getElementById(\"1a29521c-6c84-4f9f-a4fd-2fd4d53f94e9\")) {                    Plotly.newPlot(                        \"1a29521c-6c84-4f9f-a4fd-2fd4d53f94e9\",                        [{\"alignmentgroup\": \"True\", \"bingroup\": \"x\", \"histfunc\": \"sum\", \"hovertemplate\": \"Degree=%{x}<br>sum of Normalized number of nodes=%{y}<extra></extra>\", \"legendgroup\": \"\", \"marker\": {\"color\": \"#636efa\"}, \"name\": \"\", \"offsetgroup\": \"\", \"orientation\": \"v\", \"showlegend\": false, \"type\": \"histogram\", \"x\": [1, 3, 9, 14, 4, 15, 11, 2, 19, 7, 5, 10, 13, 18, 22, 16, 6, 29, 8, 12, 20, 24, 25, 17, 28, 49, 32, 26, 21, 30, 44, 73, 39, 27, 23, 48, 36, 43, 77, 41, 31, 37, 33, 56, 34, 52, 45, 47, 76, 54, 65, 35, 110, 70, 40, 50, 46, 62, 58, 81, 57, 38, 64, 87, 94, 63, 75, 83, 82, 71, 96, 97, 51, 93, 127, 112, 174, 115, 84, 53, 78, 164, 74, 160, 90, 60, 89, 100, 42, 135, 68, 162, 116, 72, 197, 145, 102, 59, 92, 158, 144, 155, 231, 125, 107, 86, 104, 128, 67, 194, 66, 85, 103, 178, 95, 61, 79, 99, 55, 131, 146, 91, 80, 138, 129, 119, 258, 106, 98, 113, 175, 123, 152, 122, 301, 118, 111, 235, 192, 380, 190, 167, 133, 101, 69, 130, 431, 137, 186, 312, 210, 323, 168, 117, 169, 141, 120, 295, 275, 114, 546, 10832, 134, 199, 277, 181, 409, 263, 157, 139, 148, 108, 105, 126, 153, 88, 187, 151, 132, 150, 142, 172, 109, 189, 228, 176, 165, 391, 156, 251, 315, 283, 253, 220, 218, 191, 221, 140, 170, 177, 180, 227, 345, 319, 434, 378, 147, 282, 611, 195, 342, 285, 327, 206, 185, 121, 124, 234, 188, 230, 254, 268, 149, 159, 193, 291, 219, 216, 184, 166, 161, 205, 248, 256, 213, 198, 242, 239, 318, 298, 390, 236, 414, 196, 171, 244, 517, 502, 214, 246, 238, 143, 1410, 163, 136, 273, 202, 385, 387, 270, 250, 182, 222, 363, 243, 183, 265, 402, 299, 209, 443, 344, 203, 290, 232, 369, 215, 314, 361], \"xaxis\": \"x\", \"y\": [0.2371190628717855, 0.06645109463815421, 0.02607201325971345, 0.01547644468848825, 0.06957282165482037, 0.014571448908412393, 0.02102844127187497, 0.1709730229909602, 0.009182148195601111, 0.03350518084662864, 0.04484304932735426, 0.024800951770842867, 0.01669666371780401, 0.010351524765362049, 0.007331482667805538, 0.012446234099020775, 0.04271783451796264, 0.003457287249727993, 0.0323358042768677, 0.019442156533764476, 0.008002603133929207, 0.005745197929695047, 0.005033403495927519, 0.010382030241094943, 0.003996217321009121, 0.0010473546668293625, 0.0028166722593372176, 0.004585989851845073, 0.007311145683983608, 0.003508129709282816, 0.0012507245050486563, 0.0003355602330618346, 0.0018811710035284666, 0.0040165543048310505, 0.006212948557599423, 0.0011490395859390095, 0.002298079171878019, 0.0016676326733982083, 0.0003965711845276227, 0.0014439258513569853, 0.0028980201946249354, 0.002135383301302584, 0.002796335275515288, 0.0008033108609662101, 0.0025522914696521357, 0.0008338163366991042, 0.001159208077849974, 0.0010270176830074332, 0.0003457287249727993, 0.0007219629256784927, 0.0005592670551030577, 0.002226899728501266, 0.0001423588867535056, 0.00036606570879472864, 0.0017184751329530317, 0.0010778601425622566, 0.001220219029315762, 0.0004779191198153402, 0.000579604038924987, 0.0002643807896850818, 0.0005897725308359517, 0.0017998230682407493, 0.00038640269261665803, 0.00029488626541797586, 0.00023387531395218774, 0.0005694355470140224, 0.00035589721688376397, 0.00029488626541797586, 0.00018303285439736432, 0.00035589721688376397, 0.0002643807896850818, 0.00019320134630832901, 0.0009456697477197157, 0.00018303285439736432, 0.0001321903948425409, 9.151642719868216e-05, 6.101095146578811e-05, 0.00010168491910964685, 0.00022370682204122307, 0.0008134793528771748, 0.00031522324923990525, 2.033698382192937e-05, 0.00042707666026051675, 6.101095146578811e-05, 0.0002847177735070112, 0.0005694355470140224, 0.00023387531395218774, 0.00019320134630832901, 0.001260892996959621, 6.101095146578811e-05, 0.00044741364408244614, 2.033698382192937e-05, 6.101095146578811e-05, 0.0004169081683495521, 5.084245955482343e-05, 5.084245955482343e-05, 0.00012202190293157622, 0.0006406149903907751, 0.00016269587057543496, 4.067396764385874e-05, 6.101095146578811e-05, 4.067396764385874e-05, 4.067396764385874e-05, 0.00011185341102061154, 0.0001423588867535056, 0.00031522324923990525, 0.00018303285439736432, 0.00011185341102061154, 0.0004575821359934108, 2.033698382192937e-05, 0.0005185930874591989, 0.0002847177735070112, 0.00011185341102061154, 5.084245955482343e-05, 0.00017286436248639965, 0.0005694355470140224, 0.0002847177735070112, 0.00019320134630832901, 0.0008134793528771748, 4.067396764385874e-05, 7.11794433767528e-05, 0.00017286436248639965, 0.00035589721688376397, 0.00010168491910964685, 9.151642719868216e-05, 0.00010168491910964685, 3.0505475732894054e-05, 0.0001423588867535056, 0.00018303285439736432, 0.00015252737866447026, 5.084245955482343e-05, 7.11794433767528e-05, 3.0505475732894054e-05, 3.0505475732894054e-05, 3.0505475732894054e-05, 0.00012202190293157622, 0.00011185341102061154, 2.033698382192937e-05, 3.0505475732894054e-05, 1.0168491910964685e-05, 3.0505475732894054e-05, 4.067396764385874e-05, 6.101095146578811e-05, 0.00018303285439736432, 0.0003965711845276227, 6.101095146578811e-05, 1.0168491910964685e-05, 0.00011185341102061154, 1.0168491910964685e-05, 1.0168491910964685e-05, 3.0505475732894054e-05, 1.0168491910964685e-05, 2.033698382192937e-05, 0.00010168491910964685, 2.033698382192937e-05, 7.11794433767528e-05, 9.151642719868216e-05, 2.033698382192937e-05, 2.033698382192937e-05, 8.134793528771748e-05, 1.0168491910964685e-05, 1.0168491910964685e-05, 7.11794433767528e-05, 3.0505475732894054e-05, 2.033698382192937e-05, 1.0168491910964685e-05, 1.0168491910964685e-05, 2.033698382192937e-05, 8.134793528771748e-05, 7.11794433767528e-05, 4.067396764385874e-05, 8.134793528771748e-05, 0.00011185341102061154, 5.084245955482343e-05, 7.11794433767528e-05, 0.00018303285439736432, 5.084245955482343e-05, 4.067396764385874e-05, 5.084245955482343e-05, 5.084245955482343e-05, 6.101095146578811e-05, 8.134793528771748e-05, 0.00011185341102061154, 2.033698382192937e-05, 2.033698382192937e-05, 3.0505475732894054e-05, 4.067396764385874e-05, 1.0168491910964685e-05, 3.0505475732894054e-05, 2.033698382192937e-05, 1.0168491910964685e-05, 2.033698382192937e-05, 1.0168491910964685e-05, 3.0505475732894054e-05, 1.0168491910964685e-05, 2.033698382192937e-05, 1.0168491910964685e-05, 6.101095146578811e-05, 5.084245955482343e-05, 2.033698382192937e-05, 5.084245955482343e-05, 1.0168491910964685e-05, 1.0168491910964685e-05, 2.033698382192937e-05, 1.0168491910964685e-05, 1.0168491910964685e-05, 7.11794433767528e-05, 3.0505475732894054e-05, 1.0168491910964685e-05, 5.084245955482343e-05, 1.0168491910964685e-05, 2.033698382192937e-05, 1.0168491910964685e-05, 3.0505475732894054e-05, 3.0505475732894054e-05, 9.151642719868216e-05, 8.134793528771748e-05, 1.0168491910964685e-05, 2.033698382192937e-05, 1.0168491910964685e-05, 2.033698382192937e-05, 1.0168491910964685e-05, 3.0505475732894054e-05, 3.0505475732894054e-05, 2.033698382192937e-05, 1.0168491910964685e-05, 2.033698382192937e-05, 2.033698382192937e-05, 4.067396764385874e-05, 4.067396764385874e-05, 2.033698382192937e-05, 3.0505475732894054e-05, 3.0505475732894054e-05, 2.033698382192937e-05, 3.0505475732894054e-05, 1.0168491910964685e-05, 1.0168491910964685e-05, 1.0168491910964685e-05, 2.033698382192937e-05, 1.0168491910964685e-05, 1.0168491910964685e-05, 1.0168491910964685e-05, 1.0168491910964685e-05, 2.033698382192937e-05, 3.0505475732894054e-05, 1.0168491910964685e-05, 1.0168491910964685e-05, 1.0168491910964685e-05, 2.033698382192937e-05, 3.0505475732894054e-05, 1.0168491910964685e-05, 4.067396764385874e-05, 1.0168491910964685e-05, 2.033698382192937e-05, 4.067396764385874e-05, 1.0168491910964685e-05, 1.0168491910964685e-05, 1.0168491910964685e-05, 1.0168491910964685e-05, 1.0168491910964685e-05, 1.0168491910964685e-05, 1.0168491910964685e-05, 1.0168491910964685e-05, 1.0168491910964685e-05, 1.0168491910964685e-05, 2.033698382192937e-05, 1.0168491910964685e-05, 1.0168491910964685e-05, 1.0168491910964685e-05, 1.0168491910964685e-05, 1.0168491910964685e-05, 1.0168491910964685e-05, 1.0168491910964685e-05, 1.0168491910964685e-05, 1.0168491910964685e-05, 1.0168491910964685e-05, 1.0168491910964685e-05, 1.0168491910964685e-05, 1.0168491910964685e-05], \"yaxis\": \"y\"}],                        {\"barmode\": \"relative\", \"legend\": {\"tracegroupgap\": 0}, \"template\": {\"data\": {\"bar\": [{\"error_x\": {\"color\": \"#2a3f5f\"}, \"error_y\": {\"color\": \"#2a3f5f\"}, \"marker\": {\"line\": {\"color\": \"#E5ECF6\", \"width\": 0.5}}, \"type\": \"bar\"}], \"barpolar\": [{\"marker\": {\"line\": {\"color\": \"#E5ECF6\", \"width\": 0.5}}, \"type\": \"barpolar\"}], \"carpet\": [{\"aaxis\": {\"endlinecolor\": \"#2a3f5f\", \"gridcolor\": \"white\", \"linecolor\": \"white\", \"minorgridcolor\": \"white\", \"startlinecolor\": \"#2a3f5f\"}, \"baxis\": {\"endlinecolor\": \"#2a3f5f\", \"gridcolor\": \"white\", \"linecolor\": \"white\", \"minorgridcolor\": \"white\", \"startlinecolor\": \"#2a3f5f\"}, \"type\": \"carpet\"}], \"choropleth\": [{\"colorbar\": {\"outlinewidth\": 0, \"ticks\": \"\"}, \"type\": \"choropleth\"}], \"contour\": [{\"colorbar\": {\"outlinewidth\": 0, \"ticks\": \"\"}, \"colorscale\": [[0.0, \"#0d0887\"], [0.1111111111111111, \"#46039f\"], [0.2222222222222222, \"#7201a8\"], [0.3333333333333333, \"#9c179e\"], [0.4444444444444444, \"#bd3786\"], [0.5555555555555556, \"#d8576b\"], [0.6666666666666666, \"#ed7953\"], [0.7777777777777778, \"#fb9f3a\"], [0.8888888888888888, \"#fdca26\"], [1.0, \"#f0f921\"]], \"type\": \"contour\"}], \"contourcarpet\": [{\"colorbar\": {\"outlinewidth\": 0, \"ticks\": \"\"}, \"type\": \"contourcarpet\"}], \"heatmap\": [{\"colorbar\": {\"outlinewidth\": 0, \"ticks\": \"\"}, \"colorscale\": [[0.0, \"#0d0887\"], [0.1111111111111111, \"#46039f\"], [0.2222222222222222, \"#7201a8\"], [0.3333333333333333, \"#9c179e\"], [0.4444444444444444, \"#bd3786\"], [0.5555555555555556, \"#d8576b\"], [0.6666666666666666, \"#ed7953\"], [0.7777777777777778, \"#fb9f3a\"], [0.8888888888888888, \"#fdca26\"], [1.0, \"#f0f921\"]], \"type\": \"heatmap\"}], \"heatmapgl\": [{\"colorbar\": {\"outlinewidth\": 0, \"ticks\": \"\"}, \"colorscale\": [[0.0, \"#0d0887\"], [0.1111111111111111, \"#46039f\"], [0.2222222222222222, \"#7201a8\"], [0.3333333333333333, \"#9c179e\"], [0.4444444444444444, \"#bd3786\"], [0.5555555555555556, \"#d8576b\"], [0.6666666666666666, \"#ed7953\"], [0.7777777777777778, \"#fb9f3a\"], [0.8888888888888888, \"#fdca26\"], [1.0, \"#f0f921\"]], \"type\": \"heatmapgl\"}], \"histogram\": [{\"marker\": {\"colorbar\": {\"outlinewidth\": 0, \"ticks\": \"\"}}, \"type\": \"histogram\"}], \"histogram2d\": [{\"colorbar\": {\"outlinewidth\": 0, \"ticks\": \"\"}, \"colorscale\": [[0.0, \"#0d0887\"], [0.1111111111111111, \"#46039f\"], [0.2222222222222222, \"#7201a8\"], [0.3333333333333333, \"#9c179e\"], [0.4444444444444444, \"#bd3786\"], [0.5555555555555556, \"#d8576b\"], [0.6666666666666666, \"#ed7953\"], [0.7777777777777778, \"#fb9f3a\"], [0.8888888888888888, \"#fdca26\"], [1.0, \"#f0f921\"]], \"type\": \"histogram2d\"}], \"histogram2dcontour\": [{\"colorbar\": {\"outlinewidth\": 0, \"ticks\": \"\"}, \"colorscale\": [[0.0, \"#0d0887\"], [0.1111111111111111, \"#46039f\"], [0.2222222222222222, \"#7201a8\"], [0.3333333333333333, \"#9c179e\"], [0.4444444444444444, \"#bd3786\"], [0.5555555555555556, \"#d8576b\"], [0.6666666666666666, \"#ed7953\"], [0.7777777777777778, \"#fb9f3a\"], [0.8888888888888888, \"#fdca26\"], [1.0, \"#f0f921\"]], \"type\": \"histogram2dcontour\"}], \"mesh3d\": [{\"colorbar\": {\"outlinewidth\": 0, \"ticks\": \"\"}, \"type\": \"mesh3d\"}], \"parcoords\": [{\"line\": {\"colorbar\": {\"outlinewidth\": 0, \"ticks\": \"\"}}, \"type\": \"parcoords\"}], \"pie\": [{\"automargin\": true, \"type\": \"pie\"}], \"scatter\": [{\"marker\": {\"colorbar\": {\"outlinewidth\": 0, \"ticks\": \"\"}}, \"type\": \"scatter\"}], \"scatter3d\": [{\"line\": {\"colorbar\": {\"outlinewidth\": 0, \"ticks\": \"\"}}, \"marker\": {\"colorbar\": {\"outlinewidth\": 0, \"ticks\": \"\"}}, \"type\": \"scatter3d\"}], \"scattercarpet\": [{\"marker\": {\"colorbar\": {\"outlinewidth\": 0, \"ticks\": \"\"}}, \"type\": \"scattercarpet\"}], \"scattergeo\": [{\"marker\": {\"colorbar\": {\"outlinewidth\": 0, \"ticks\": \"\"}}, \"type\": \"scattergeo\"}], \"scattergl\": [{\"marker\": {\"colorbar\": {\"outlinewidth\": 0, \"ticks\": \"\"}}, \"type\": \"scattergl\"}], \"scattermapbox\": [{\"marker\": {\"colorbar\": {\"outlinewidth\": 0, \"ticks\": \"\"}}, \"type\": \"scattermapbox\"}], \"scatterpolar\": [{\"marker\": {\"colorbar\": {\"outlinewidth\": 0, \"ticks\": \"\"}}, \"type\": \"scatterpolar\"}], \"scatterpolargl\": [{\"marker\": {\"colorbar\": {\"outlinewidth\": 0, \"ticks\": \"\"}}, \"type\": \"scatterpolargl\"}], \"scatterternary\": [{\"marker\": {\"colorbar\": {\"outlinewidth\": 0, \"ticks\": \"\"}}, \"type\": \"scatterternary\"}], \"surface\": [{\"colorbar\": {\"outlinewidth\": 0, \"ticks\": \"\"}, \"colorscale\": [[0.0, \"#0d0887\"], [0.1111111111111111, \"#46039f\"], [0.2222222222222222, \"#7201a8\"], [0.3333333333333333, \"#9c179e\"], [0.4444444444444444, \"#bd3786\"], [0.5555555555555556, \"#d8576b\"], [0.6666666666666666, \"#ed7953\"], [0.7777777777777778, \"#fb9f3a\"], [0.8888888888888888, \"#fdca26\"], [1.0, \"#f0f921\"]], \"type\": \"surface\"}], \"table\": [{\"cells\": {\"fill\": {\"color\": \"#EBF0F8\"}, \"line\": {\"color\": \"white\"}}, \"header\": {\"fill\": {\"color\": \"#C8D4E3\"}, \"line\": {\"color\": \"white\"}}, \"type\": \"table\"}]}, \"layout\": {\"annotationdefaults\": {\"arrowcolor\": \"#2a3f5f\", \"arrowhead\": 0, \"arrowwidth\": 1}, \"coloraxis\": {\"colorbar\": {\"outlinewidth\": 0, \"ticks\": \"\"}}, \"colorscale\": {\"diverging\": [[0, \"#8e0152\"], [0.1, \"#c51b7d\"], [0.2, \"#de77ae\"], [0.3, \"#f1b6da\"], [0.4, \"#fde0ef\"], [0.5, \"#f7f7f7\"], [0.6, \"#e6f5d0\"], [0.7, \"#b8e186\"], [0.8, \"#7fbc41\"], [0.9, \"#4d9221\"], [1, \"#276419\"]], \"sequential\": [[0.0, \"#0d0887\"], [0.1111111111111111, \"#46039f\"], [0.2222222222222222, \"#7201a8\"], [0.3333333333333333, \"#9c179e\"], [0.4444444444444444, \"#bd3786\"], [0.5555555555555556, \"#d8576b\"], [0.6666666666666666, \"#ed7953\"], [0.7777777777777778, \"#fb9f3a\"], [0.8888888888888888, \"#fdca26\"], [1.0, \"#f0f921\"]], \"sequentialminus\": [[0.0, \"#0d0887\"], [0.1111111111111111, \"#46039f\"], [0.2222222222222222, \"#7201a8\"], [0.3333333333333333, \"#9c179e\"], [0.4444444444444444, \"#bd3786\"], [0.5555555555555556, \"#d8576b\"], [0.6666666666666666, \"#ed7953\"], [0.7777777777777778, \"#fb9f3a\"], [0.8888888888888888, \"#fdca26\"], [1.0, \"#f0f921\"]]}, \"colorway\": [\"#636efa\", \"#EF553B\", \"#00cc96\", \"#ab63fa\", \"#FFA15A\", \"#19d3f3\", \"#FF6692\", \"#B6E880\", \"#FF97FF\", \"#FECB52\"], \"font\": {\"color\": \"#2a3f5f\"}, \"geo\": {\"bgcolor\": \"white\", \"lakecolor\": \"white\", \"landcolor\": \"#E5ECF6\", \"showlakes\": true, \"showland\": true, \"subunitcolor\": \"white\"}, \"hoverlabel\": {\"align\": \"left\"}, \"hovermode\": \"closest\", \"mapbox\": {\"style\": \"light\"}, \"paper_bgcolor\": \"white\", \"plot_bgcolor\": \"#E5ECF6\", \"polar\": {\"angularaxis\": {\"gridcolor\": \"white\", \"linecolor\": \"white\", \"ticks\": \"\"}, \"bgcolor\": \"#E5ECF6\", \"radialaxis\": {\"gridcolor\": \"white\", \"linecolor\": \"white\", \"ticks\": \"\"}}, \"scene\": {\"xaxis\": {\"backgroundcolor\": \"#E5ECF6\", \"gridcolor\": \"white\", \"gridwidth\": 2, \"linecolor\": \"white\", \"showbackground\": true, \"ticks\": \"\", \"zerolinecolor\": \"white\"}, \"yaxis\": {\"backgroundcolor\": \"#E5ECF6\", \"gridcolor\": \"white\", \"gridwidth\": 2, \"linecolor\": \"white\", \"showbackground\": true, \"ticks\": \"\", \"zerolinecolor\": \"white\"}, \"zaxis\": {\"backgroundcolor\": \"#E5ECF6\", \"gridcolor\": \"white\", \"gridwidth\": 2, \"linecolor\": \"white\", \"showbackground\": true, \"ticks\": \"\", \"zerolinecolor\": \"white\"}}, \"shapedefaults\": {\"line\": {\"color\": \"#2a3f5f\"}}, \"ternary\": {\"aaxis\": {\"gridcolor\": \"white\", \"linecolor\": \"white\", \"ticks\": \"\"}, \"baxis\": {\"gridcolor\": \"white\", \"linecolor\": \"white\", \"ticks\": \"\"}, \"bgcolor\": \"#E5ECF6\", \"caxis\": {\"gridcolor\": \"white\", \"linecolor\": \"white\", \"ticks\": \"\"}}, \"title\": {\"x\": 0.05}, \"xaxis\": {\"automargin\": true, \"gridcolor\": \"white\", \"linecolor\": \"white\", \"ticks\": \"\", \"title\": {\"standoff\": 15}, \"zerolinecolor\": \"white\", \"zerolinewidth\": 2}, \"yaxis\": {\"automargin\": true, \"gridcolor\": \"white\", \"linecolor\": \"white\", \"ticks\": \"\", \"title\": {\"standoff\": 15}, \"zerolinecolor\": \"white\", \"zerolinewidth\": 2}}}, \"title\": {\"text\": \"Degree distribution\"}, \"xaxis\": {\"anchor\": \"y\", \"domain\": [0.0, 1.0], \"title\": {\"text\": \"Degree\"}}, \"yaxis\": {\"anchor\": \"x\", \"domain\": [0.0, 1.0], \"title\": {\"text\": \"sum of Normalized number of nodes\"}}},                        {\"responsive\": true}                    ).then(function(){\n",
       "                            \n",
       "var gd = document.getElementById('1a29521c-6c84-4f9f-a4fd-2fd4d53f94e9');\n",
       "var x = new MutationObserver(function (mutations, observer) {{\n",
       "        var display = window.getComputedStyle(gd).display;\n",
       "        if (!display || display === 'none') {{\n",
       "            console.log([gd, 'removed!']);\n",
       "            Plotly.purge(gd);\n",
       "            observer.disconnect();\n",
       "        }}\n",
       "}});\n",
       "\n",
       "// Listen for the removal of the full notebook cells\n",
       "var notebookContainer = gd.closest('#notebook-container');\n",
       "if (notebookContainer) {{\n",
       "    x.observe(notebookContainer, {childList: true});\n",
       "}}\n",
       "\n",
       "// Listen for the clearing of the current output cell\n",
       "var outputEl = gd.closest('.output');\n",
       "if (outputEl) {{\n",
       "    x.observe(outputEl, {childList: true});\n",
       "}}\n",
       "\n",
       "                        })                };                });            </script>        </div>"
      ]
     },
     "metadata": {},
     "output_type": "display_data"
    }
   ],
   "source": [
    "g.plot_degree_distro(True)"
   ]
  },
  {
   "cell_type": "markdown",
   "metadata": {},
   "source": [
    "**TO DO:** There are many outliers (zoom the plot to see them). How to handle them? By reducing the degree interval?"
   ]
  },
  {
   "cell_type": "markdown",
   "metadata": {},
   "source": [
    "## Question2 ~ Pages reached in given number of clicks"
   ]
  },
  {
   "cell_type": "code",
   "execution_count": 22,
   "metadata": {},
   "outputs": [],
   "source": [
    "pages_seen = funcs.pages_in_clicks(link_dict, 95, 2)"
   ]
  },
  {
   "cell_type": "code",
   "execution_count": 23,
   "metadata": {},
   "outputs": [
    {
     "data": {
      "text/plain": [
       "7"
      ]
     },
     "execution_count": 23,
     "metadata": {},
     "output_type": "execute_result"
    }
   ],
   "source": [
    "len(pages_seen)"
   ]
  },
  {
   "cell_type": "code",
   "execution_count": 24,
   "metadata": {},
   "outputs": [
    {
     "data": {
      "text/plain": [
       "[150451, 1062563, 1178930, 1184017, 1184695, 1761109]"
      ]
     },
     "execution_count": 24,
     "metadata": {},
     "output_type": "execute_result"
    }
   ],
   "source": [
    "link_dict[1185516]"
   ]
  },
  {
   "cell_type": "code",
   "execution_count": null,
   "metadata": {},
   "outputs": [],
   "source": []
  }
 ],
 "metadata": {
  "kernelspec": {
   "display_name": "Python 3",
   "language": "python",
   "name": "python3"
  },
  "language_info": {
   "codemirror_mode": {
    "name": "ipython",
    "version": 3
   },
   "file_extension": ".py",
   "mimetype": "text/x-python",
   "name": "python",
   "nbconvert_exporter": "python",
   "pygments_lexer": "ipython3",
   "version": "3.8.3"
  }
 },
 "nbformat": 4,
 "nbformat_minor": 4
}
