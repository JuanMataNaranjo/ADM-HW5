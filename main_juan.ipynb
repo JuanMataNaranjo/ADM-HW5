{
 "cells": [
  {
   "cell_type": "markdown",
   "metadata": {},
   "source": [
    "# Homework 5 - Explore Wikipedia's hyperlinks network"
   ]
  },
  {
   "cell_type": "markdown",
   "metadata": {},
   "source": [
    "## Data handling"
   ]
  },
  {
   "cell_type": "code",
   "execution_count": 1,
   "metadata": {},
   "outputs": [],
   "source": [
    "import scripts.functionality as funcs\n",
    "from scripts.graph import Graph, WeightedGraph\n",
    "import pandas as pd\n",
    "from collections import defaultdict\n",
    "from scripts.graph import Graph"
   ]
  },
  {
   "cell_type": "code",
   "execution_count": 2,
   "metadata": {},
   "outputs": [],
   "source": [
    "%load_ext autoreload\n",
    "%autoreload 2"
   ]
  },
  {
   "cell_type": "code",
   "execution_count": 3,
   "metadata": {},
   "outputs": [],
   "source": [
    "link_dict = funcs.read_graph()\n",
    "link_df = funcs.read_graph(output='df')\n",
    "link_dict = defaultdict(set, link_dict)"
   ]
  },
  {
   "cell_type": "markdown",
   "metadata": {},
   "source": [
    "##### Read Data and save to json"
   ]
  },
  {
   "cell_type": "code",
   "execution_count": 4,
   "metadata": {},
   "outputs": [],
   "source": [
    "pages_category = funcs.read_pages_category(filename='data/wiki-topcats-categories.txt')\n",
    "funcs.write_json('data/page_category.json', pages_category)"
   ]
  },
  {
   "cell_type": "code",
   "execution_count": 5,
   "metadata": {},
   "outputs": [],
   "source": [
    "name_page = funcs.read_name_page(filename='data/wiki-topcats-page-names.txt')\n",
    "funcs.write_json('data/name_page.json', name_page)"
   ]
  },
  {
   "cell_type": "markdown",
   "metadata": {},
   "source": [
    "##### Read data from json"
   ]
  },
  {
   "cell_type": "code",
   "execution_count": 6,
   "metadata": {},
   "outputs": [],
   "source": [
    "# pages_category: Key is the category, and value is a list of integers which is associated to a set of articles\n",
    "# name_page: Key is an integer that identifies the article. The value associated is the name of the article\n",
    "pages_category = funcs.read_json('data/page_category.json')\n",
    "name_page = funcs.read_json_int_key('data/name_page.json')"
   ]
  },
  {
   "cell_type": "code",
   "execution_count": 7,
   "metadata": {
    "scrolled": true
   },
   "outputs": [],
   "source": [
    "# Find articles assigned to multiple categories\n",
    "article_category = funcs.revert_dict_list(pages_category)"
   ]
  },
  {
   "cell_type": "code",
   "execution_count": 8,
   "metadata": {},
   "outputs": [],
   "source": [
    "# Randomly pick one category for each article\n",
    "unique_category = funcs.uniformly_pick_article_category(article_category)"
   ]
  },
  {
   "cell_type": "code",
   "execution_count": 9,
   "metadata": {},
   "outputs": [],
   "source": [
    "# Revert back from articles to categories\n",
    "final_pages_category = funcs.revert_dict(unique_category)\n",
    "funcs.write_json('data/final_pages_category.json', final_pages_category)"
   ]
  },
  {
   "cell_type": "markdown",
   "metadata": {},
   "source": [
    "<br>\n",
    "\n",
    "## Question 1 ~ Build the graph"
   ]
  },
  {
   "cell_type": "markdown",
   "metadata": {},
   "source": [
    "As the first step, we build the graph leveraging the custom Graph class we defined:"
   ]
  },
  {
   "cell_type": "code",
   "execution_count": 11,
   "metadata": {},
   "outputs": [],
   "source": [
    "g = Graph.from_dict(link_dict)"
   ]
  },
  {
   "cell_type": "markdown",
   "metadata": {},
   "source": [
    "#### Is the graph directed?\n",
    "\n",
    "The graph is directed, since each node corresponds to a Wikipedia article and each edge corresponds to a web link from an article to another."
   ]
  },
  {
   "cell_type": "markdown",
   "metadata": {},
   "source": [
    "#### How many articles are we considering?\n",
    "\n",
    "The number of articles we are considering is equal to the number of nodes in the graph, that is the number of nodes which appear in our reduced dataset."
   ]
  },
  {
   "cell_type": "code",
   "execution_count": 5,
   "metadata": {},
   "outputs": [
    {
     "name": "stdout",
     "output_type": "stream",
     "text": [
      "Number of articles:\t98343\n"
     ]
    }
   ],
   "source": [
    "print(f'Number of articles:\\t{g.n_vertices_}')"
   ]
  },
  {
   "cell_type": "markdown",
   "metadata": {},
   "source": [
    "#### How many hyperlinks between pages exist?\n",
    "\n",
    "The number of hyperlinks between the pages is equal to the number of edges in the graph."
   ]
  },
  {
   "cell_type": "code",
   "execution_count": 6,
   "metadata": {},
   "outputs": [
    {
     "name": "stdout",
     "output_type": "stream",
     "text": [
      "Number of hyperlinks:\t483094\n"
     ]
    }
   ],
   "source": [
    "print(f'Number of hyperlinks:\\t{g.n_edges_}')"
   ]
  },
  {
   "cell_type": "markdown",
   "metadata": {},
   "source": [
    "#### Compute the average number of links in an arbitrary page\n",
    "\n",
    "The average number of links in an arbitrary page is simply equal to the fraction of the number of links over the number of vertices."
   ]
  },
  {
   "cell_type": "code",
   "execution_count": 7,
   "metadata": {},
   "outputs": [
    {
     "name": "stdout",
     "output_type": "stream",
     "text": [
      "Average number of links in an arbitrary page:\t4.912\n"
     ]
    }
   ],
   "source": [
    "print(f'Average number of links in an arbitrary page:\\t{round(g.n_edges_ / g.n_vertices_,3)}')"
   ]
  },
  {
   "cell_type": "markdown",
   "metadata": {},
   "source": [
    "#### What is the graph density? Do you believe that the graph is dense or sparse? Is the graph dense?\n",
    "\n",
    "The density of a graph is the ratio between the effective number of edges in the graph and the maximum number of possible edges of the graph. That is, let $\\mathbf{G}(V, E)$ a directed graph, where $V$ is the set of nodes of the graph and $E$ is the set of edges. Then the density is:\n",
    "\n",
    "$$D=\\frac{|E|}{2{V\\choose 2}}=\\frac{|E|}{|V|\\cdot \\left(|V| - 1\\right)}$$\n",
    "\n",
    "A graph is said to be *dense* if $D\\approx 1$. Otherwise, it is said *sparse* if $D\\approx 0$.\n",
    "\n",
    "We now compute the density of the our graph."
   ]
  },
  {
   "cell_type": "code",
   "execution_count": 8,
   "metadata": {},
   "outputs": [
    {
     "name": "stdout",
     "output_type": "stream",
     "text": [
      "Density of the graph:\t4.995e-05\n"
     ]
    }
   ],
   "source": [
    "print(f'Density of the graph:\\t{g.density_}')"
   ]
  },
  {
   "cell_type": "markdown",
   "metadata": {},
   "source": [
    "The magnitude order of the density of the graph is order of 10<sup>-4</sup>, then it is a sparse graph."
   ]
  },
  {
   "cell_type": "markdown",
   "metadata": {},
   "source": [
    "#### Visualize the nodes' degree distribution\n",
    "\n",
    "The nodes' degree distribution shows how many vertices the graph has with degree d. \n",
    "\n",
    "For the graph we are analysing, the degree distribution is the following:"
   ]
  },
  {
   "cell_type": "code",
   "execution_count": 21,
   "metadata": {
    "scrolled": false
   },
   "outputs": [
    {
     "data": {
      "application/vnd.plotly.v1+json": {
       "config": {
        "plotlyServerURL": "https://plot.ly"
       },
       "data": [
        {
         "alignmentgroup": "True",
         "bingroup": "x",
         "histfunc": "sum",
         "hovertemplate": "Degree=%{x}<br>sum of Normalized number of nodes=%{y}<extra></extra>",
         "legendgroup": "",
         "marker": {
          "color": "#636efa"
         },
         "name": "",
         "offsetgroup": "",
         "orientation": "v",
         "showlegend": false,
         "type": "histogram",
         "x": [
          1,
          3,
          9,
          14,
          4,
          15,
          11,
          2,
          19,
          7,
          5,
          10,
          13,
          18,
          22,
          16,
          6,
          29,
          8,
          12,
          20,
          24,
          25,
          17,
          28,
          49,
          32,
          26,
          21,
          30,
          44,
          73,
          39,
          27,
          23,
          48,
          36,
          43,
          77,
          41,
          31,
          37,
          33,
          56,
          34,
          52,
          45,
          47,
          76,
          54,
          65,
          35,
          110,
          70,
          40,
          50,
          46,
          62,
          58,
          81,
          57,
          38,
          64,
          87,
          94,
          63,
          75,
          83,
          82,
          71,
          96,
          97,
          51,
          93,
          127,
          112,
          174,
          115,
          84,
          53,
          78,
          164,
          74,
          160,
          90,
          60,
          89,
          100,
          42,
          135,
          68,
          162,
          116,
          72,
          197,
          145,
          102,
          59,
          92,
          158,
          144,
          155,
          231,
          125,
          107,
          86,
          104,
          128,
          67,
          194,
          66,
          85,
          103,
          178,
          95,
          61,
          79,
          99,
          55,
          131,
          146,
          91,
          80,
          138,
          129,
          119,
          258,
          106,
          98,
          113,
          175,
          123,
          152,
          122,
          301,
          118,
          111,
          235,
          192,
          380,
          190,
          167,
          133,
          101,
          69,
          130,
          431,
          137,
          186,
          312,
          210,
          323,
          168,
          117,
          169,
          141,
          120,
          295,
          275,
          114,
          546,
          10832,
          134,
          199,
          277,
          181,
          409,
          263,
          157,
          139,
          148,
          108,
          105,
          126,
          153,
          88,
          187,
          151,
          132,
          150,
          142,
          172,
          109,
          189,
          228,
          176,
          165,
          391,
          156,
          251,
          315,
          283,
          253,
          220,
          218,
          191,
          221,
          140,
          170,
          177,
          180,
          227,
          345,
          319,
          434,
          378,
          147,
          282,
          611,
          195,
          342,
          285,
          327,
          206,
          185,
          121,
          124,
          234,
          188,
          230,
          254,
          268,
          149,
          159,
          193,
          291,
          219,
          216,
          184,
          166,
          161,
          205,
          248,
          256,
          213,
          198,
          242,
          239,
          318,
          298,
          390,
          236,
          414,
          196,
          171,
          244,
          517,
          502,
          214,
          246,
          238,
          143,
          1410,
          163,
          136,
          273,
          202,
          385,
          387,
          270,
          250,
          182,
          222,
          363,
          243,
          183,
          265,
          402,
          299,
          209,
          443,
          344,
          203,
          290,
          232,
          369,
          215,
          314,
          361
         ],
         "xaxis": "x",
         "y": [
          0.2371190628717855,
          0.06645109463815421,
          0.02607201325971345,
          0.01547644468848825,
          0.06957282165482037,
          0.014571448908412393,
          0.02102844127187497,
          0.1709730229909602,
          0.009182148195601111,
          0.03350518084662864,
          0.04484304932735426,
          0.024800951770842867,
          0.01669666371780401,
          0.010351524765362049,
          0.007331482667805538,
          0.012446234099020775,
          0.04271783451796264,
          0.003457287249727993,
          0.0323358042768677,
          0.019442156533764476,
          0.008002603133929207,
          0.005745197929695047,
          0.005033403495927519,
          0.010382030241094943,
          0.003996217321009121,
          0.0010473546668293625,
          0.0028166722593372176,
          0.004585989851845073,
          0.007311145683983608,
          0.003508129709282816,
          0.0012507245050486563,
          0.0003355602330618346,
          0.0018811710035284666,
          0.0040165543048310505,
          0.006212948557599423,
          0.0011490395859390095,
          0.002298079171878019,
          0.0016676326733982083,
          0.0003965711845276227,
          0.0014439258513569853,
          0.0028980201946249354,
          0.002135383301302584,
          0.002796335275515288,
          0.0008033108609662101,
          0.0025522914696521357,
          0.0008338163366991042,
          0.001159208077849974,
          0.0010270176830074332,
          0.0003457287249727993,
          0.0007219629256784927,
          0.0005592670551030577,
          0.002226899728501266,
          0.0001423588867535056,
          0.00036606570879472864,
          0.0017184751329530317,
          0.0010778601425622566,
          0.001220219029315762,
          0.0004779191198153402,
          0.000579604038924987,
          0.0002643807896850818,
          0.0005897725308359517,
          0.0017998230682407493,
          0.00038640269261665803,
          0.00029488626541797586,
          0.00023387531395218774,
          0.0005694355470140224,
          0.00035589721688376397,
          0.00029488626541797586,
          0.00018303285439736432,
          0.00035589721688376397,
          0.0002643807896850818,
          0.00019320134630832901,
          0.0009456697477197157,
          0.00018303285439736432,
          0.0001321903948425409,
          9.151642719868216e-05,
          6.101095146578811e-05,
          0.00010168491910964685,
          0.00022370682204122307,
          0.0008134793528771748,
          0.00031522324923990525,
          2.033698382192937e-05,
          0.00042707666026051675,
          6.101095146578811e-05,
          0.0002847177735070112,
          0.0005694355470140224,
          0.00023387531395218774,
          0.00019320134630832901,
          0.001260892996959621,
          6.101095146578811e-05,
          0.00044741364408244614,
          2.033698382192937e-05,
          6.101095146578811e-05,
          0.0004169081683495521,
          5.084245955482343e-05,
          5.084245955482343e-05,
          0.00012202190293157622,
          0.0006406149903907751,
          0.00016269587057543496,
          4.067396764385874e-05,
          6.101095146578811e-05,
          4.067396764385874e-05,
          4.067396764385874e-05,
          0.00011185341102061154,
          0.0001423588867535056,
          0.00031522324923990525,
          0.00018303285439736432,
          0.00011185341102061154,
          0.0004575821359934108,
          2.033698382192937e-05,
          0.0005185930874591989,
          0.0002847177735070112,
          0.00011185341102061154,
          5.084245955482343e-05,
          0.00017286436248639965,
          0.0005694355470140224,
          0.0002847177735070112,
          0.00019320134630832901,
          0.0008134793528771748,
          4.067396764385874e-05,
          7.11794433767528e-05,
          0.00017286436248639965,
          0.00035589721688376397,
          0.00010168491910964685,
          9.151642719868216e-05,
          0.00010168491910964685,
          3.0505475732894054e-05,
          0.0001423588867535056,
          0.00018303285439736432,
          0.00015252737866447026,
          5.084245955482343e-05,
          7.11794433767528e-05,
          3.0505475732894054e-05,
          3.0505475732894054e-05,
          3.0505475732894054e-05,
          0.00012202190293157622,
          0.00011185341102061154,
          2.033698382192937e-05,
          3.0505475732894054e-05,
          1.0168491910964685e-05,
          3.0505475732894054e-05,
          4.067396764385874e-05,
          6.101095146578811e-05,
          0.00018303285439736432,
          0.0003965711845276227,
          6.101095146578811e-05,
          1.0168491910964685e-05,
          0.00011185341102061154,
          1.0168491910964685e-05,
          1.0168491910964685e-05,
          3.0505475732894054e-05,
          1.0168491910964685e-05,
          2.033698382192937e-05,
          0.00010168491910964685,
          2.033698382192937e-05,
          7.11794433767528e-05,
          9.151642719868216e-05,
          2.033698382192937e-05,
          2.033698382192937e-05,
          8.134793528771748e-05,
          1.0168491910964685e-05,
          1.0168491910964685e-05,
          7.11794433767528e-05,
          3.0505475732894054e-05,
          2.033698382192937e-05,
          1.0168491910964685e-05,
          1.0168491910964685e-05,
          2.033698382192937e-05,
          8.134793528771748e-05,
          7.11794433767528e-05,
          4.067396764385874e-05,
          8.134793528771748e-05,
          0.00011185341102061154,
          5.084245955482343e-05,
          7.11794433767528e-05,
          0.00018303285439736432,
          5.084245955482343e-05,
          4.067396764385874e-05,
          5.084245955482343e-05,
          5.084245955482343e-05,
          6.101095146578811e-05,
          8.134793528771748e-05,
          0.00011185341102061154,
          2.033698382192937e-05,
          2.033698382192937e-05,
          3.0505475732894054e-05,
          4.067396764385874e-05,
          1.0168491910964685e-05,
          3.0505475732894054e-05,
          2.033698382192937e-05,
          1.0168491910964685e-05,
          2.033698382192937e-05,
          1.0168491910964685e-05,
          3.0505475732894054e-05,
          1.0168491910964685e-05,
          2.033698382192937e-05,
          1.0168491910964685e-05,
          6.101095146578811e-05,
          5.084245955482343e-05,
          2.033698382192937e-05,
          5.084245955482343e-05,
          1.0168491910964685e-05,
          1.0168491910964685e-05,
          2.033698382192937e-05,
          1.0168491910964685e-05,
          1.0168491910964685e-05,
          7.11794433767528e-05,
          3.0505475732894054e-05,
          1.0168491910964685e-05,
          5.084245955482343e-05,
          1.0168491910964685e-05,
          2.033698382192937e-05,
          1.0168491910964685e-05,
          3.0505475732894054e-05,
          3.0505475732894054e-05,
          9.151642719868216e-05,
          8.134793528771748e-05,
          1.0168491910964685e-05,
          2.033698382192937e-05,
          1.0168491910964685e-05,
          2.033698382192937e-05,
          1.0168491910964685e-05,
          3.0505475732894054e-05,
          3.0505475732894054e-05,
          2.033698382192937e-05,
          1.0168491910964685e-05,
          2.033698382192937e-05,
          2.033698382192937e-05,
          4.067396764385874e-05,
          4.067396764385874e-05,
          2.033698382192937e-05,
          3.0505475732894054e-05,
          3.0505475732894054e-05,
          2.033698382192937e-05,
          3.0505475732894054e-05,
          1.0168491910964685e-05,
          1.0168491910964685e-05,
          1.0168491910964685e-05,
          2.033698382192937e-05,
          1.0168491910964685e-05,
          1.0168491910964685e-05,
          1.0168491910964685e-05,
          1.0168491910964685e-05,
          2.033698382192937e-05,
          3.0505475732894054e-05,
          1.0168491910964685e-05,
          1.0168491910964685e-05,
          1.0168491910964685e-05,
          2.033698382192937e-05,
          3.0505475732894054e-05,
          1.0168491910964685e-05,
          4.067396764385874e-05,
          1.0168491910964685e-05,
          2.033698382192937e-05,
          4.067396764385874e-05,
          1.0168491910964685e-05,
          1.0168491910964685e-05,
          1.0168491910964685e-05,
          1.0168491910964685e-05,
          1.0168491910964685e-05,
          1.0168491910964685e-05,
          1.0168491910964685e-05,
          1.0168491910964685e-05,
          1.0168491910964685e-05,
          1.0168491910964685e-05,
          2.033698382192937e-05,
          1.0168491910964685e-05,
          1.0168491910964685e-05,
          1.0168491910964685e-05,
          1.0168491910964685e-05,
          1.0168491910964685e-05,
          1.0168491910964685e-05,
          1.0168491910964685e-05,
          1.0168491910964685e-05,
          1.0168491910964685e-05,
          1.0168491910964685e-05,
          1.0168491910964685e-05,
          1.0168491910964685e-05,
          1.0168491910964685e-05
         ],
         "yaxis": "y"
        }
       ],
       "layout": {
        "barmode": "relative",
        "legend": {
         "tracegroupgap": 0
        },
        "template": {
         "data": {
          "bar": [
           {
            "error_x": {
             "color": "#2a3f5f"
            },
            "error_y": {
             "color": "#2a3f5f"
            },
            "marker": {
             "line": {
              "color": "#E5ECF6",
              "width": 0.5
             }
            },
            "type": "bar"
           }
          ],
          "barpolar": [
           {
            "marker": {
             "line": {
              "color": "#E5ECF6",
              "width": 0.5
             }
            },
            "type": "barpolar"
           }
          ],
          "carpet": [
           {
            "aaxis": {
             "endlinecolor": "#2a3f5f",
             "gridcolor": "white",
             "linecolor": "white",
             "minorgridcolor": "white",
             "startlinecolor": "#2a3f5f"
            },
            "baxis": {
             "endlinecolor": "#2a3f5f",
             "gridcolor": "white",
             "linecolor": "white",
             "minorgridcolor": "white",
             "startlinecolor": "#2a3f5f"
            },
            "type": "carpet"
           }
          ],
          "choropleth": [
           {
            "colorbar": {
             "outlinewidth": 0,
             "ticks": ""
            },
            "type": "choropleth"
           }
          ],
          "contour": [
           {
            "colorbar": {
             "outlinewidth": 0,
             "ticks": ""
            },
            "colorscale": [
             [
              0,
              "#0d0887"
             ],
             [
              0.1111111111111111,
              "#46039f"
             ],
             [
              0.2222222222222222,
              "#7201a8"
             ],
             [
              0.3333333333333333,
              "#9c179e"
             ],
             [
              0.4444444444444444,
              "#bd3786"
             ],
             [
              0.5555555555555556,
              "#d8576b"
             ],
             [
              0.6666666666666666,
              "#ed7953"
             ],
             [
              0.7777777777777778,
              "#fb9f3a"
             ],
             [
              0.8888888888888888,
              "#fdca26"
             ],
             [
              1,
              "#f0f921"
             ]
            ],
            "type": "contour"
           }
          ],
          "contourcarpet": [
           {
            "colorbar": {
             "outlinewidth": 0,
             "ticks": ""
            },
            "type": "contourcarpet"
           }
          ],
          "heatmap": [
           {
            "colorbar": {
             "outlinewidth": 0,
             "ticks": ""
            },
            "colorscale": [
             [
              0,
              "#0d0887"
             ],
             [
              0.1111111111111111,
              "#46039f"
             ],
             [
              0.2222222222222222,
              "#7201a8"
             ],
             [
              0.3333333333333333,
              "#9c179e"
             ],
             [
              0.4444444444444444,
              "#bd3786"
             ],
             [
              0.5555555555555556,
              "#d8576b"
             ],
             [
              0.6666666666666666,
              "#ed7953"
             ],
             [
              0.7777777777777778,
              "#fb9f3a"
             ],
             [
              0.8888888888888888,
              "#fdca26"
             ],
             [
              1,
              "#f0f921"
             ]
            ],
            "type": "heatmap"
           }
          ],
          "heatmapgl": [
           {
            "colorbar": {
             "outlinewidth": 0,
             "ticks": ""
            },
            "colorscale": [
             [
              0,
              "#0d0887"
             ],
             [
              0.1111111111111111,
              "#46039f"
             ],
             [
              0.2222222222222222,
              "#7201a8"
             ],
             [
              0.3333333333333333,
              "#9c179e"
             ],
             [
              0.4444444444444444,
              "#bd3786"
             ],
             [
              0.5555555555555556,
              "#d8576b"
             ],
             [
              0.6666666666666666,
              "#ed7953"
             ],
             [
              0.7777777777777778,
              "#fb9f3a"
             ],
             [
              0.8888888888888888,
              "#fdca26"
             ],
             [
              1,
              "#f0f921"
             ]
            ],
            "type": "heatmapgl"
           }
          ],
          "histogram": [
           {
            "marker": {
             "colorbar": {
              "outlinewidth": 0,
              "ticks": ""
             }
            },
            "type": "histogram"
           }
          ],
          "histogram2d": [
           {
            "colorbar": {
             "outlinewidth": 0,
             "ticks": ""
            },
            "colorscale": [
             [
              0,
              "#0d0887"
             ],
             [
              0.1111111111111111,
              "#46039f"
             ],
             [
              0.2222222222222222,
              "#7201a8"
             ],
             [
              0.3333333333333333,
              "#9c179e"
             ],
             [
              0.4444444444444444,
              "#bd3786"
             ],
             [
              0.5555555555555556,
              "#d8576b"
             ],
             [
              0.6666666666666666,
              "#ed7953"
             ],
             [
              0.7777777777777778,
              "#fb9f3a"
             ],
             [
              0.8888888888888888,
              "#fdca26"
             ],
             [
              1,
              "#f0f921"
             ]
            ],
            "type": "histogram2d"
           }
          ],
          "histogram2dcontour": [
           {
            "colorbar": {
             "outlinewidth": 0,
             "ticks": ""
            },
            "colorscale": [
             [
              0,
              "#0d0887"
             ],
             [
              0.1111111111111111,
              "#46039f"
             ],
             [
              0.2222222222222222,
              "#7201a8"
             ],
             [
              0.3333333333333333,
              "#9c179e"
             ],
             [
              0.4444444444444444,
              "#bd3786"
             ],
             [
              0.5555555555555556,
              "#d8576b"
             ],
             [
              0.6666666666666666,
              "#ed7953"
             ],
             [
              0.7777777777777778,
              "#fb9f3a"
             ],
             [
              0.8888888888888888,
              "#fdca26"
             ],
             [
              1,
              "#f0f921"
             ]
            ],
            "type": "histogram2dcontour"
           }
          ],
          "mesh3d": [
           {
            "colorbar": {
             "outlinewidth": 0,
             "ticks": ""
            },
            "type": "mesh3d"
           }
          ],
          "parcoords": [
           {
            "line": {
             "colorbar": {
              "outlinewidth": 0,
              "ticks": ""
             }
            },
            "type": "parcoords"
           }
          ],
          "pie": [
           {
            "automargin": true,
            "type": "pie"
           }
          ],
          "scatter": [
           {
            "marker": {
             "colorbar": {
              "outlinewidth": 0,
              "ticks": ""
             }
            },
            "type": "scatter"
           }
          ],
          "scatter3d": [
           {
            "line": {
             "colorbar": {
              "outlinewidth": 0,
              "ticks": ""
             }
            },
            "marker": {
             "colorbar": {
              "outlinewidth": 0,
              "ticks": ""
             }
            },
            "type": "scatter3d"
           }
          ],
          "scattercarpet": [
           {
            "marker": {
             "colorbar": {
              "outlinewidth": 0,
              "ticks": ""
             }
            },
            "type": "scattercarpet"
           }
          ],
          "scattergeo": [
           {
            "marker": {
             "colorbar": {
              "outlinewidth": 0,
              "ticks": ""
             }
            },
            "type": "scattergeo"
           }
          ],
          "scattergl": [
           {
            "marker": {
             "colorbar": {
              "outlinewidth": 0,
              "ticks": ""
             }
            },
            "type": "scattergl"
           }
          ],
          "scattermapbox": [
           {
            "marker": {
             "colorbar": {
              "outlinewidth": 0,
              "ticks": ""
             }
            },
            "type": "scattermapbox"
           }
          ],
          "scatterpolar": [
           {
            "marker": {
             "colorbar": {
              "outlinewidth": 0,
              "ticks": ""
             }
            },
            "type": "scatterpolar"
           }
          ],
          "scatterpolargl": [
           {
            "marker": {
             "colorbar": {
              "outlinewidth": 0,
              "ticks": ""
             }
            },
            "type": "scatterpolargl"
           }
          ],
          "scatterternary": [
           {
            "marker": {
             "colorbar": {
              "outlinewidth": 0,
              "ticks": ""
             }
            },
            "type": "scatterternary"
           }
          ],
          "surface": [
           {
            "colorbar": {
             "outlinewidth": 0,
             "ticks": ""
            },
            "colorscale": [
             [
              0,
              "#0d0887"
             ],
             [
              0.1111111111111111,
              "#46039f"
             ],
             [
              0.2222222222222222,
              "#7201a8"
             ],
             [
              0.3333333333333333,
              "#9c179e"
             ],
             [
              0.4444444444444444,
              "#bd3786"
             ],
             [
              0.5555555555555556,
              "#d8576b"
             ],
             [
              0.6666666666666666,
              "#ed7953"
             ],
             [
              0.7777777777777778,
              "#fb9f3a"
             ],
             [
              0.8888888888888888,
              "#fdca26"
             ],
             [
              1,
              "#f0f921"
             ]
            ],
            "type": "surface"
           }
          ],
          "table": [
           {
            "cells": {
             "fill": {
              "color": "#EBF0F8"
             },
             "line": {
              "color": "white"
             }
            },
            "header": {
             "fill": {
              "color": "#C8D4E3"
             },
             "line": {
              "color": "white"
             }
            },
            "type": "table"
           }
          ]
         },
         "layout": {
          "annotationdefaults": {
           "arrowcolor": "#2a3f5f",
           "arrowhead": 0,
           "arrowwidth": 1
          },
          "coloraxis": {
           "colorbar": {
            "outlinewidth": 0,
            "ticks": ""
           }
          },
          "colorscale": {
           "diverging": [
            [
             0,
             "#8e0152"
            ],
            [
             0.1,
             "#c51b7d"
            ],
            [
             0.2,
             "#de77ae"
            ],
            [
             0.3,
             "#f1b6da"
            ],
            [
             0.4,
             "#fde0ef"
            ],
            [
             0.5,
             "#f7f7f7"
            ],
            [
             0.6,
             "#e6f5d0"
            ],
            [
             0.7,
             "#b8e186"
            ],
            [
             0.8,
             "#7fbc41"
            ],
            [
             0.9,
             "#4d9221"
            ],
            [
             1,
             "#276419"
            ]
           ],
           "sequential": [
            [
             0,
             "#0d0887"
            ],
            [
             0.1111111111111111,
             "#46039f"
            ],
            [
             0.2222222222222222,
             "#7201a8"
            ],
            [
             0.3333333333333333,
             "#9c179e"
            ],
            [
             0.4444444444444444,
             "#bd3786"
            ],
            [
             0.5555555555555556,
             "#d8576b"
            ],
            [
             0.6666666666666666,
             "#ed7953"
            ],
            [
             0.7777777777777778,
             "#fb9f3a"
            ],
            [
             0.8888888888888888,
             "#fdca26"
            ],
            [
             1,
             "#f0f921"
            ]
           ],
           "sequentialminus": [
            [
             0,
             "#0d0887"
            ],
            [
             0.1111111111111111,
             "#46039f"
            ],
            [
             0.2222222222222222,
             "#7201a8"
            ],
            [
             0.3333333333333333,
             "#9c179e"
            ],
            [
             0.4444444444444444,
             "#bd3786"
            ],
            [
             0.5555555555555556,
             "#d8576b"
            ],
            [
             0.6666666666666666,
             "#ed7953"
            ],
            [
             0.7777777777777778,
             "#fb9f3a"
            ],
            [
             0.8888888888888888,
             "#fdca26"
            ],
            [
             1,
             "#f0f921"
            ]
           ]
          },
          "colorway": [
           "#636efa",
           "#EF553B",
           "#00cc96",
           "#ab63fa",
           "#FFA15A",
           "#19d3f3",
           "#FF6692",
           "#B6E880",
           "#FF97FF",
           "#FECB52"
          ],
          "font": {
           "color": "#2a3f5f"
          },
          "geo": {
           "bgcolor": "white",
           "lakecolor": "white",
           "landcolor": "#E5ECF6",
           "showlakes": true,
           "showland": true,
           "subunitcolor": "white"
          },
          "hoverlabel": {
           "align": "left"
          },
          "hovermode": "closest",
          "mapbox": {
           "style": "light"
          },
          "paper_bgcolor": "white",
          "plot_bgcolor": "#E5ECF6",
          "polar": {
           "angularaxis": {
            "gridcolor": "white",
            "linecolor": "white",
            "ticks": ""
           },
           "bgcolor": "#E5ECF6",
           "radialaxis": {
            "gridcolor": "white",
            "linecolor": "white",
            "ticks": ""
           }
          },
          "scene": {
           "xaxis": {
            "backgroundcolor": "#E5ECF6",
            "gridcolor": "white",
            "gridwidth": 2,
            "linecolor": "white",
            "showbackground": true,
            "ticks": "",
            "zerolinecolor": "white"
           },
           "yaxis": {
            "backgroundcolor": "#E5ECF6",
            "gridcolor": "white",
            "gridwidth": 2,
            "linecolor": "white",
            "showbackground": true,
            "ticks": "",
            "zerolinecolor": "white"
           },
           "zaxis": {
            "backgroundcolor": "#E5ECF6",
            "gridcolor": "white",
            "gridwidth": 2,
            "linecolor": "white",
            "showbackground": true,
            "ticks": "",
            "zerolinecolor": "white"
           }
          },
          "shapedefaults": {
           "line": {
            "color": "#2a3f5f"
           }
          },
          "ternary": {
           "aaxis": {
            "gridcolor": "white",
            "linecolor": "white",
            "ticks": ""
           },
           "baxis": {
            "gridcolor": "white",
            "linecolor": "white",
            "ticks": ""
           },
           "bgcolor": "#E5ECF6",
           "caxis": {
            "gridcolor": "white",
            "linecolor": "white",
            "ticks": ""
           }
          },
          "title": {
           "x": 0.05
          },
          "xaxis": {
           "automargin": true,
           "gridcolor": "white",
           "linecolor": "white",
           "ticks": "",
           "title": {
            "standoff": 15
           },
           "zerolinecolor": "white",
           "zerolinewidth": 2
          },
          "yaxis": {
           "automargin": true,
           "gridcolor": "white",
           "linecolor": "white",
           "ticks": "",
           "title": {
            "standoff": 15
           },
           "zerolinecolor": "white",
           "zerolinewidth": 2
          }
         }
        },
        "title": {
         "text": "Degree distribution"
        },
        "xaxis": {
         "anchor": "y",
         "domain": [
          0,
          1
         ],
         "title": {
          "text": "Degree"
         }
        },
        "yaxis": {
         "anchor": "x",
         "domain": [
          0,
          1
         ],
         "title": {
          "text": "sum of Normalized number of nodes"
         }
        }
       }
      },
      "text/html": [
       "<div>                            <div id=\"1a29521c-6c84-4f9f-a4fd-2fd4d53f94e9\" class=\"plotly-graph-div\" style=\"height:525px; width:100%;\"></div>            <script type=\"text/javascript\">                require([\"plotly\"], function(Plotly) {                    window.PLOTLYENV=window.PLOTLYENV || {};                                    if (document.getElementById(\"1a29521c-6c84-4f9f-a4fd-2fd4d53f94e9\")) {                    Plotly.newPlot(                        \"1a29521c-6c84-4f9f-a4fd-2fd4d53f94e9\",                        [{\"alignmentgroup\": \"True\", \"bingroup\": \"x\", \"histfunc\": \"sum\", \"hovertemplate\": \"Degree=%{x}<br>sum of Normalized number of nodes=%{y}<extra></extra>\", \"legendgroup\": \"\", \"marker\": {\"color\": \"#636efa\"}, \"name\": \"\", \"offsetgroup\": \"\", \"orientation\": \"v\", \"showlegend\": false, \"type\": \"histogram\", \"x\": [1, 3, 9, 14, 4, 15, 11, 2, 19, 7, 5, 10, 13, 18, 22, 16, 6, 29, 8, 12, 20, 24, 25, 17, 28, 49, 32, 26, 21, 30, 44, 73, 39, 27, 23, 48, 36, 43, 77, 41, 31, 37, 33, 56, 34, 52, 45, 47, 76, 54, 65, 35, 110, 70, 40, 50, 46, 62, 58, 81, 57, 38, 64, 87, 94, 63, 75, 83, 82, 71, 96, 97, 51, 93, 127, 112, 174, 115, 84, 53, 78, 164, 74, 160, 90, 60, 89, 100, 42, 135, 68, 162, 116, 72, 197, 145, 102, 59, 92, 158, 144, 155, 231, 125, 107, 86, 104, 128, 67, 194, 66, 85, 103, 178, 95, 61, 79, 99, 55, 131, 146, 91, 80, 138, 129, 119, 258, 106, 98, 113, 175, 123, 152, 122, 301, 118, 111, 235, 192, 380, 190, 167, 133, 101, 69, 130, 431, 137, 186, 312, 210, 323, 168, 117, 169, 141, 120, 295, 275, 114, 546, 10832, 134, 199, 277, 181, 409, 263, 157, 139, 148, 108, 105, 126, 153, 88, 187, 151, 132, 150, 142, 172, 109, 189, 228, 176, 165, 391, 156, 251, 315, 283, 253, 220, 218, 191, 221, 140, 170, 177, 180, 227, 345, 319, 434, 378, 147, 282, 611, 195, 342, 285, 327, 206, 185, 121, 124, 234, 188, 230, 254, 268, 149, 159, 193, 291, 219, 216, 184, 166, 161, 205, 248, 256, 213, 198, 242, 239, 318, 298, 390, 236, 414, 196, 171, 244, 517, 502, 214, 246, 238, 143, 1410, 163, 136, 273, 202, 385, 387, 270, 250, 182, 222, 363, 243, 183, 265, 402, 299, 209, 443, 344, 203, 290, 232, 369, 215, 314, 361], \"xaxis\": \"x\", \"y\": [0.2371190628717855, 0.06645109463815421, 0.02607201325971345, 0.01547644468848825, 0.06957282165482037, 0.014571448908412393, 0.02102844127187497, 0.1709730229909602, 0.009182148195601111, 0.03350518084662864, 0.04484304932735426, 0.024800951770842867, 0.01669666371780401, 0.010351524765362049, 0.007331482667805538, 0.012446234099020775, 0.04271783451796264, 0.003457287249727993, 0.0323358042768677, 0.019442156533764476, 0.008002603133929207, 0.005745197929695047, 0.005033403495927519, 0.010382030241094943, 0.003996217321009121, 0.0010473546668293625, 0.0028166722593372176, 0.004585989851845073, 0.007311145683983608, 0.003508129709282816, 0.0012507245050486563, 0.0003355602330618346, 0.0018811710035284666, 0.0040165543048310505, 0.006212948557599423, 0.0011490395859390095, 0.002298079171878019, 0.0016676326733982083, 0.0003965711845276227, 0.0014439258513569853, 0.0028980201946249354, 0.002135383301302584, 0.002796335275515288, 0.0008033108609662101, 0.0025522914696521357, 0.0008338163366991042, 0.001159208077849974, 0.0010270176830074332, 0.0003457287249727993, 0.0007219629256784927, 0.0005592670551030577, 0.002226899728501266, 0.0001423588867535056, 0.00036606570879472864, 0.0017184751329530317, 0.0010778601425622566, 0.001220219029315762, 0.0004779191198153402, 0.000579604038924987, 0.0002643807896850818, 0.0005897725308359517, 0.0017998230682407493, 0.00038640269261665803, 0.00029488626541797586, 0.00023387531395218774, 0.0005694355470140224, 0.00035589721688376397, 0.00029488626541797586, 0.00018303285439736432, 0.00035589721688376397, 0.0002643807896850818, 0.00019320134630832901, 0.0009456697477197157, 0.00018303285439736432, 0.0001321903948425409, 9.151642719868216e-05, 6.101095146578811e-05, 0.00010168491910964685, 0.00022370682204122307, 0.0008134793528771748, 0.00031522324923990525, 2.033698382192937e-05, 0.00042707666026051675, 6.101095146578811e-05, 0.0002847177735070112, 0.0005694355470140224, 0.00023387531395218774, 0.00019320134630832901, 0.001260892996959621, 6.101095146578811e-05, 0.00044741364408244614, 2.033698382192937e-05, 6.101095146578811e-05, 0.0004169081683495521, 5.084245955482343e-05, 5.084245955482343e-05, 0.00012202190293157622, 0.0006406149903907751, 0.00016269587057543496, 4.067396764385874e-05, 6.101095146578811e-05, 4.067396764385874e-05, 4.067396764385874e-05, 0.00011185341102061154, 0.0001423588867535056, 0.00031522324923990525, 0.00018303285439736432, 0.00011185341102061154, 0.0004575821359934108, 2.033698382192937e-05, 0.0005185930874591989, 0.0002847177735070112, 0.00011185341102061154, 5.084245955482343e-05, 0.00017286436248639965, 0.0005694355470140224, 0.0002847177735070112, 0.00019320134630832901, 0.0008134793528771748, 4.067396764385874e-05, 7.11794433767528e-05, 0.00017286436248639965, 0.00035589721688376397, 0.00010168491910964685, 9.151642719868216e-05, 0.00010168491910964685, 3.0505475732894054e-05, 0.0001423588867535056, 0.00018303285439736432, 0.00015252737866447026, 5.084245955482343e-05, 7.11794433767528e-05, 3.0505475732894054e-05, 3.0505475732894054e-05, 3.0505475732894054e-05, 0.00012202190293157622, 0.00011185341102061154, 2.033698382192937e-05, 3.0505475732894054e-05, 1.0168491910964685e-05, 3.0505475732894054e-05, 4.067396764385874e-05, 6.101095146578811e-05, 0.00018303285439736432, 0.0003965711845276227, 6.101095146578811e-05, 1.0168491910964685e-05, 0.00011185341102061154, 1.0168491910964685e-05, 1.0168491910964685e-05, 3.0505475732894054e-05, 1.0168491910964685e-05, 2.033698382192937e-05, 0.00010168491910964685, 2.033698382192937e-05, 7.11794433767528e-05, 9.151642719868216e-05, 2.033698382192937e-05, 2.033698382192937e-05, 8.134793528771748e-05, 1.0168491910964685e-05, 1.0168491910964685e-05, 7.11794433767528e-05, 3.0505475732894054e-05, 2.033698382192937e-05, 1.0168491910964685e-05, 1.0168491910964685e-05, 2.033698382192937e-05, 8.134793528771748e-05, 7.11794433767528e-05, 4.067396764385874e-05, 8.134793528771748e-05, 0.00011185341102061154, 5.084245955482343e-05, 7.11794433767528e-05, 0.00018303285439736432, 5.084245955482343e-05, 4.067396764385874e-05, 5.084245955482343e-05, 5.084245955482343e-05, 6.101095146578811e-05, 8.134793528771748e-05, 0.00011185341102061154, 2.033698382192937e-05, 2.033698382192937e-05, 3.0505475732894054e-05, 4.067396764385874e-05, 1.0168491910964685e-05, 3.0505475732894054e-05, 2.033698382192937e-05, 1.0168491910964685e-05, 2.033698382192937e-05, 1.0168491910964685e-05, 3.0505475732894054e-05, 1.0168491910964685e-05, 2.033698382192937e-05, 1.0168491910964685e-05, 6.101095146578811e-05, 5.084245955482343e-05, 2.033698382192937e-05, 5.084245955482343e-05, 1.0168491910964685e-05, 1.0168491910964685e-05, 2.033698382192937e-05, 1.0168491910964685e-05, 1.0168491910964685e-05, 7.11794433767528e-05, 3.0505475732894054e-05, 1.0168491910964685e-05, 5.084245955482343e-05, 1.0168491910964685e-05, 2.033698382192937e-05, 1.0168491910964685e-05, 3.0505475732894054e-05, 3.0505475732894054e-05, 9.151642719868216e-05, 8.134793528771748e-05, 1.0168491910964685e-05, 2.033698382192937e-05, 1.0168491910964685e-05, 2.033698382192937e-05, 1.0168491910964685e-05, 3.0505475732894054e-05, 3.0505475732894054e-05, 2.033698382192937e-05, 1.0168491910964685e-05, 2.033698382192937e-05, 2.033698382192937e-05, 4.067396764385874e-05, 4.067396764385874e-05, 2.033698382192937e-05, 3.0505475732894054e-05, 3.0505475732894054e-05, 2.033698382192937e-05, 3.0505475732894054e-05, 1.0168491910964685e-05, 1.0168491910964685e-05, 1.0168491910964685e-05, 2.033698382192937e-05, 1.0168491910964685e-05, 1.0168491910964685e-05, 1.0168491910964685e-05, 1.0168491910964685e-05, 2.033698382192937e-05, 3.0505475732894054e-05, 1.0168491910964685e-05, 1.0168491910964685e-05, 1.0168491910964685e-05, 2.033698382192937e-05, 3.0505475732894054e-05, 1.0168491910964685e-05, 4.067396764385874e-05, 1.0168491910964685e-05, 2.033698382192937e-05, 4.067396764385874e-05, 1.0168491910964685e-05, 1.0168491910964685e-05, 1.0168491910964685e-05, 1.0168491910964685e-05, 1.0168491910964685e-05, 1.0168491910964685e-05, 1.0168491910964685e-05, 1.0168491910964685e-05, 1.0168491910964685e-05, 1.0168491910964685e-05, 2.033698382192937e-05, 1.0168491910964685e-05, 1.0168491910964685e-05, 1.0168491910964685e-05, 1.0168491910964685e-05, 1.0168491910964685e-05, 1.0168491910964685e-05, 1.0168491910964685e-05, 1.0168491910964685e-05, 1.0168491910964685e-05, 1.0168491910964685e-05, 1.0168491910964685e-05, 1.0168491910964685e-05, 1.0168491910964685e-05], \"yaxis\": \"y\"}],                        {\"barmode\": \"relative\", \"legend\": {\"tracegroupgap\": 0}, \"template\": {\"data\": {\"bar\": [{\"error_x\": {\"color\": \"#2a3f5f\"}, \"error_y\": {\"color\": \"#2a3f5f\"}, \"marker\": {\"line\": {\"color\": \"#E5ECF6\", \"width\": 0.5}}, \"type\": \"bar\"}], \"barpolar\": [{\"marker\": {\"line\": {\"color\": \"#E5ECF6\", \"width\": 0.5}}, \"type\": \"barpolar\"}], \"carpet\": [{\"aaxis\": {\"endlinecolor\": \"#2a3f5f\", \"gridcolor\": \"white\", \"linecolor\": \"white\", \"minorgridcolor\": \"white\", \"startlinecolor\": \"#2a3f5f\"}, \"baxis\": {\"endlinecolor\": \"#2a3f5f\", \"gridcolor\": \"white\", \"linecolor\": \"white\", \"minorgridcolor\": \"white\", \"startlinecolor\": \"#2a3f5f\"}, \"type\": \"carpet\"}], \"choropleth\": [{\"colorbar\": {\"outlinewidth\": 0, \"ticks\": \"\"}, \"type\": \"choropleth\"}], \"contour\": [{\"colorbar\": {\"outlinewidth\": 0, \"ticks\": \"\"}, \"colorscale\": [[0.0, \"#0d0887\"], [0.1111111111111111, \"#46039f\"], [0.2222222222222222, \"#7201a8\"], [0.3333333333333333, \"#9c179e\"], [0.4444444444444444, \"#bd3786\"], [0.5555555555555556, \"#d8576b\"], [0.6666666666666666, \"#ed7953\"], [0.7777777777777778, \"#fb9f3a\"], [0.8888888888888888, \"#fdca26\"], [1.0, \"#f0f921\"]], \"type\": \"contour\"}], \"contourcarpet\": [{\"colorbar\": {\"outlinewidth\": 0, \"ticks\": \"\"}, \"type\": \"contourcarpet\"}], \"heatmap\": [{\"colorbar\": {\"outlinewidth\": 0, \"ticks\": \"\"}, \"colorscale\": [[0.0, \"#0d0887\"], [0.1111111111111111, \"#46039f\"], [0.2222222222222222, \"#7201a8\"], [0.3333333333333333, \"#9c179e\"], [0.4444444444444444, \"#bd3786\"], [0.5555555555555556, \"#d8576b\"], [0.6666666666666666, \"#ed7953\"], [0.7777777777777778, \"#fb9f3a\"], [0.8888888888888888, \"#fdca26\"], [1.0, \"#f0f921\"]], \"type\": \"heatmap\"}], \"heatmapgl\": [{\"colorbar\": {\"outlinewidth\": 0, \"ticks\": \"\"}, \"colorscale\": [[0.0, \"#0d0887\"], [0.1111111111111111, \"#46039f\"], [0.2222222222222222, \"#7201a8\"], [0.3333333333333333, \"#9c179e\"], [0.4444444444444444, \"#bd3786\"], [0.5555555555555556, \"#d8576b\"], [0.6666666666666666, \"#ed7953\"], [0.7777777777777778, \"#fb9f3a\"], [0.8888888888888888, \"#fdca26\"], [1.0, \"#f0f921\"]], \"type\": \"heatmapgl\"}], \"histogram\": [{\"marker\": {\"colorbar\": {\"outlinewidth\": 0, \"ticks\": \"\"}}, \"type\": \"histogram\"}], \"histogram2d\": [{\"colorbar\": {\"outlinewidth\": 0, \"ticks\": \"\"}, \"colorscale\": [[0.0, \"#0d0887\"], [0.1111111111111111, \"#46039f\"], [0.2222222222222222, \"#7201a8\"], [0.3333333333333333, \"#9c179e\"], [0.4444444444444444, \"#bd3786\"], [0.5555555555555556, \"#d8576b\"], [0.6666666666666666, \"#ed7953\"], [0.7777777777777778, \"#fb9f3a\"], [0.8888888888888888, \"#fdca26\"], [1.0, \"#f0f921\"]], \"type\": \"histogram2d\"}], \"histogram2dcontour\": [{\"colorbar\": {\"outlinewidth\": 0, \"ticks\": \"\"}, \"colorscale\": [[0.0, \"#0d0887\"], [0.1111111111111111, \"#46039f\"], [0.2222222222222222, \"#7201a8\"], [0.3333333333333333, \"#9c179e\"], [0.4444444444444444, \"#bd3786\"], [0.5555555555555556, \"#d8576b\"], [0.6666666666666666, \"#ed7953\"], [0.7777777777777778, \"#fb9f3a\"], [0.8888888888888888, \"#fdca26\"], [1.0, \"#f0f921\"]], \"type\": \"histogram2dcontour\"}], \"mesh3d\": [{\"colorbar\": {\"outlinewidth\": 0, \"ticks\": \"\"}, \"type\": \"mesh3d\"}], \"parcoords\": [{\"line\": {\"colorbar\": {\"outlinewidth\": 0, \"ticks\": \"\"}}, \"type\": \"parcoords\"}], \"pie\": [{\"automargin\": true, \"type\": \"pie\"}], \"scatter\": [{\"marker\": {\"colorbar\": {\"outlinewidth\": 0, \"ticks\": \"\"}}, \"type\": \"scatter\"}], \"scatter3d\": [{\"line\": {\"colorbar\": {\"outlinewidth\": 0, \"ticks\": \"\"}}, \"marker\": {\"colorbar\": {\"outlinewidth\": 0, \"ticks\": \"\"}}, \"type\": \"scatter3d\"}], \"scattercarpet\": [{\"marker\": {\"colorbar\": {\"outlinewidth\": 0, \"ticks\": \"\"}}, \"type\": \"scattercarpet\"}], \"scattergeo\": [{\"marker\": {\"colorbar\": {\"outlinewidth\": 0, \"ticks\": \"\"}}, \"type\": \"scattergeo\"}], \"scattergl\": [{\"marker\": {\"colorbar\": {\"outlinewidth\": 0, \"ticks\": \"\"}}, \"type\": \"scattergl\"}], \"scattermapbox\": [{\"marker\": {\"colorbar\": {\"outlinewidth\": 0, \"ticks\": \"\"}}, \"type\": \"scattermapbox\"}], \"scatterpolar\": [{\"marker\": {\"colorbar\": {\"outlinewidth\": 0, \"ticks\": \"\"}}, \"type\": \"scatterpolar\"}], \"scatterpolargl\": [{\"marker\": {\"colorbar\": {\"outlinewidth\": 0, \"ticks\": \"\"}}, \"type\": \"scatterpolargl\"}], \"scatterternary\": [{\"marker\": {\"colorbar\": {\"outlinewidth\": 0, \"ticks\": \"\"}}, \"type\": \"scatterternary\"}], \"surface\": [{\"colorbar\": {\"outlinewidth\": 0, \"ticks\": \"\"}, \"colorscale\": [[0.0, \"#0d0887\"], [0.1111111111111111, \"#46039f\"], [0.2222222222222222, \"#7201a8\"], [0.3333333333333333, \"#9c179e\"], [0.4444444444444444, \"#bd3786\"], [0.5555555555555556, \"#d8576b\"], [0.6666666666666666, \"#ed7953\"], [0.7777777777777778, \"#fb9f3a\"], [0.8888888888888888, \"#fdca26\"], [1.0, \"#f0f921\"]], \"type\": \"surface\"}], \"table\": [{\"cells\": {\"fill\": {\"color\": \"#EBF0F8\"}, \"line\": {\"color\": \"white\"}}, \"header\": {\"fill\": {\"color\": \"#C8D4E3\"}, \"line\": {\"color\": \"white\"}}, \"type\": \"table\"}]}, \"layout\": {\"annotationdefaults\": {\"arrowcolor\": \"#2a3f5f\", \"arrowhead\": 0, \"arrowwidth\": 1}, \"coloraxis\": {\"colorbar\": {\"outlinewidth\": 0, \"ticks\": \"\"}}, \"colorscale\": {\"diverging\": [[0, \"#8e0152\"], [0.1, \"#c51b7d\"], [0.2, \"#de77ae\"], [0.3, \"#f1b6da\"], [0.4, \"#fde0ef\"], [0.5, \"#f7f7f7\"], [0.6, \"#e6f5d0\"], [0.7, \"#b8e186\"], [0.8, \"#7fbc41\"], [0.9, \"#4d9221\"], [1, \"#276419\"]], \"sequential\": [[0.0, \"#0d0887\"], [0.1111111111111111, \"#46039f\"], [0.2222222222222222, \"#7201a8\"], [0.3333333333333333, \"#9c179e\"], [0.4444444444444444, \"#bd3786\"], [0.5555555555555556, \"#d8576b\"], [0.6666666666666666, \"#ed7953\"], [0.7777777777777778, \"#fb9f3a\"], [0.8888888888888888, \"#fdca26\"], [1.0, \"#f0f921\"]], \"sequentialminus\": [[0.0, \"#0d0887\"], [0.1111111111111111, \"#46039f\"], [0.2222222222222222, \"#7201a8\"], [0.3333333333333333, \"#9c179e\"], [0.4444444444444444, \"#bd3786\"], [0.5555555555555556, \"#d8576b\"], [0.6666666666666666, \"#ed7953\"], [0.7777777777777778, \"#fb9f3a\"], [0.8888888888888888, \"#fdca26\"], [1.0, \"#f0f921\"]]}, \"colorway\": [\"#636efa\", \"#EF553B\", \"#00cc96\", \"#ab63fa\", \"#FFA15A\", \"#19d3f3\", \"#FF6692\", \"#B6E880\", \"#FF97FF\", \"#FECB52\"], \"font\": {\"color\": \"#2a3f5f\"}, \"geo\": {\"bgcolor\": \"white\", \"lakecolor\": \"white\", \"landcolor\": \"#E5ECF6\", \"showlakes\": true, \"showland\": true, \"subunitcolor\": \"white\"}, \"hoverlabel\": {\"align\": \"left\"}, \"hovermode\": \"closest\", \"mapbox\": {\"style\": \"light\"}, \"paper_bgcolor\": \"white\", \"plot_bgcolor\": \"#E5ECF6\", \"polar\": {\"angularaxis\": {\"gridcolor\": \"white\", \"linecolor\": \"white\", \"ticks\": \"\"}, \"bgcolor\": \"#E5ECF6\", \"radialaxis\": {\"gridcolor\": \"white\", \"linecolor\": \"white\", \"ticks\": \"\"}}, \"scene\": {\"xaxis\": {\"backgroundcolor\": \"#E5ECF6\", \"gridcolor\": \"white\", \"gridwidth\": 2, \"linecolor\": \"white\", \"showbackground\": true, \"ticks\": \"\", \"zerolinecolor\": \"white\"}, \"yaxis\": {\"backgroundcolor\": \"#E5ECF6\", \"gridcolor\": \"white\", \"gridwidth\": 2, \"linecolor\": \"white\", \"showbackground\": true, \"ticks\": \"\", \"zerolinecolor\": \"white\"}, \"zaxis\": {\"backgroundcolor\": \"#E5ECF6\", \"gridcolor\": \"white\", \"gridwidth\": 2, \"linecolor\": \"white\", \"showbackground\": true, \"ticks\": \"\", \"zerolinecolor\": \"white\"}}, \"shapedefaults\": {\"line\": {\"color\": \"#2a3f5f\"}}, \"ternary\": {\"aaxis\": {\"gridcolor\": \"white\", \"linecolor\": \"white\", \"ticks\": \"\"}, \"baxis\": {\"gridcolor\": \"white\", \"linecolor\": \"white\", \"ticks\": \"\"}, \"bgcolor\": \"#E5ECF6\", \"caxis\": {\"gridcolor\": \"white\", \"linecolor\": \"white\", \"ticks\": \"\"}}, \"title\": {\"x\": 0.05}, \"xaxis\": {\"automargin\": true, \"gridcolor\": \"white\", \"linecolor\": \"white\", \"ticks\": \"\", \"title\": {\"standoff\": 15}, \"zerolinecolor\": \"white\", \"zerolinewidth\": 2}, \"yaxis\": {\"automargin\": true, \"gridcolor\": \"white\", \"linecolor\": \"white\", \"ticks\": \"\", \"title\": {\"standoff\": 15}, \"zerolinecolor\": \"white\", \"zerolinewidth\": 2}}}, \"title\": {\"text\": \"Degree distribution\"}, \"xaxis\": {\"anchor\": \"y\", \"domain\": [0.0, 1.0], \"title\": {\"text\": \"Degree\"}}, \"yaxis\": {\"anchor\": \"x\", \"domain\": [0.0, 1.0], \"title\": {\"text\": \"sum of Normalized number of nodes\"}}},                        {\"responsive\": true}                    ).then(function(){\n",
       "                            \n",
       "var gd = document.getElementById('1a29521c-6c84-4f9f-a4fd-2fd4d53f94e9');\n",
       "var x = new MutationObserver(function (mutations, observer) {{\n",
       "        var display = window.getComputedStyle(gd).display;\n",
       "        if (!display || display === 'none') {{\n",
       "            console.log([gd, 'removed!']);\n",
       "            Plotly.purge(gd);\n",
       "            observer.disconnect();\n",
       "        }}\n",
       "}});\n",
       "\n",
       "// Listen for the removal of the full notebook cells\n",
       "var notebookContainer = gd.closest('#notebook-container');\n",
       "if (notebookContainer) {{\n",
       "    x.observe(notebookContainer, {childList: true});\n",
       "}}\n",
       "\n",
       "// Listen for the clearing of the current output cell\n",
       "var outputEl = gd.closest('.output');\n",
       "if (outputEl) {{\n",
       "    x.observe(outputEl, {childList: true});\n",
       "}}\n",
       "\n",
       "                        })                };                });            </script>        </div>"
      ]
     },
     "metadata": {},
     "output_type": "display_data"
    }
   ],
   "source": [
    "g.plot_degree_distro(True)"
   ]
  },
  {
   "cell_type": "markdown",
   "metadata": {},
   "source": [
    "**TO DO:** There are many outliers (zoom the plot to see them). How to handle them? By reducing the degree interval?"
   ]
  },
  {
   "cell_type": "code",
   "execution_count": null,
   "metadata": {},
   "outputs": [],
   "source": []
  },
  {
   "cell_type": "markdown",
   "metadata": {},
   "source": [
    "## Question2 ~ Pages reached in given number of clicks"
   ]
  },
  {
   "cell_type": "code",
   "execution_count": 15,
   "metadata": {},
   "outputs": [],
   "source": [
    "pages_seen = g.pages_in_click(initial_page=95, num_clicks=5)"
   ]
  },
  {
   "cell_type": "code",
   "execution_count": 20,
   "metadata": {},
   "outputs": [
    {
     "data": {
      "text/plain": [
       "[1245201,\n",
       " 655377,\n",
       " 1245212,\n",
       " 655392,\n",
       " 1376294,\n",
       " 1376295,\n",
       " 1048636,\n",
       " 1048637,\n",
       " 1048638,\n",
       " 65596,\n",
       " 1048648,\n",
       " 1048658,\n",
       " 1048660,\n",
       " 1179733,\n",
       " 655451,\n",
       " 655471,\n",
       " 1245303,\n",
       " 1048710,\n",
       " 1179783,\n",
       " 1179786]"
      ]
     },
     "execution_count": 20,
     "metadata": {},
     "output_type": "execute_result"
    }
   ],
   "source": [
    "pages_seen[:20]"
   ]
  },
  {
   "cell_type": "code",
   "execution_count": 19,
   "metadata": {},
   "outputs": [
    {
     "name": "stdout",
     "output_type": "stream",
     "text": [
      "Total number of articles visited: \u001b[1m 16726 \u001b[0m\n"
     ]
    }
   ],
   "source": [
    "print('Total number of articles visited:', '\\033[1m', len(pages_seen), '\\033[0m')"
   ]
  },
  {
   "cell_type": "code",
   "execution_count": null,
   "metadata": {},
   "outputs": [],
   "source": []
  },
  {
   "cell_type": "markdown",
   "metadata": {},
   "source": [
    "## Question4 ~ Min Max Cut Algorithm"
   ]
  },
  {
   "cell_type": "markdown",
   "metadata": {},
   "source": [
    "The logic behind this method is the following:\n",
    "- Using the max flow algorithm estimate the minimum number of edges required to disconnect the two nodes. \n",
    "- The max flow algorithm also provides us with the quickest paths (flows in the max flow notation) that lead us from source to the sink (the two random articles u and v).\n",
    "- Given that our graph is unweighted and directed, we simply remove the last edges from these flows. "
   ]
  },
  {
   "cell_type": "code",
   "execution_count": 21,
   "metadata": {},
   "outputs": [],
   "source": [
    "category1 = 'Living_people'\n",
    "category2 = 'American_film_actors'\n",
    "\n",
    "random_articles = set(final_pages_category[category1] + \n",
    "                      final_pages_category[category2])"
   ]
  },
  {
   "cell_type": "code",
   "execution_count": 22,
   "metadata": {},
   "outputs": [],
   "source": [
    "induced_subgraph = g.generate_induced_subgraph(random_articles)"
   ]
  },
  {
   "cell_type": "code",
   "execution_count": 51,
   "metadata": {},
   "outputs": [
    {
     "data": {
      "text/plain": [
       "['1062335 --> 1060969',\n",
       " '1061905 --> 1062335',\n",
       " '1062597 --> 1062380',\n",
       " '1060969 --> 1062597',\n",
       " '1061853 --> 1061905']"
      ]
     },
     "execution_count": 51,
     "metadata": {},
     "output_type": "execute_result"
    }
   ],
   "source": [
    "edges_to_cut = induced_subgraph.max_flow_func(1057994, 1062380)\n",
    "edges_to_cut"
   ]
  },
  {
   "cell_type": "code",
   "execution_count": null,
   "metadata": {},
   "outputs": [],
   "source": []
  },
  {
   "cell_type": "code",
   "execution_count": null,
   "metadata": {},
   "outputs": [],
   "source": []
  },
  {
   "cell_type": "code",
   "execution_count": null,
   "metadata": {},
   "outputs": [],
   "source": []
  },
  {
   "cell_type": "markdown",
   "metadata": {},
   "source": [
    "## Question6 ~ PageRank"
   ]
  },
  {
   "cell_type": "code",
   "execution_count": 29,
   "metadata": {},
   "outputs": [],
   "source": [
    "category_graph_weighted = g.category_model_network_weighted(unique_category)"
   ]
  },
  {
   "cell_type": "code",
   "execution_count": 45,
   "metadata": {},
   "outputs": [
    {
     "name": "stdout",
     "output_type": "stream",
     "text": [
      "Converged in 45 iterations\n"
     ]
    }
   ],
   "source": [
    "page_rank_score = g.page_rank(category_graph_weighted, max_iter = 1000, tolerance=.0000001, top=50)"
   ]
  },
  {
   "cell_type": "code",
   "execution_count": 46,
   "metadata": {},
   "outputs": [
    {
     "data": {
      "text/html": [
       "<div>\n",
       "<style scoped>\n",
       "    .dataframe tbody tr th:only-of-type {\n",
       "        vertical-align: middle;\n",
       "    }\n",
       "\n",
       "    .dataframe tbody tr th {\n",
       "        vertical-align: top;\n",
       "    }\n",
       "\n",
       "    .dataframe thead th {\n",
       "        text-align: right;\n",
       "    }\n",
       "</style>\n",
       "<table border=\"1\" class=\"dataframe\">\n",
       "  <thead>\n",
       "    <tr style=\"text-align: right;\">\n",
       "      <th></th>\n",
       "      <th>Page Rank Score</th>\n",
       "    </tr>\n",
       "  </thead>\n",
       "  <tbody>\n",
       "    <tr>\n",
       "      <th>Living_people</th>\n",
       "      <td>0.039134</td>\n",
       "    </tr>\n",
       "    <tr>\n",
       "      <th>American_film_actors</th>\n",
       "      <td>0.035795</td>\n",
       "    </tr>\n",
       "    <tr>\n",
       "      <th>English-language_films</th>\n",
       "      <td>0.026047</td>\n",
       "    </tr>\n",
       "    <tr>\n",
       "      <th>American_television_actors</th>\n",
       "      <td>0.021057</td>\n",
       "    </tr>\n",
       "    <tr>\n",
       "      <th>American_films</th>\n",
       "      <td>0.019200</td>\n",
       "    </tr>\n",
       "    <tr>\n",
       "      <th>Members_of_the_United_Kingdom_Parliament_for_English_constituencies</th>\n",
       "      <td>0.009954</td>\n",
       "    </tr>\n",
       "    <tr>\n",
       "      <th>Black-and-white_films</th>\n",
       "      <td>0.008471</td>\n",
       "    </tr>\n",
       "    <tr>\n",
       "      <th>The_Football_League_players</th>\n",
       "      <td>0.007691</td>\n",
       "    </tr>\n",
       "    <tr>\n",
       "      <th>American_stage_actors</th>\n",
       "      <td>0.007250</td>\n",
       "    </tr>\n",
       "    <tr>\n",
       "      <th>English_footballers</th>\n",
       "      <td>0.006679</td>\n",
       "    </tr>\n",
       "    <tr>\n",
       "      <th>Harvard_University_alumni</th>\n",
       "      <td>0.006133</td>\n",
       "    </tr>\n",
       "    <tr>\n",
       "      <th>American_silent_film_actors</th>\n",
       "      <td>0.006065</td>\n",
       "    </tr>\n",
       "    <tr>\n",
       "      <th>Main_Belt_asteroids</th>\n",
       "      <td>0.004792</td>\n",
       "    </tr>\n",
       "    <tr>\n",
       "      <th>Year_of_birth_missing</th>\n",
       "      <td>0.004535</td>\n",
       "    </tr>\n",
       "    <tr>\n",
       "      <th>American_voice_actors</th>\n",
       "      <td>0.004509</td>\n",
       "    </tr>\n",
       "    <tr>\n",
       "      <th>Year_of_death_missing</th>\n",
       "      <td>0.004127</td>\n",
       "    </tr>\n",
       "    <tr>\n",
       "      <th>Association_football_forwards</th>\n",
       "      <td>0.004007</td>\n",
       "    </tr>\n",
       "    <tr>\n",
       "      <th>Conservative_Party_(UK)_MPs</th>\n",
       "      <td>0.003924</td>\n",
       "    </tr>\n",
       "    <tr>\n",
       "      <th>Association_football_midfielders</th>\n",
       "      <td>0.003891</td>\n",
       "    </tr>\n",
       "    <tr>\n",
       "      <th>Major_League_Baseball_pitchers</th>\n",
       "      <td>0.003833</td>\n",
       "    </tr>\n",
       "    <tr>\n",
       "      <th>England_international_footballers</th>\n",
       "      <td>0.003627</td>\n",
       "    </tr>\n",
       "    <tr>\n",
       "      <th>American_people_of_Irish_descent</th>\n",
       "      <td>0.003221</td>\n",
       "    </tr>\n",
       "    <tr>\n",
       "      <th>Premier_League_players</th>\n",
       "      <td>0.003218</td>\n",
       "    </tr>\n",
       "    <tr>\n",
       "      <th>English_football_managers</th>\n",
       "      <td>0.003198</td>\n",
       "    </tr>\n",
       "    <tr>\n",
       "      <th>American_film_directors</th>\n",
       "      <td>0.003083</td>\n",
       "    </tr>\n",
       "    <tr>\n",
       "      <th>Actors_from_California</th>\n",
       "      <td>0.003055</td>\n",
       "    </tr>\n",
       "    <tr>\n",
       "      <th>American_child_actors</th>\n",
       "      <td>0.002989</td>\n",
       "    </tr>\n",
       "    <tr>\n",
       "      <th>Members_of_the_Privy_Council_of_the_United_Kingdom</th>\n",
       "      <td>0.002880</td>\n",
       "    </tr>\n",
       "    <tr>\n",
       "      <th>Rivers_of_Romania</th>\n",
       "      <td>0.002867</td>\n",
       "    </tr>\n",
       "    <tr>\n",
       "      <th>Deaths_from_myocardial_infarction</th>\n",
       "      <td>0.002590</td>\n",
       "    </tr>\n",
       "    <tr>\n",
       "      <th>American_Jews</th>\n",
       "      <td>0.002438</td>\n",
       "    </tr>\n",
       "    <tr>\n",
       "      <th>Place_of_birth_missing_(living_people)</th>\n",
       "      <td>0.002322</td>\n",
       "    </tr>\n",
       "    <tr>\n",
       "      <th>Actors_from_New_York_City</th>\n",
       "      <td>0.002322</td>\n",
       "    </tr>\n",
       "    <tr>\n",
       "      <th>American_drama_films</th>\n",
       "      <td>0.002219</td>\n",
       "    </tr>\n",
       "    <tr>\n",
       "      <th>Association_football_defenders</th>\n",
       "      <td>0.002187</td>\n",
       "    </tr>\n",
       "    <tr>\n",
       "      <th>American_comedy_films</th>\n",
       "      <td>0.002164</td>\n",
       "    </tr>\n",
       "    <tr>\n",
       "      <th>Emmy_Award_winners</th>\n",
       "      <td>0.002114</td>\n",
       "    </tr>\n",
       "    <tr>\n",
       "      <th>American_people_of_German_descent</th>\n",
       "      <td>0.002038</td>\n",
       "    </tr>\n",
       "    <tr>\n",
       "      <th>Liberal_Party_(UK)_MPs</th>\n",
       "      <td>0.002009</td>\n",
       "    </tr>\n",
       "    <tr>\n",
       "      <th>Vaudeville_performers</th>\n",
       "      <td>0.001970</td>\n",
       "    </tr>\n",
       "    <tr>\n",
       "      <th>Warner_Bros._films</th>\n",
       "      <td>0.001917</td>\n",
       "    </tr>\n",
       "    <tr>\n",
       "      <th>Universal_Pictures_films</th>\n",
       "      <td>0.001905</td>\n",
       "    </tr>\n",
       "    <tr>\n",
       "      <th>Debut_albums</th>\n",
       "      <td>0.001898</td>\n",
       "    </tr>\n",
       "    <tr>\n",
       "      <th>20th_Century_Fox_films</th>\n",
       "      <td>0.001889</td>\n",
       "    </tr>\n",
       "    <tr>\n",
       "      <th>People_from_New_York_City</th>\n",
       "      <td>0.001883</td>\n",
       "    </tr>\n",
       "    <tr>\n",
       "      <th>Metro-Goldwyn-Mayer_films</th>\n",
       "      <td>0.001882</td>\n",
       "    </tr>\n",
       "    <tr>\n",
       "      <th>Paramount_Pictures_films</th>\n",
       "      <td>0.001862</td>\n",
       "    </tr>\n",
       "    <tr>\n",
       "      <th>Independent_films</th>\n",
       "      <td>0.001846</td>\n",
       "    </tr>\n",
       "    <tr>\n",
       "      <th>Films_based_on_novels</th>\n",
       "      <td>0.001822</td>\n",
       "    </tr>\n",
       "    <tr>\n",
       "      <th>La_Liga_footballers</th>\n",
       "      <td>0.001810</td>\n",
       "    </tr>\n",
       "    <tr>\n",
       "      <th>American_comedians</th>\n",
       "      <td>0.001789</td>\n",
       "    </tr>\n",
       "  </tbody>\n",
       "</table>\n",
       "</div>"
      ],
      "text/plain": [
       "                                                    Page Rank Score\n",
       "Living_people                                              0.039134\n",
       "American_film_actors                                       0.035795\n",
       "English-language_films                                     0.026047\n",
       "American_television_actors                                 0.021057\n",
       "American_films                                             0.019200\n",
       "Members_of_the_United_Kingdom_Parliament_for_En...         0.009954\n",
       "Black-and-white_films                                      0.008471\n",
       "The_Football_League_players                                0.007691\n",
       "American_stage_actors                                      0.007250\n",
       "English_footballers                                        0.006679\n",
       "Harvard_University_alumni                                  0.006133\n",
       "American_silent_film_actors                                0.006065\n",
       "Main_Belt_asteroids                                        0.004792\n",
       "Year_of_birth_missing                                      0.004535\n",
       "American_voice_actors                                      0.004509\n",
       "Year_of_death_missing                                      0.004127\n",
       "Association_football_forwards                              0.004007\n",
       "Conservative_Party_(UK)_MPs                                0.003924\n",
       "Association_football_midfielders                           0.003891\n",
       "Major_League_Baseball_pitchers                             0.003833\n",
       "England_international_footballers                          0.003627\n",
       "American_people_of_Irish_descent                           0.003221\n",
       "Premier_League_players                                     0.003218\n",
       "English_football_managers                                  0.003198\n",
       "American_film_directors                                    0.003083\n",
       "Actors_from_California                                     0.003055\n",
       "American_child_actors                                      0.002989\n",
       "Members_of_the_Privy_Council_of_the_United_Kingdom         0.002880\n",
       "Rivers_of_Romania                                          0.002867\n",
       "Deaths_from_myocardial_infarction                          0.002590\n",
       "American_Jews                                              0.002438\n",
       "Place_of_birth_missing_(living_people)                     0.002322\n",
       "Actors_from_New_York_City                                  0.002322\n",
       "American_drama_films                                       0.002219\n",
       "Association_football_defenders                             0.002187\n",
       "American_comedy_films                                      0.002164\n",
       "Emmy_Award_winners                                         0.002114\n",
       "American_people_of_German_descent                          0.002038\n",
       "Liberal_Party_(UK)_MPs                                     0.002009\n",
       "Vaudeville_performers                                      0.001970\n",
       "Warner_Bros._films                                         0.001917\n",
       "Universal_Pictures_films                                   0.001905\n",
       "Debut_albums                                               0.001898\n",
       "20th_Century_Fox_films                                     0.001889\n",
       "People_from_New_York_City                                  0.001883\n",
       "Metro-Goldwyn-Mayer_films                                  0.001882\n",
       "Paramount_Pictures_films                                   0.001862\n",
       "Independent_films                                          0.001846\n",
       "Films_based_on_novels                                      0.001822\n",
       "La_Liga_footballers                                        0.001810\n",
       "American_comedians                                         0.001789"
      ]
     },
     "execution_count": 46,
     "metadata": {},
     "output_type": "execute_result"
    }
   ],
   "source": [
    "page_rank_score"
   ]
  },
  {
   "cell_type": "code",
   "execution_count": null,
   "metadata": {},
   "outputs": [],
   "source": []
  },
  {
   "cell_type": "code",
   "execution_count": null,
   "metadata": {},
   "outputs": [],
   "source": []
  },
  {
   "cell_type": "code",
   "execution_count": null,
   "metadata": {},
   "outputs": [],
   "source": []
  },
  {
   "cell_type": "markdown",
   "metadata": {},
   "source": [
    "## Logic of  Page Rank Implementation"
   ]
  },
  {
   "cell_type": "code",
   "execution_count": 302,
   "metadata": {},
   "outputs": [],
   "source": [
    "dummy_graph = defaultdict(dict)"
   ]
  },
  {
   "cell_type": "code",
   "execution_count": 309,
   "metadata": {},
   "outputs": [],
   "source": [
    "dummy_graph['B'] = {'C': 1}\n",
    "dummy_graph['C'] = {'B': 6}\n",
    "dummy_graph['D'] = {'A': 1, 'B': 4}\n",
    "dummy_graph['E'] = {'B': 5, 'D': 2, 'F': 3}\n",
    "dummy_graph['F'] = {'E': 4}"
   ]
  },
  {
   "cell_type": "code",
   "execution_count": 304,
   "metadata": {},
   "outputs": [],
   "source": [
    "page_rank_graph = WeightedGraph.from_dict(dummy_graph)"
   ]
  },
  {
   "cell_type": "code",
   "execution_count": 382,
   "metadata": {},
   "outputs": [
    {
     "data": {
      "image/png": "[encoded data removed]",
      "text/plain": [
       "<Figure size 864x576 with 1 Axes>"
      ]
     },
     "metadata": {},
     "output_type": "display_data"
    }
   ],
   "source": [
    "page_rank_graph.plot_graph(node_size=200)"
   ]
  },
  {
   "cell_type": "code",
   "execution_count": 310,
   "metadata": {},
   "outputs": [
    {
     "data": {
      "text/plain": [
       "defaultdict(dict,\n",
       "            {'B': {'C': 1},\n",
       "             'C': {'B': 6},\n",
       "             'D': {'A': 1, 'B': 4},\n",
       "             'E': {'B': 5, 'D': 2, 'F': 3},\n",
       "             'F': {'E': 4}})"
      ]
     },
     "execution_count": 310,
     "metadata": {},
     "output_type": "execute_result"
    }
   ],
   "source": [
    "dummy_graph"
   ]
  },
  {
   "cell_type": "code",
   "execution_count": 311,
   "metadata": {},
   "outputs": [],
   "source": [
    "initial_page_rank_score = {'A' : 1/6, 'B' : 1/6, 'C' : 1/6, 'D' : 1/6, 'E' : 1/6, 'F' : 1/6}"
   ]
  },
  {
   "cell_type": "code",
   "execution_count": 318,
   "metadata": {},
   "outputs": [],
   "source": [
    "dummy_graph\n",
    "outlink = {'A': {'D': 1/5},\n",
    "           'B': {'C': 6/6, 'D': 4/5, 'E': 5/10},\n",
    "           'C': {'B': 1/1},\n",
    "           'D': {'E': 2/10},\n",
    "           'E': {'F': 4/4},\n",
    "           'F': {'E': 3/10}}"
   ]
  },
  {
   "cell_type": "code",
   "execution_count": 324,
   "metadata": {},
   "outputs": [],
   "source": [
    "x = {k : v * initial_page_rank_score[k] for k, v in B.items() if k in initial_page_rank_score}"
   ]
  },
  {
   "cell_type": "code",
   "execution_count": 330,
   "metadata": {},
   "outputs": [
    {
     "data": {
      "text/plain": [
       "0.3833333333333333"
      ]
     },
     "execution_count": 330,
     "metadata": {},
     "output_type": "execute_result"
    }
   ],
   "source": [
    "sum(x.values())"
   ]
  },
  {
   "cell_type": "code",
   "execution_count": 353,
   "metadata": {},
   "outputs": [
    {
     "name": "stdout",
     "output_type": "stream",
     "text": [
      "1\n",
      "2\n",
      "3\n",
      "4\n",
      "5\n",
      "6\n",
      "7\n",
      "8\n",
      "9\n",
      "10\n",
      "11\n",
      "12\n",
      "13\n",
      "14\n",
      "15\n",
      "16\n",
      "17\n",
      "18\n",
      "19\n",
      "20\n",
      "21\n",
      "22\n",
      "23\n",
      "24\n",
      "25\n",
      "26\n",
      "27\n",
      "28\n",
      "29\n",
      "30\n",
      "31\n",
      "32\n",
      "33\n",
      "34\n",
      "35\n",
      "36\n",
      "37\n",
      "38\n",
      "39\n",
      "40\n",
      "Converged\n"
     ]
    }
   ],
   "source": [
    "N = 6  # number of nodes\n",
    "lambda_ = .85\n",
    "page_rank_score_t = {'A' : 1/6, 'B' : 1/6, 'C' : 1/6, 'D' : 1/6, 'E' : 1/6, 'F' : 1/6}\n",
    "page_rank_score_t_1 = {}\n",
    "max_iter = 60\n",
    "i = 0\n",
    "while i < max_iter:\n",
    "    i += 1\n",
    "    print(i)\n",
    "    for key, value in outlink.items():\n",
    "        temp = sum({k : v * page_rank_score_t[k] for k, v in outlink[key].items() if k in page_rank_score_t}.values())\n",
    "        page_rank_score_t_1[key] = ((1-lambda_)/N)  + lambda_*temp\n",
    "    factor=1/sum(page_rank_score_t_1.values())\n",
    "    for k in page_rank_score_t_1:\n",
    "        page_rank_score_t_1[k] = page_rank_score_t_1[k]*factor\n",
    "        \n",
    "    diff = np.sqrt(sum((np.array(list(page_rank_score_t.values())) - np.array(list(page_rank_score_t_1.values())))**2))\n",
    "    \n",
    "    if diff < 0.001:\n",
    "        print('Converged')\n",
    "        break\n",
    "        \n",
    "    if i != max_iter:\n",
    "        page_rank_score_t = page_rank_score_t_1\n",
    "        page_rank_score_t_1 = {}\n"
   ]
  },
  {
   "cell_type": "code",
   "execution_count": 354,
   "metadata": {},
   "outputs": [
    {
     "data": {
      "text/plain": [
       "{'A': 0.03210119233869339,\n",
       " 'B': 0.4278498577490391,\n",
       " 'C': 0.39888024293552077,\n",
       " 'D': 0.03661928689145861,\n",
       " 'E': 0.06247113256122751,\n",
       " 'F': 0.04207828752406076}"
      ]
     },
     "execution_count": 354,
     "metadata": {},
     "output_type": "execute_result"
    }
   ],
   "source": [
    "page_rank_score_t"
   ]
  },
  {
   "cell_type": "code",
   "execution_count": 355,
   "metadata": {},
   "outputs": [
    {
     "data": {
      "text/plain": [
       "{'A': 0.032101192338678475,\n",
       " 'B': 0.42715490748701496,\n",
       " 'C': 0.39957519319770163,\n",
       " 'D': 0.03661928689144555,\n",
       " 'E': 0.06247113256111803,\n",
       " 'F': 0.04207828752404129}"
      ]
     },
     "execution_count": 355,
     "metadata": {},
     "output_type": "execute_result"
    }
   ],
   "source": [
    "page_rank_score_t_1"
   ]
  },
  {
   "cell_type": "code",
   "execution_count": null,
   "metadata": {},
   "outputs": [],
   "source": []
  },
  {
   "cell_type": "code",
   "execution_count": null,
   "metadata": {},
   "outputs": [],
   "source": []
  },
  {
   "cell_type": "code",
   "execution_count": null,
   "metadata": {},
   "outputs": [],
   "source": []
  },
  {
   "cell_type": "code",
   "execution_count": null,
   "metadata": {},
   "outputs": [],
   "source": []
  },
  {
   "cell_type": "code",
   "execution_count": 356,
   "metadata": {},
   "outputs": [],
   "source": [
    "dummy_graph\n",
    "outlink = {'A': {'D': 1/5},\n",
    "           'B': {'C': 6/6, 'D': 4/5, 'E': 5/10},\n",
    "           'C': {'B': 1/1},\n",
    "           'D': {'E': 2/10},\n",
    "           'E': {'F': 4/4},\n",
    "           'F': {'E': 3/10}}"
   ]
  },
  {
   "cell_type": "code",
   "execution_count": 357,
   "metadata": {},
   "outputs": [
    {
     "data": {
      "text/plain": [
       "defaultdict(dict,\n",
       "            {'B': {'C': 1},\n",
       "             'C': {'B': 6},\n",
       "             'D': {'A': 1, 'B': 4},\n",
       "             'E': {'B': 5, 'D': 2, 'F': 3},\n",
       "             'F': {'E': 4}})"
      ]
     },
     "execution_count": 357,
     "metadata": {},
     "output_type": "execute_result"
    }
   ],
   "source": [
    "dummy_graph"
   ]
  },
  {
   "cell_type": "code",
   "execution_count": 359,
   "metadata": {},
   "outputs": [],
   "source": [
    "# This dictionary represents the probability of  going to a page (key of this dict) from the pages in the values\n",
    "outlink_dict = defaultdict(dict)\n",
    "for k, v in dummy_graph.items():\n",
    "    for i in v:\n",
    "        try:\n",
    "            outlink_dict[i][k] = outlink_dict[i][k] + dummy_graph[k][i]/sum(dummy_graph[k].values())\n",
    "        except:\n",
    "            outlink_dict[i].update({k: dummy_graph[k][i]/sum(dummy_graph[k].values())})"
   ]
  },
  {
   "cell_type": "code",
   "execution_count": 362,
   "metadata": {},
   "outputs": [
    {
     "data": {
      "text/plain": [
       "['A', 'B', 'C', 'D', 'E', 'F']"
      ]
     },
     "execution_count": 362,
     "metadata": {},
     "output_type": "execute_result"
    }
   ],
   "source": [
    "sorted(outlink_dict)"
   ]
  },
  {
   "cell_type": "code",
   "execution_count": 363,
   "metadata": {},
   "outputs": [
    {
     "data": {
      "text/plain": [
       "defaultdict(dict,\n",
       "            {'C': {'B': 1.0},\n",
       "             'B': {'C': 1.0, 'D': 0.8, 'E': 0.5},\n",
       "             'A': {'D': 0.2},\n",
       "             'D': {'E': 0.2},\n",
       "             'F': {'E': 0.3},\n",
       "             'E': {'F': 1.0}})"
      ]
     },
     "execution_count": 363,
     "metadata": {},
     "output_type": "execute_result"
    }
   ],
   "source": [
    "outlink_dict"
   ]
  },
  {
   "cell_type": "code",
   "execution_count": 364,
   "metadata": {},
   "outputs": [
    {
     "data": {
      "text/plain": [
       "{'A': 0.16666666666666666,\n",
       " 'B': 0.16666666666666666,\n",
       " 'C': 0.16666666666666666,\n",
       " 'D': 0.16666666666666666,\n",
       " 'E': 0.16666666666666666,\n",
       " 'F': 0.16666666666666666}"
      ]
     },
     "execution_count": 364,
     "metadata": {},
     "output_type": "execute_result"
    }
   ],
   "source": [
    "{k: 1/N for k, v in outlink.items()}"
   ]
  },
  {
   "cell_type": "code",
   "execution_count": null,
   "metadata": {},
   "outputs": [],
   "source": []
  },
  {
   "cell_type": "code",
   "execution_count": null,
   "metadata": {},
   "outputs": [],
   "source": []
  },
  {
   "cell_type": "code",
   "execution_count": null,
   "metadata": {},
   "outputs": [],
   "source": []
  },
  {
   "cell_type": "code",
   "execution_count": null,
   "metadata": {},
   "outputs": [],
   "source": []
  },
  {
   "cell_type": "code",
   "execution_count": null,
   "metadata": {},
   "outputs": [],
   "source": []
  },
  {
   "cell_type": "markdown",
   "metadata": {},
   "source": [
    "## Question 4 ~ Logic"
   ]
  },
  {
   "cell_type": "code",
   "execution_count": 24,
   "metadata": {},
   "outputs": [],
   "source": [
    "Q4_graph = {'source': ['1', '2', '3'], \n",
    "           '1': ['4'],\n",
    "           '2': ['9'],\n",
    "           '3': ['9'],\n",
    "           '4': ['5'],\n",
    "           '5': ['sink'],\n",
    "           '6': ['7', '8'],\n",
    "           '7': ['sink'],\n",
    "           '8': ['sink'],\n",
    "           '9': ['6']}"
   ]
  },
  {
   "cell_type": "code",
   "execution_count": 25,
   "metadata": {},
   "outputs": [],
   "source": [
    "Q4_graph = Graph.from_dict(Q4_graph)"
   ]
  },
  {
   "cell_type": "code",
   "execution_count": 26,
   "metadata": {},
   "outputs": [
    {
     "data": {
      "image/png": "[encoded data removed]",
      "text/plain": [
       "<Figure size 864x576 with 1 Axes>"
      ]
     },
     "metadata": {},
     "output_type": "display_data"
    }
   ],
   "source": [
    "Q4_graph.plot_graph(with_labels=True, node_size=200)"
   ]
  },
  {
   "cell_type": "code",
   "execution_count": 27,
   "metadata": {},
   "outputs": [
    {
     "name": "stdout",
     "output_type": "stream",
     "text": [
      "try\n",
      "try\n",
      "try\n",
      "[['9', '6']]\n",
      "[['source', '1', '4', '5', 'sink'], ['source', '3', '9', '6', '8', 'sink']]\n"
     ]
    }
   ],
   "source": [
    "edges_to_cut = Q4_graph.max_flow_func('source', 'sink')"
   ]
  },
  {
   "cell_type": "code",
   "execution_count": 28,
   "metadata": {},
   "outputs": [
    {
     "data": {
      "text/plain": [
       "['9 --> 6', '5 --> sink']"
      ]
     },
     "execution_count": 28,
     "metadata": {},
     "output_type": "execute_result"
    }
   ],
   "source": [
    "edges_to_cut"
   ]
  },
  {
   "cell_type": "code",
   "execution_count": null,
   "metadata": {},
   "outputs": [],
   "source": []
  }
 ],
 "metadata": {
  "kernelspec": {
   "display_name": "Python 3",
   "language": "python",
   "name": "python3"
  },
  "language_info": {
   "codemirror_mode": {
    "name": "ipython",
    "version": 3
   },
   "file_extension": ".py",
   "mimetype": "text/x-python",
   "name": "python",
   "nbconvert_exporter": "python",
   "pygments_lexer": "ipython3",
   "version": "3.7.9"
  }
 },
 "nbformat": 4,
 "nbformat_minor": 4
}
