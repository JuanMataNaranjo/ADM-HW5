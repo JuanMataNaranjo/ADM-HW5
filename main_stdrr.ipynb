{
 "cells": [
  {
   "cell_type": "markdown",
   "metadata": {},
   "source": [
    "# Homework 5 - Explore Wikipedia's hyperlinks network"
   ]
  },
  {
   "cell_type": "markdown",
   "metadata": {},
   "source": [
    "## Data handling"
   ]
  },
  {
   "cell_type": "code",
   "execution_count": 4,
   "metadata": {},
   "outputs": [],
   "source": [
    "import scripts.functionality as funcs\n",
    "from scripts.graph import Graph\n",
    "import pandas as pd\n",
    "from collections import defaultdict\n",
    "from scripts.graph import Graph"
   ]
  },
  {
   "cell_type": "code",
   "execution_count": 2,
   "metadata": {},
   "outputs": [],
   "source": [
    "%load_ext autoreload\n",
    "%autoreload 2"
   ]
  },
  {
   "cell_type": "code",
   "execution_count": 3,
   "metadata": {},
   "outputs": [],
   "source": [
    "link_dict = funcs.read_graph()\n",
    "link_dict = defaultdict(set, link_dict)"
   ]
  },
  {
   "cell_type": "markdown",
   "metadata": {},
   "source": [
    "##### Read Data and save to json"
   ]
  },
  {
   "cell_type": "code",
   "execution_count": 40,
   "metadata": {},
   "outputs": [],
   "source": [
    "pages_category = funcs.read_pages_category(filename='data/wiki-topcats-categories.txt')\n",
    "funcs.write_json('data/page_category.json', pages_category)"
   ]
  },
  {
   "cell_type": "code",
   "execution_count": 41,
   "metadata": {},
   "outputs": [],
   "source": [
    "name_page = funcs.read_name_page(filename='data/wiki-topcats-page-names.txt')\n",
    "funcs.write_json('data/name_page.json', name_page)"
   ]
  },
  {
   "cell_type": "markdown",
   "metadata": {},
   "source": [
    "##### Read data from json"
   ]
  },
  {
   "cell_type": "code",
   "execution_count": 42,
   "metadata": {},
   "outputs": [],
   "source": [
    "# pages_category: Key is the category, and value is a list of integers which is associated to a set of articles\n",
    "# name_page: Key is an integer that identifies the article. The value associated is the name of the article\n",
    "\n",
    "pages_category = funcs.read_json('data/page_category.json')\n",
    "name_page = funcs.read_json_int_key('data/name_page.json')"
   ]
  },
  {
   "cell_type": "markdown",
   "metadata": {},
   "source": [
    "##### Understanding the data\n",
    "\n",
    "- Edge_ID seems to be unique. This is the main reason for which we think it is the unique edge identifier\n",
    "- From pages_category we have a set of category names (e.g. Members_of_the_Parliament_of_Great_Britain_for_Scottish_constituencies). These are the keys of the dictionary.\n",
    "- The values in each of these keys are the pages contained in this category (e.g. '34683')\n",
    "- The actual name of this page can be found in the dictionary name_page (the result seems to be a page somewhat related to that specific category)"
   ]
  },
  {
   "cell_type": "code",
   "execution_count": 43,
   "metadata": {},
   "outputs": [],
   "source": [
    "categories = list(pages_category.keys())\n",
    "for c in categories:\n",
    "    if not (5000 < len(pages_category[c]) < 30000):\n",
    "        pages_category.pop(c)"
   ]
  },
  {
   "cell_type": "code",
   "execution_count": 44,
   "metadata": {
    "scrolled": true
   },
   "outputs": [],
   "source": [
    "# Find articles assigned to multiple categories\n",
    "article_category = funcs.revert_dict_list(pages_category)"
   ]
  },
  {
   "cell_type": "code",
   "execution_count": 45,
   "metadata": {},
   "outputs": [],
   "source": [
    "# Randomly pick one category for each article\n",
    "unique_category = funcs.uniformly_pick_article_category(article_category)"
   ]
  },
  {
   "cell_type": "code",
   "execution_count": 46,
   "metadata": {},
   "outputs": [],
   "source": [
    "# Revert back from articles to categories\n",
    "final_pages_category = funcs.revert_dict(unique_category)\n",
    "funcs.write_json('data/final_pages_category.json', final_pages_category)"
   ]
  },
  {
   "cell_type": "code",
   "execution_count": 47,
   "metadata": {},
   "outputs": [],
   "source": [
    "pages_category = funcs.read_json('data/final_pages_category.json')"
   ]
  },
  {
   "cell_type": "code",
   "execution_count": 48,
   "metadata": {},
   "outputs": [
    {
     "data": {
      "text/plain": [
       "21"
      ]
     },
     "execution_count": 48,
     "metadata": {},
     "output_type": "execute_result"
    }
   ],
   "source": [
    "len(pages_category.keys())"
   ]
  },
  {
   "cell_type": "code",
   "execution_count": 49,
   "metadata": {},
   "outputs": [
    {
     "data": {
      "text/plain": [
       "149794"
      ]
     },
     "execution_count": 49,
     "metadata": {},
     "output_type": "execute_result"
    }
   ],
   "source": [
    "vertices = set()\n",
    "for c in pages_category:\n",
    "    vertices.update(pages_category[c])\n",
    "len(vertices)"
   ]
  },
  {
   "cell_type": "markdown",
   "metadata": {},
   "source": [
    "<br>\n",
    "\n",
    "## Question 1 ~ Build the graph"
   ]
  },
  {
   "cell_type": "markdown",
   "metadata": {},
   "source": [
    "As the first step, we build the graph leveraging the custom Graph class we defined:"
   ]
  },
  {
   "cell_type": "code",
   "execution_count": 50,
   "metadata": {},
   "outputs": [],
   "source": [
    "g = Graph.from_dict(link_dict)"
   ]
  },
  {
   "cell_type": "markdown",
   "metadata": {},
   "source": [
    "#### Is the graph directed?\n",
    "\n",
    "The graph is directed, since each node corresponds to a Wikipedia article and each edge corresponds to a web link from an article to another."
   ]
  },
  {
   "cell_type": "markdown",
   "metadata": {},
   "source": [
    "#### How many articles are we considering?\n",
    "\n",
    "The number of articles we are considering is equal to the number of nodes in the graph, that is the number of nodes which appear in our reduced dataset."
   ]
  },
  {
   "cell_type": "code",
   "execution_count": 13,
   "metadata": {},
   "outputs": [
    {
     "name": "stdout",
     "output_type": "stream",
     "text": [
      "Number of articles:\t98343\n"
     ]
    }
   ],
   "source": [
    "print(f'Number of articles:\\t{g.n_vertices_}')"
   ]
  },
  {
   "cell_type": "markdown",
   "metadata": {},
   "source": [
    "#### How many hyperlinks between pages exist?\n",
    "\n",
    "The number of hyperlinks between the pages is equal to the number of edges in the graph."
   ]
  },
  {
   "cell_type": "code",
   "execution_count": 14,
   "metadata": {},
   "outputs": [
    {
     "name": "stdout",
     "output_type": "stream",
     "text": [
      "Number of hyperlinks:\t483094\n"
     ]
    }
   ],
   "source": [
    "print(f'Number of hyperlinks:\\t{g.n_edges_}')"
   ]
  },
  {
   "cell_type": "markdown",
   "metadata": {},
   "source": [
    "#### Compute the average number of links in an arbitrary page\n",
    "\n",
    "The average number of links in an arbitrary page is simply equal to the fraction of the number of links over the number of vertices."
   ]
  },
  {
   "cell_type": "code",
   "execution_count": 15,
   "metadata": {},
   "outputs": [
    {
     "name": "stdout",
     "output_type": "stream",
     "text": [
      "Average number of links in an arbitrary page:\t4.912\n"
     ]
    }
   ],
   "source": [
    "print(f'Average number of links in an arbitrary page:\\t{round(g.n_edges_ / g.n_vertices_,3)}')"
   ]
  },
  {
   "cell_type": "markdown",
   "metadata": {},
   "source": [
    "#### What is the graph density? Do you believe that the graph is dense or sparse? Is the graph dense?\n",
    "\n",
    "The density of a graph is the ratio between the effective number of edges in the graph and the maximum number of possible edges of the graph. That is, let $\\mathbf{G}(V, E)$ a directed graph, where $V$ is the set of nodes of the graph and $E$ is the set of edges. Then the density is:\n",
    "\n",
    "$$D=\\frac{|E|}{2{V\\choose 2}}=\\frac{|E|}{|V|\\cdot \\left(|V| - 1\\right)}$$\n",
    "\n",
    "A graph is said to be *dense* if $D\\approx 1$. Otherwise, it is said *sparse* if $D\\approx 0$.\n",
    "\n",
    "We now compute the density of the our graph."
   ]
  },
  {
   "cell_type": "code",
   "execution_count": 16,
   "metadata": {},
   "outputs": [
    {
     "name": "stdout",
     "output_type": "stream",
     "text": [
      "Density of the graph:\t4.995e-05\n"
     ]
    }
   ],
   "source": [
    "print(f'Density of the graph:\\t{g.density_}')"
   ]
  },
  {
   "cell_type": "markdown",
   "metadata": {},
   "source": [
    "The magnitude order of the density of the graph is order of 10<sup>-4</sup>, then it is a sparse graph."
   ]
  },
  {
   "cell_type": "markdown",
   "metadata": {},
   "source": [
    "#### Visualize the nodes' degree distribution\n",
    "\n",
    "The nodes' degree distribution shows how many vertices the graph has with degree d. \n",
    "\n",
    "For the graph we are analysing, the degree distribution is the following:"
   ]
  },
  {
   "cell_type": "code",
   "execution_count": 9,
   "metadata": {
    "scrolled": false
   },
   "outputs": [
    {
     "data": {
      "image/png": "[encoded data removed]",
      "text/plain": [
       "<Figure size 1152x720 with 1 Axes>"
      ]
     },
     "metadata": {
      "needs_background": "light"
     },
     "output_type": "display_data"
    }
   ],
   "source": [
    "g.plot_degree_distro(normalize=True, log=True)"
   ]
  },
  {
   "cell_type": "markdown",
   "metadata": {},
   "source": [
    "## Question 3"
   ]
  },
  {
   "cell_type": "code",
   "execution_count": 51,
   "metadata": {},
   "outputs": [],
   "source": [
    "categories = funcs.read_graph_category(g)"
   ]
  },
  {
   "cell_type": "code",
   "execution_count": 52,
   "metadata": {},
   "outputs": [
    {
     "data": {
      "text/plain": [
       "98343"
      ]
     },
     "execution_count": 52,
     "metadata": {},
     "output_type": "execute_result"
    }
   ],
   "source": [
    "vertices = set()\n",
    "for c in categories:\n",
    "    vertices.update(categories[c])\n",
    "len(vertices)"
   ]
  },
  {
   "cell_type": "code",
   "execution_count": 55,
   "metadata": {},
   "outputs": [
    {
     "data": {
      "text/plain": [
       "[('American_film_actors', 9084),\n",
       " ('American_films', 7573),\n",
       " ('American_television_actors', 6493),\n",
       " ('Association_football_defenders', 2140),\n",
       " ('Association_football_forwards', 2520),\n",
       " ('Association_football_midfielders', 2793),\n",
       " ('Asteroids_named_for_people', 2371),\n",
       " ('Black-and-white_films', 5143),\n",
       " ('Debut_albums', 2553),\n",
       " ('English-language_films', 13354),\n",
       " ('English_footballers', 3607),\n",
       " ('Harvard_University_alumni', 2966),\n",
       " ('Indian_films', 2741),\n",
       " ('Main_Belt_asteroids', 8627),\n",
       " ('Major_League_Baseball_pitchers', 3307),\n",
       " ('Members_of_the_United_Kingdom_Parliament_for_English_constituencies', 6431),\n",
       " ('Place_of_birth_missing_(living_people)', 2533),\n",
       " ('Rivers_of_Romania', 7662),\n",
       " ('The_Football_League_players', 3581),\n",
       " ('Year_of_birth_missing', 1466),\n",
       " ('Year_of_death_missing', 1398)]"
      ]
     },
     "execution_count": 55,
     "metadata": {},
     "output_type": "execute_result"
    }
   ],
   "source": [
    "[(c,len(categories[c])) for c in categories.keys()]"
   ]
  },
  {
   "cell_type": "code",
   "execution_count": 56,
   "metadata": {},
   "outputs": [
    {
     "data": {
      "text/plain": [
       "21"
      ]
     },
     "execution_count": 56,
     "metadata": {},
     "output_type": "execute_result"
    }
   ],
   "source": [
    "len(categories)"
   ]
  },
  {
   "cell_type": "code",
   "execution_count": 29,
   "metadata": {
    "scrolled": true
   },
   "outputs": [
    {
     "name": "stderr",
     "output_type": "stream",
     "text": [
      "6it [00:01,  4.40it/s]\n"
     ]
    }
   ],
   "source": [
    "wg = g.dist_weighted_graph(categories['Year_of_death_missing'])"
   ]
  },
  {
   "cell_type": "code",
   "execution_count": 28,
   "metadata": {
    "scrolled": true
   },
   "outputs": [
    {
     "name": "stderr",
     "output_type": "stream",
     "text": [
      "6it [00:01,  3.19it/s]\n"
     ]
    }
   ],
   "source": [
    "wg = g.dist_weighted_graph(categories['Action_comedy_films'])"
   ]
  },
  {
   "cell_type": "code",
   "execution_count": 30,
   "metadata": {},
   "outputs": [
    {
     "data": {
      "image/png": "[encoded data removed]",
      "text/plain": [
       "<Figure size 864x576 with 1 Axes>"
      ]
     },
     "metadata": {},
     "output_type": "display_data"
    }
   ],
   "source": [
    "wg.plot_graph()"
   ]
  },
  {
   "cell_type": "code",
   "execution_count": 15,
   "metadata": {},
   "outputs": [
    {
     "data": {
      "text/plain": [
       "15"
      ]
     },
     "execution_count": 15,
     "metadata": {},
     "output_type": "execute_result"
    }
   ],
   "source": [
    "# wgg = wg.to_undirected()\n",
    "# wgg.nearest_neighbor(1028673) + (wgg.n_vertices_ / 2) * 10000\n",
    "wg.nearest_neighbor(1060920)"
   ]
  },
  {
   "cell_type": "code",
   "execution_count": 57,
   "metadata": {},
   "outputs": [
    {
     "name": "stderr",
     "output_type": "stream",
     "text": [
      "1398it [01:18, 17.84it/s]\n"
     ]
    },
    {
     "name": "stdout",
     "output_type": "stream",
     "text": [
      "1264284\n",
      "Not possible!\n"
     ]
    }
   ],
   "source": [
    "g.minimum_cat_walk(categories['Year_of_death_missing'])"
   ]
  },
  {
   "cell_type": "markdown",
   "metadata": {},
   "source": [
    "## Question 5 ~ Sort categories"
   ]
  },
  {
   "cell_type": "markdown",
   "metadata": {},
   "source": [
    "In this task we are asked to sort all other categories according to their distances from a given category. The distance between two categories is defined as the median of the distances between each pair of nodes in the two categories.\n",
    "\n",
    "As a first step, we load the categories of the graph:"
   ]
  },
  {
   "cell_type": "code",
   "execution_count": 58,
   "metadata": {},
   "outputs": [],
   "source": [
    "categories = funcs.read_graph_category(g)"
   ]
  },
  {
   "cell_type": "markdown",
   "metadata": {},
   "source": [
    "At this point, we compute the category distances:"
   ]
  },
  {
   "cell_type": "code",
   "execution_count": 61,
   "metadata": {
    "scrolled": true
   },
   "outputs": [
    {
     "name": "stderr",
     "output_type": "stream",
     "text": [
      "1398it [01:10, 19.77it/s]\n"
     ]
    }
   ],
   "source": [
    "sorted_cat = g.category_distance('Year_of_death_missing', categories)"
   ]
  },
  {
   "cell_type": "markdown",
   "metadata": {},
   "source": [
    "Since the list can be very long, we visualize only the first 15 elements, i.e. the 15 nearest categories:"
   ]
  },
  {
   "cell_type": "code",
   "execution_count": 62,
   "metadata": {},
   "outputs": [
    {
     "data": {
      "text/plain": [
       "[array(['American_film_actors', 'inf'], dtype='<U67'),\n",
       " array(['The_Football_League_players', 'inf'], dtype='<U67'),\n",
       " array(['Rivers_of_Romania', 'inf'], dtype='<U67'),\n",
       " array(['Place_of_birth_missing_(living_people)', 'inf'], dtype='<U67'),\n",
       " array(['Members_of_the_United_Kingdom_Parliament_for_English_constituencies',\n",
       "        'inf'], dtype='<U67'),\n",
       " array(['Major_League_Baseball_pitchers', 'inf'], dtype='<U67'),\n",
       " array(['Main_Belt_asteroids', 'inf'], dtype='<U67'),\n",
       " array(['Indian_films', 'inf'], dtype='<U67'),\n",
       " array(['Harvard_University_alumni', 'inf'], dtype='<U67'),\n",
       " array(['Year_of_birth_missing', 'inf'], dtype='<U67'),\n",
       " array(['English_footballers', 'inf'], dtype='<U67'),\n",
       " array(['Debut_albums', 'inf'], dtype='<U67'),\n",
       " array(['Black-and-white_films', 'inf'], dtype='<U67'),\n",
       " array(['Asteroids_named_for_people', 'inf'], dtype='<U67'),\n",
       " array(['Association_football_midfielders', 'inf'], dtype='<U67'),\n",
       " array(['Association_football_forwards', 'inf'], dtype='<U67'),\n",
       " array(['Association_football_defenders', 'inf'], dtype='<U67'),\n",
       " array(['American_television_actors', 'inf'], dtype='<U67'),\n",
       " array(['American_films', 'inf'], dtype='<U67'),\n",
       " array(['English-language_films', 'inf'], dtype='<U67'),\n",
       " array(['Year_of_death_missing', 'inf'], dtype='<U67')]"
      ]
     },
     "execution_count": 62,
     "metadata": {},
     "output_type": "execute_result"
    }
   ],
   "source": [
    "sorted_cat"
   ]
  },
  {
   "cell_type": "markdown",
   "metadata": {},
   "source": [
    "The results above are computed with the Dijkstra algorithm ($O((V+E)\\log V)$). The results below are computed with the BFS ($O(V+E)$). "
   ]
  },
  {
   "cell_type": "code",
   "execution_count": 31,
   "metadata": {
    "scrolled": true
   },
   "outputs": [],
   "source": [
    "sorted_cat = g.category_distance('American_agnostics', categories)"
   ]
  },
  {
   "cell_type": "code",
   "execution_count": 39,
   "metadata": {},
   "outputs": [
    {
     "data": {
      "text/plain": [
       "['Jews_from_Galicia_(Eastern_Europe)',\n",
       " 'Metafictional_works',\n",
       " 'People_from_Munich',\n",
       " 'Businesspeople_from_California',\n",
       " 'Kennedy_Center_honorees',\n",
       " 'American_blues_musicians',\n",
       " 'Olivier_Award_winners',\n",
       " 'Hungarian_emigrants_to_the_United_States',\n",
       " 'Deaths_from_cerebral_hemorrhage',\n",
       " 'Historians_of_Nazism',\n",
       " 'San_Diego_State_University_alumni',\n",
       " '1960s_American_television_series',\n",
       " 'Australian_child_actors',\n",
       " 'Films_set_within_one_day',\n",
       " 'Films_shot_in_Arizona']"
      ]
     },
     "execution_count": 39,
     "metadata": {},
     "output_type": "execute_result"
    }
   ],
   "source": [
    "sorted_cat[:15]"
   ]
  },
  {
   "cell_type": "code",
   "execution_count": null,
   "metadata": {},
   "outputs": [],
   "source": []
  }
 ],
 "metadata": {
  "kernelspec": {
   "display_name": "Python 3",
   "language": "python",
   "name": "python3"
  },
  "language_info": {
   "codemirror_mode": {
    "name": "ipython",
    "version": 3
   },
   "file_extension": ".py",
   "mimetype": "text/x-python",
   "name": "python",
   "nbconvert_exporter": "python",
   "pygments_lexer": "ipython3",
   "version": "3.8.3"
  }
 },
 "nbformat": 4,
 "nbformat_minor": 4
}
